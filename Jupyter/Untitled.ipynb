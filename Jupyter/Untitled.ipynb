{
 "cells": [
  {
   "cell_type": "markdown",
   "id": "86d0e84f-ec38-40b3-89e0-62682bb138f5",
   "metadata": {},
   "source": [
    "# Housing Affordability Project\n",
    "\n",
    "### The goal of this project is to answer the following questions:\n",
    "\n",
    "1. What cities have the highest income equality, and what cities have the highest rent-to-income ratio?\n",
    "2. Are there relationships between these two metrics, and potentially others like population growth and homelessness?"
   ]
  },
  {
   "cell_type": "code",
   "execution_count": null,
   "id": "7cdbad7c-2bdc-47a3-a707-c44dac675426",
   "metadata": {},
   "outputs": [],
   "source": []
  },
  {
   "cell_type": "code",
   "execution_count": null,
   "id": "e03971dc-dd90-46d5-8671-27c39252fd5e",
   "metadata": {},
   "outputs": [],
   "source": []
  },
  {
   "cell_type": "code",
   "execution_count": null,
   "id": "9b401573-16dc-4f3d-80fb-f51234dfb503",
   "metadata": {},
   "outputs": [],
   "source": []
  },
  {
   "cell_type": "markdown",
   "id": "c3c5ae19-3c7a-4285-9b57-acaac3a489f6",
   "metadata": {},
   "source": []
  }
 ],
 "metadata": {
  "kernelspec": {
   "display_name": "Python 3 (ipykernel)",
   "language": "python",
   "name": "python3"
  },
  "language_info": {
   "codemirror_mode": {
    "name": "ipython",
    "version": 3
   },
   "file_extension": ".py",
   "mimetype": "text/x-python",
   "name": "python",
   "nbconvert_exporter": "python",
   "pygments_lexer": "ipython3",
   "version": "3.11.13"
  }
 },
 "nbformat": 4,
 "nbformat_minor": 5
}
