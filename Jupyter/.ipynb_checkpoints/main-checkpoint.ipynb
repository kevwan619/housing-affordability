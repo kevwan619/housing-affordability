{
 "cells": [
  {
   "cell_type": "markdown",
   "id": "86d0e84f-ec38-40b3-89e0-62682bb138f5",
   "metadata": {},
   "source": [
    "# Housing Affordability Project"
   ]
  },
  {
   "cell_type": "markdown",
   "id": "18c0341f-3687-44aa-ac14-784afab14769",
   "metadata": {},
   "source": [
    "### Leading questions\n",
    "\n",
    "- What metros have the highest incidence of rent burden? Severe rent burden?\n",
    "- How has the incidence of rent burden and severe rent burden changed over time?\n",
    "- Do patterns emerge between a metro's incidence of rent burden and other metro-wide factors?"
   ]
  },
  {
   "cell_type": "markdown",
   "id": "cfdf016f-86d6-4613-9cc5-ec4914622498",
   "metadata": {},
   "source": [
    "Install required packages for SQL functionality and Census Bureau API calls"
   ]
  },
  {
   "cell_type": "code",
   "execution_count": 1,
   "id": "5d285fd7-5ed4-454c-9594-4f9f314fcd44",
   "metadata": {},
   "outputs": [
    {
     "name": "stdout",
     "output_type": "stream",
     "text": [
      "Requirement already satisfied: pandas in c:\\miniconda3\\envs\\housing_env\\lib\\site-packages (2.2.3)\n",
      "Requirement already satisfied: sqlalchemy in c:\\miniconda3\\envs\\housing_env\\lib\\site-packages (2.0.39)\n",
      "Requirement already satisfied: jupysql in c:\\miniconda3\\envs\\housing_env\\lib\\site-packages (0.11.1)\n",
      "Requirement already satisfied: census in c:\\miniconda3\\envs\\housing_env\\lib\\site-packages (0.8.24)\n",
      "Requirement already satisfied: censusdata in c:\\miniconda3\\envs\\housing_env\\lib\\site-packages (1.15.post1)\n",
      "Requirement already satisfied: requests in c:\\miniconda3\\envs\\housing_env\\lib\\site-packages (2.32.4)\n",
      "Requirement already satisfied: numpy>=1.23.2 in c:\\miniconda3\\envs\\housing_env\\lib\\site-packages (from pandas) (2.0.1)\n",
      "Requirement already satisfied: python-dateutil>=2.8.2 in c:\\miniconda3\\envs\\housing_env\\lib\\site-packages (from pandas) (2.9.0.post0)\n",
      "Requirement already satisfied: pytz>=2020.1 in c:\\miniconda3\\envs\\housing_env\\lib\\site-packages (from pandas) (2024.1)\n",
      "Requirement already satisfied: tzdata>=2022.7 in c:\\miniconda3\\envs\\housing_env\\lib\\site-packages (from pandas) (2025.2)\n",
      "Requirement already satisfied: greenlet!=0.4.17 in c:\\miniconda3\\envs\\housing_env\\lib\\site-packages (from sqlalchemy) (3.1.1)\n",
      "Requirement already satisfied: typing-extensions>=4.6.0 in c:\\miniconda3\\envs\\housing_env\\lib\\site-packages (from sqlalchemy) (4.12.2)\n",
      "Requirement already satisfied: prettytable>=3.12.0 in c:\\miniconda3\\envs\\housing_env\\lib\\site-packages (from jupysql) (3.16.0)\n",
      "Requirement already satisfied: sqlparse in c:\\miniconda3\\envs\\housing_env\\lib\\site-packages (from jupysql) (0.5.2)\n",
      "Requirement already satisfied: ipython-genutils>=0.1.0 in c:\\miniconda3\\envs\\housing_env\\lib\\site-packages (from jupysql) (0.2.0)\n",
      "Requirement already satisfied: jinja2 in c:\\miniconda3\\envs\\housing_env\\lib\\site-packages (from jupysql) (3.1.6)\n",
      "Requirement already satisfied: sqlglot>=11.3.7 in c:\\miniconda3\\envs\\housing_env\\lib\\site-packages (from jupysql) (27.6.0)\n",
      "Requirement already satisfied: jupysql-plugin>=0.4.2 in c:\\miniconda3\\envs\\housing_env\\lib\\site-packages (from jupysql) (0.4.5)\n",
      "Requirement already satisfied: ploomber-core>=0.2.7 in c:\\miniconda3\\envs\\housing_env\\lib\\site-packages (from jupysql) (0.2.27)\n",
      "Requirement already satisfied: charset_normalizer<4,>=2 in c:\\miniconda3\\envs\\housing_env\\lib\\site-packages (from requests) (3.3.2)\n",
      "Requirement already satisfied: idna<4,>=2.5 in c:\\miniconda3\\envs\\housing_env\\lib\\site-packages (from requests) (3.7)\n",
      "Requirement already satisfied: urllib3<3,>=1.21.1 in c:\\miniconda3\\envs\\housing_env\\lib\\site-packages (from requests) (2.5.0)\n",
      "Requirement already satisfied: certifi>=2017.4.17 in c:\\miniconda3\\envs\\housing_env\\lib\\site-packages (from requests) (2025.6.15)\n",
      "Requirement already satisfied: pyyaml in c:\\miniconda3\\envs\\housing_env\\lib\\site-packages (from ploomber-core>=0.2.7->jupysql) (6.0.2)\n",
      "Requirement already satisfied: posthog>=3.0 in c:\\miniconda3\\envs\\housing_env\\lib\\site-packages (from ploomber-core>=0.2.7->jupysql) (6.3.3)\n",
      "Requirement already satisfied: six>=1.5 in c:\\miniconda3\\envs\\housing_env\\lib\\site-packages (from posthog>=3.0->ploomber-core>=0.2.7->jupysql) (1.17.0)\n",
      "Requirement already satisfied: backoff>=1.10.0 in c:\\miniconda3\\envs\\housing_env\\lib\\site-packages (from posthog>=3.0->ploomber-core>=0.2.7->jupysql) (2.2.1)\n",
      "Requirement already satisfied: distro>=1.5.0 in c:\\miniconda3\\envs\\housing_env\\lib\\site-packages (from posthog>=3.0->ploomber-core>=0.2.7->jupysql) (1.9.0)\n",
      "Requirement already satisfied: wcwidth in c:\\miniconda3\\envs\\housing_env\\lib\\site-packages (from prettytable>=3.12.0->jupysql) (0.2.13)\n",
      "Requirement already satisfied: MarkupSafe>=2.0 in c:\\miniconda3\\envs\\housing_env\\lib\\site-packages (from jinja2->jupysql) (3.0.2)\n",
      "Note: you may need to restart the kernel to use updated packages.\n"
     ]
    }
   ],
   "source": [
    "%pip install pandas sqlalchemy jupysql census censusdata requests"
   ]
  },
  {
   "cell_type": "markdown",
   "id": "e748998e-60b2-4339-91c2-3c90c5f09d41",
   "metadata": {},
   "source": [
    "Import packages <br>\n",
    "*NOTE*: need to hide API key before committing to GitHub"
   ]
  },
  {
   "cell_type": "code",
   "execution_count": 64,
   "id": "6074b519-9acc-4148-9122-6cc08d5d3c03",
   "metadata": {},
   "outputs": [],
   "source": [
    "import pandas as pd\n",
    "from sqlalchemy import create_engine\n",
    "from census import Census\n",
    "from config import CENSUS_API_KEY"
   ]
  },
  {
   "cell_type": "markdown",
   "id": "75d2863d-13a3-447e-9572-7a75cd2264b6",
   "metadata": {},
   "source": [
    "Use JupySQL and SQLAlchemy to create and establish connection to a SQLite database"
   ]
  },
  {
   "cell_type": "code",
   "execution_count": 3,
   "id": "b6cc68ff-3386-4fb8-9ea2-0bb40791d0ce",
   "metadata": {},
   "outputs": [
    {
     "data": {
      "text/html": [
       "<span style=\"None\">Connecting to &#x27;sqlite:///housing.db&#x27;</span>"
      ],
      "text/plain": [
       "Connecting to 'sqlite:///housing.db'"
      ]
     },
     "metadata": {},
     "output_type": "display_data"
    }
   ],
   "source": [
    "%load_ext sql\n",
    "engine = create_engine('sqlite:///housing.db')\n",
    "%sql sqlite:///housing.db"
   ]
  },
  {
   "cell_type": "markdown",
   "id": "a4b9067f-0868-4222-ab46-213f325ad6f2",
   "metadata": {},
   "source": [
    "Import Zillow/ZORI data from CSV, save as a pandas dataframe <br>\n",
    "*NOTE:* ZORI data: smoothed, seasonally adjusted, all homes"
   ]
  },
  {
   "cell_type": "code",
   "execution_count": null,
   "id": "c2ee4d5a-48b9-40bf-a3f0-f0f3bf7ad7f3",
   "metadata": {},
   "outputs": [],
   "source": [
    "zori_df = pd.read_csv('../zori_msa.csv')\n",
    "zori_df.head()"
   ]
  },
  {
   "cell_type": "code",
   "execution_count": null,
   "id": "9788df8b-7ef8-4d33-84ed-08f1cfca6ce3",
   "metadata": {},
   "outputs": [],
   "source": [
    "zori_df.to_sql('zori', con=engine, index=False, if_exists='replace')"
   ]
  },
  {
   "cell_type": "code",
   "execution_count": null,
   "id": "6cb4d870-a76b-47dd-9811-0ab7d04453c5",
   "metadata": {},
   "outputs": [],
   "source": [
    "%%sql\n",
    "SELECT RegionName\n",
    "FROM zori\n",
    "WHERE RegionName LIKE '%Seattle, WA%'\n",
    "OR RegionName LIKE '%San Francisco, CA%'\n",
    "OR RegionName LIKE '%New York, NY%'\n",
    "OR RegionName LIKE '%Atlanta, GA%'\n",
    "OR RegionName LIKE '%Phoenix, AZ%'\n",
    "OR RegionName LIKE '%Austin, TX%'\n",
    "OR RegionName LIKE '%Minneapolis, MN%'\n",
    "OR RegionName LIKE '%Detroit, MI%'\n",
    "OR RegionName LIKE '%St. Louis, MO%'"
   ]
  },
  {
   "cell_type": "code",
   "execution_count": 23,
   "id": "6f216638-172d-4783-9fa3-90f8c4b4e3a2",
   "metadata": {},
   "outputs": [
    {
     "data": {
      "text/html": [
       "<table>\n",
       "    <thead>\n",
       "        <tr>\n",
       "            <th>Name</th>\n",
       "        </tr>\n",
       "    </thead>\n",
       "    <tbody>\n",
       "        <tr>\n",
       "            <td>rent_to_income_23</td>\n",
       "        </tr>\n",
       "        <tr>\n",
       "            <td>zori</td>\n",
       "        </tr>\n",
       "    </tbody>\n",
       "</table>"
      ],
      "text/plain": [
       "+-------------------+\n",
       "|        Name       |\n",
       "+-------------------+\n",
       "| rent_to_income_23 |\n",
       "|        zori       |\n",
       "+-------------------+"
      ]
     },
     "execution_count": 23,
     "metadata": {},
     "output_type": "execute_result"
    }
   ],
   "source": [
    "%sqlcmd tables"
   ]
  },
  {
   "cell_type": "code",
   "execution_count": null,
   "id": "3b24b7c6-da76-4c14-ad84-fd9732d03b34",
   "metadata": {},
   "outputs": [],
   "source": [
    "%%sql\n",
    "DROP TABLE IF EXISTS rent_burden_23"
   ]
  },
  {
   "cell_type": "markdown",
   "id": "f16292ac-82ff-4ba2-8719-675c31f72e48",
   "metadata": {},
   "source": [
    "### Imported ZORI CSV into SQLite database"
   ]
  },
  {
   "cell_type": "markdown",
   "id": "e0cb65fb-c2bf-43d8-9f38-3ebffbdff219",
   "metadata": {},
   "source": [
    "==================\n",
    "### Now interacting with Census Bureau API to import rent burden tables"
   ]
  },
  {
   "cell_type": "markdown",
   "id": "003af5e7-2263-45ba-b488-df0daab39121",
   "metadata": {},
   "source": [
    "Set up parameters for Census API pull"
   ]
  },
  {
   "cell_type": "code",
   "execution_count": 4,
   "id": "24cd15c7-afcd-4739-961d-9694cbdd89bd",
   "metadata": {},
   "outputs": [],
   "source": [
    "c = Census(CENSUS_API_KEY)\n",
    "variables = (\n",
    "    \"NAME\",\n",
    "    \"B25070_001E\",  # Total\n",
    "    \"B25070_002E\",  # Less than 10.0\n",
    "    \"B25070_003E\",  # 10.0 to 14.9\n",
    "    \"B25070_004E\",  # 15.0 to 19.9\n",
    "    \"B25070_005E\",  # 20.0 to 24.9\n",
    "    \"B25070_006E\",  # 25.0 to 29.9\n",
    "    \"B25070_007E\",  # 30.0 to 34.9\n",
    "    \"B25070_008E\",  # 35.0 to 39.9\n",
    "    \"B25070_009E\",  # 40.0 to 49.9\n",
    "    \"B25070_010E\",  # 50.0 or more\n",
    "    \"B25070_011E\"   # Not computed\n",
    ")"
   ]
  },
  {
   "cell_type": "markdown",
   "id": "a924841b-9bad-4efe-b7d5-22ad0ff343ab",
   "metadata": {},
   "source": [
    "Pull data <br>\n",
    "*rent_to_income_raw* = list type"
   ]
  },
  {
   "cell_type": "code",
   "execution_count": 5,
   "id": "89b55c61-3215-4e1d-ab40-5a48bb184d25",
   "metadata": {},
   "outputs": [],
   "source": [
    "rent_to_income_raw = c.acs1.get(\n",
    "    variables,\n",
    "    {'for': 'metropolitan statistical area/micropolitan statistical area:*'},\n",
    "    year=2023\n",
    ")"
   ]
  },
  {
   "cell_type": "markdown",
   "id": "01a286d3-f17d-4e1a-8a8c-8be5841a78b3",
   "metadata": {},
   "source": [
    "# Data Cleaning Process / Workflow"
   ]
  },
  {
   "cell_type": "markdown",
   "id": "06d05b1c-cf4d-40c1-8edb-5986cbb68f3c",
   "metadata": {},
   "source": [
    "### Step 0: Save pulled data as a pandas dataframe"
   ]
  },
  {
   "cell_type": "code",
   "execution_count": 6,
   "id": "eac1335e-e57f-4a3f-b1d7-c4112956f33f",
   "metadata": {},
   "outputs": [],
   "source": [
    "rent_to_income_df = pd.DataFrame(rent_to_income_raw)"
   ]
  },
  {
   "cell_type": "markdown",
   "id": "8ca702af-2b14-4d4a-aeac-a6372b46c085",
   "metadata": {},
   "source": [
    "### Step 1: Conduct initial inspection of data"
   ]
  },
  {
   "cell_type": "code",
   "execution_count": 7,
   "id": "1afcc90d-2dff-4244-a0b9-c42b05368ab3",
   "metadata": {},
   "outputs": [
    {
     "name": "stdout",
     "output_type": "stream",
     "text": [
      "<class 'pandas.core.frame.DataFrame'>\n",
      "RangeIndex: 530 entries, 0 to 529\n",
      "Data columns (total 13 columns):\n",
      " #   Column                                                       Non-Null Count  Dtype  \n",
      "---  ------                                                       --------------  -----  \n",
      " 0   NAME                                                         530 non-null    object \n",
      " 1   B25070_001E                                                  529 non-null    float64\n",
      " 2   B25070_002E                                                  529 non-null    float64\n",
      " 3   B25070_003E                                                  529 non-null    float64\n",
      " 4   B25070_004E                                                  529 non-null    float64\n",
      " 5   B25070_005E                                                  529 non-null    float64\n",
      " 6   B25070_006E                                                  529 non-null    float64\n",
      " 7   B25070_007E                                                  529 non-null    float64\n",
      " 8   B25070_008E                                                  529 non-null    float64\n",
      " 9   B25070_009E                                                  529 non-null    float64\n",
      " 10  B25070_010E                                                  529 non-null    float64\n",
      " 11  B25070_011E                                                  529 non-null    float64\n",
      " 12  metropolitan statistical area/micropolitan statistical area  530 non-null    object \n",
      "dtypes: float64(11), object(2)\n",
      "memory usage: 54.0+ KB\n"
     ]
    }
   ],
   "source": [
    "rent_to_income_df.info()"
   ]
  },
  {
   "cell_type": "markdown",
   "id": "18272e2f-61c1-4be1-a6db-6b3f699cc127",
   "metadata": {},
   "source": [
    "Why do columns 0 and 12 have a different non-null count?"
   ]
  },
  {
   "cell_type": "code",
   "execution_count": 8,
   "id": "7122449c-9e02-4909-8130-fb29bc158bf0",
   "metadata": {},
   "outputs": [
    {
     "data": {
      "text/plain": [
       "NAME                                                           0\n",
       "B25070_001E                                                    1\n",
       "B25070_002E                                                    1\n",
       "B25070_003E                                                    1\n",
       "B25070_004E                                                    1\n",
       "B25070_005E                                                    1\n",
       "B25070_006E                                                    1\n",
       "B25070_007E                                                    1\n",
       "B25070_008E                                                    1\n",
       "B25070_009E                                                    1\n",
       "B25070_010E                                                    1\n",
       "B25070_011E                                                    1\n",
       "metropolitan statistical area/micropolitan statistical area    0\n",
       "dtype: int64"
      ]
     },
     "execution_count": 8,
     "metadata": {},
     "output_type": "execute_result"
    }
   ],
   "source": [
    "rent_to_income_df.isnull().sum()"
   ]
  },
  {
   "cell_type": "code",
   "execution_count": 9,
   "id": "26235d9f-e86d-4bb4-b31c-3cfa11e582a1",
   "metadata": {},
   "outputs": [
    {
     "data": {
      "text/html": [
       "<div>\n",
       "<style scoped>\n",
       "    .dataframe tbody tr th:only-of-type {\n",
       "        vertical-align: middle;\n",
       "    }\n",
       "\n",
       "    .dataframe tbody tr th {\n",
       "        vertical-align: top;\n",
       "    }\n",
       "\n",
       "    .dataframe thead th {\n",
       "        text-align: right;\n",
       "    }\n",
       "</style>\n",
       "<table border=\"1\" class=\"dataframe\">\n",
       "  <thead>\n",
       "    <tr style=\"text-align: right;\">\n",
       "      <th></th>\n",
       "      <th>NAME</th>\n",
       "      <th>B25070_001E</th>\n",
       "      <th>B25070_002E</th>\n",
       "      <th>B25070_003E</th>\n",
       "      <th>B25070_004E</th>\n",
       "      <th>B25070_005E</th>\n",
       "      <th>B25070_006E</th>\n",
       "      <th>B25070_007E</th>\n",
       "      <th>B25070_008E</th>\n",
       "      <th>B25070_009E</th>\n",
       "      <th>B25070_010E</th>\n",
       "      <th>B25070_011E</th>\n",
       "      <th>metropolitan statistical area/micropolitan statistical area</th>\n",
       "    </tr>\n",
       "  </thead>\n",
       "  <tbody>\n",
       "    <tr>\n",
       "      <th>323</th>\n",
       "      <td>Murrells Inlet, SC Micro Area</td>\n",
       "      <td>NaN</td>\n",
       "      <td>NaN</td>\n",
       "      <td>NaN</td>\n",
       "      <td>NaN</td>\n",
       "      <td>NaN</td>\n",
       "      <td>NaN</td>\n",
       "      <td>NaN</td>\n",
       "      <td>NaN</td>\n",
       "      <td>NaN</td>\n",
       "      <td>NaN</td>\n",
       "      <td>NaN</td>\n",
       "      <td>34680</td>\n",
       "    </tr>\n",
       "  </tbody>\n",
       "</table>\n",
       "</div>"
      ],
      "text/plain": [
       "                              NAME  B25070_001E  B25070_002E  B25070_003E  \\\n",
       "323  Murrells Inlet, SC Micro Area          NaN          NaN          NaN   \n",
       "\n",
       "     B25070_004E  B25070_005E  B25070_006E  B25070_007E  B25070_008E  \\\n",
       "323          NaN          NaN          NaN          NaN          NaN   \n",
       "\n",
       "     B25070_009E  B25070_010E  B25070_011E  \\\n",
       "323          NaN          NaN          NaN   \n",
       "\n",
       "    metropolitan statistical area/micropolitan statistical area  \n",
       "323                                              34680           "
      ]
     },
     "execution_count": 9,
     "metadata": {},
     "output_type": "execute_result"
    }
   ],
   "source": [
    "rent_to_income_df[rent_to_income_df[\"B25070_001E\"].isnull()]"
   ]
  },
  {
   "cell_type": "markdown",
   "id": "5d951545-983f-4d9f-bde2-0d834930faae",
   "metadata": {},
   "source": [
    "This Micro Area is missing data for this year. Not too relevant since it's not a part of our analysis. No harm in removing it"
   ]
  },
  {
   "cell_type": "code",
   "execution_count": 10,
   "id": "31744537-43f4-4fba-9c01-95a01c2f7b45",
   "metadata": {},
   "outputs": [
    {
     "name": "stdout",
     "output_type": "stream",
     "text": [
      "<class 'pandas.core.frame.DataFrame'>\n",
      "Index: 529 entries, 0 to 529\n",
      "Data columns (total 13 columns):\n",
      " #   Column                                                       Non-Null Count  Dtype  \n",
      "---  ------                                                       --------------  -----  \n",
      " 0   NAME                                                         529 non-null    object \n",
      " 1   B25070_001E                                                  529 non-null    float64\n",
      " 2   B25070_002E                                                  529 non-null    float64\n",
      " 3   B25070_003E                                                  529 non-null    float64\n",
      " 4   B25070_004E                                                  529 non-null    float64\n",
      " 5   B25070_005E                                                  529 non-null    float64\n",
      " 6   B25070_006E                                                  529 non-null    float64\n",
      " 7   B25070_007E                                                  529 non-null    float64\n",
      " 8   B25070_008E                                                  529 non-null    float64\n",
      " 9   B25070_009E                                                  529 non-null    float64\n",
      " 10  B25070_010E                                                  529 non-null    float64\n",
      " 11  B25070_011E                                                  529 non-null    float64\n",
      " 12  metropolitan statistical area/micropolitan statistical area  529 non-null    object \n",
      "dtypes: float64(11), object(2)\n",
      "memory usage: 57.9+ KB\n"
     ]
    }
   ],
   "source": [
    "rent_to_income_df = rent_to_income_df.dropna()\n",
    "rent_to_income_df.info()"
   ]
  },
  {
   "cell_type": "markdown",
   "id": "5e212db0-5a39-43af-b68a-5489b685f120",
   "metadata": {},
   "source": [
    "### Step 2: Rename columns"
   ]
  },
  {
   "cell_type": "code",
   "execution_count": 11,
   "id": "a7827564-5f99-42b9-aba3-a58d9fe4cced",
   "metadata": {},
   "outputs": [],
   "source": [
    "rent_to_income_df.rename(columns={\n",
    "    \"NAME\": \"msa_name\",\n",
    "    \"B25070_001E\": \"hh_total\",\n",
    "    \"B25070_002E\": \"hh_below_10\",\n",
    "    \"B25070_003E\": \"hh_10_to_15\",\n",
    "    \"B25070_004E\": \"hh_15_to_20\",\n",
    "    \"B25070_005E\": \"hh_20_to_25\",\n",
    "    \"B25070_006E\": \"hh_25_to_30\",\n",
    "    \"B25070_007E\": \"hh_30_to_35\",\n",
    "    \"B25070_008E\": \"hh_35_to_40\",\n",
    "    \"B25070_009E\": \"hh_40_to_50\",\n",
    "    \"B25070_010E\": \"hh_above_50\",\n",
    "    \"B25070_011E\": \"not_computed\",\n",
    "    \"metropolitan statistical area/micropolitan statistical area\": \"cbsa_code\"\n",
    "}, inplace=True)"
   ]
  },
  {
   "cell_type": "code",
   "execution_count": 12,
   "id": "1fbe2b6a-36c9-4797-8086-0545571f56bc",
   "metadata": {},
   "outputs": [
    {
     "data": {
      "text/html": [
       "<div>\n",
       "<style scoped>\n",
       "    .dataframe tbody tr th:only-of-type {\n",
       "        vertical-align: middle;\n",
       "    }\n",
       "\n",
       "    .dataframe tbody tr th {\n",
       "        vertical-align: top;\n",
       "    }\n",
       "\n",
       "    .dataframe thead th {\n",
       "        text-align: right;\n",
       "    }\n",
       "</style>\n",
       "<table border=\"1\" class=\"dataframe\">\n",
       "  <thead>\n",
       "    <tr style=\"text-align: right;\">\n",
       "      <th></th>\n",
       "      <th>msa_name</th>\n",
       "      <th>hh_total</th>\n",
       "      <th>hh_below_10</th>\n",
       "      <th>hh_10_to_15</th>\n",
       "      <th>hh_15_to_20</th>\n",
       "      <th>hh_20_to_25</th>\n",
       "      <th>hh_25_to_30</th>\n",
       "      <th>hh_30_to_35</th>\n",
       "      <th>hh_35_to_40</th>\n",
       "      <th>hh_40_to_50</th>\n",
       "      <th>hh_above_50</th>\n",
       "      <th>not_computed</th>\n",
       "      <th>cbsa_code</th>\n",
       "    </tr>\n",
       "  </thead>\n",
       "  <tbody>\n",
       "    <tr>\n",
       "      <th>0</th>\n",
       "      <td>Aberdeen, WA Micro Area</td>\n",
       "      <td>7681.0</td>\n",
       "      <td>205.0</td>\n",
       "      <td>1523.0</td>\n",
       "      <td>725.0</td>\n",
       "      <td>615.0</td>\n",
       "      <td>1116.0</td>\n",
       "      <td>431.0</td>\n",
       "      <td>610.0</td>\n",
       "      <td>543.0</td>\n",
       "      <td>1512.0</td>\n",
       "      <td>401.0</td>\n",
       "      <td>10140</td>\n",
       "    </tr>\n",
       "    <tr>\n",
       "      <th>1</th>\n",
       "      <td>Abilene, TX Metro Area</td>\n",
       "      <td>25067.0</td>\n",
       "      <td>522.0</td>\n",
       "      <td>1670.0</td>\n",
       "      <td>4174.0</td>\n",
       "      <td>2302.0</td>\n",
       "      <td>1957.0</td>\n",
       "      <td>1673.0</td>\n",
       "      <td>2712.0</td>\n",
       "      <td>3262.0</td>\n",
       "      <td>4861.0</td>\n",
       "      <td>1934.0</td>\n",
       "      <td>10180</td>\n",
       "    </tr>\n",
       "    <tr>\n",
       "      <th>2</th>\n",
       "      <td>Adrian, MI Micro Area</td>\n",
       "      <td>7902.0</td>\n",
       "      <td>345.0</td>\n",
       "      <td>754.0</td>\n",
       "      <td>1255.0</td>\n",
       "      <td>432.0</td>\n",
       "      <td>451.0</td>\n",
       "      <td>1492.0</td>\n",
       "      <td>108.0</td>\n",
       "      <td>646.0</td>\n",
       "      <td>1443.0</td>\n",
       "      <td>976.0</td>\n",
       "      <td>10300</td>\n",
       "    </tr>\n",
       "    <tr>\n",
       "      <th>3</th>\n",
       "      <td>Aguadilla, PR Metro Area</td>\n",
       "      <td>30177.0</td>\n",
       "      <td>657.0</td>\n",
       "      <td>1648.0</td>\n",
       "      <td>1811.0</td>\n",
       "      <td>2330.0</td>\n",
       "      <td>815.0</td>\n",
       "      <td>1343.0</td>\n",
       "      <td>1193.0</td>\n",
       "      <td>588.0</td>\n",
       "      <td>2924.0</td>\n",
       "      <td>16868.0</td>\n",
       "      <td>10380</td>\n",
       "    </tr>\n",
       "    <tr>\n",
       "      <th>4</th>\n",
       "      <td>Akron, OH Metro Area</td>\n",
       "      <td>94990.0</td>\n",
       "      <td>3336.0</td>\n",
       "      <td>9661.0</td>\n",
       "      <td>11159.0</td>\n",
       "      <td>10435.0</td>\n",
       "      <td>9377.0</td>\n",
       "      <td>8051.0</td>\n",
       "      <td>6217.0</td>\n",
       "      <td>7753.0</td>\n",
       "      <td>23846.0</td>\n",
       "      <td>5155.0</td>\n",
       "      <td>10420</td>\n",
       "    </tr>\n",
       "  </tbody>\n",
       "</table>\n",
       "</div>"
      ],
      "text/plain": [
       "                   msa_name  hh_total  hh_below_10  hh_10_to_15  hh_15_to_20  \\\n",
       "0   Aberdeen, WA Micro Area    7681.0        205.0       1523.0        725.0   \n",
       "1    Abilene, TX Metro Area   25067.0        522.0       1670.0       4174.0   \n",
       "2     Adrian, MI Micro Area    7902.0        345.0        754.0       1255.0   \n",
       "3  Aguadilla, PR Metro Area   30177.0        657.0       1648.0       1811.0   \n",
       "4      Akron, OH Metro Area   94990.0       3336.0       9661.0      11159.0   \n",
       "\n",
       "   hh_20_to_25  hh_25_to_30  hh_30_to_35  hh_35_to_40  hh_40_to_50  \\\n",
       "0        615.0       1116.0        431.0        610.0        543.0   \n",
       "1       2302.0       1957.0       1673.0       2712.0       3262.0   \n",
       "2        432.0        451.0       1492.0        108.0        646.0   \n",
       "3       2330.0        815.0       1343.0       1193.0        588.0   \n",
       "4      10435.0       9377.0       8051.0       6217.0       7753.0   \n",
       "\n",
       "   hh_above_50  not_computed cbsa_code  \n",
       "0       1512.0         401.0     10140  \n",
       "1       4861.0        1934.0     10180  \n",
       "2       1443.0         976.0     10300  \n",
       "3       2924.0       16868.0     10380  \n",
       "4      23846.0        5155.0     10420  "
      ]
     },
     "execution_count": 12,
     "metadata": {},
     "output_type": "execute_result"
    }
   ],
   "source": [
    "rent_to_income_df.head()"
   ]
  },
  {
   "cell_type": "markdown",
   "id": "86d22252-08b5-4278-94c7-13fc69b07fb2",
   "metadata": {},
   "source": [
    "### Step 3: Add and drop columns"
   ]
  },
  {
   "cell_type": "markdown",
   "id": "00965549-149c-4376-b1c0-42ba6190b501",
   "metadata": {},
   "source": [
    "Adding a year column, which will be useful later after importing other years' data."
   ]
  },
  {
   "cell_type": "code",
   "execution_count": 13,
   "id": "b5b4cc99-0e40-4485-bf67-77c4d6d1bf12",
   "metadata": {},
   "outputs": [],
   "source": [
    "rent_to_income_df[\"year\"] = 2023"
   ]
  },
  {
   "cell_type": "markdown",
   "id": "a60b408f-e821-410c-af79-1b36f0a9b0b2",
   "metadata": {},
   "source": [
    "Create a derived total column that contains the total amount of computed households (hh_total less not_computed) <br>\n",
    "This will be the only \"total\" worth using for analysis"
   ]
  },
  {
   "cell_type": "code",
   "execution_count": 14,
   "id": "bdd6dbe7-4f56-4705-8e38-b71958349065",
   "metadata": {},
   "outputs": [],
   "source": [
    "rent_to_income_df[\"hh_total_computed\"] = rent_to_income_df[\"hh_total\"] - rent_to_income_df[\"not_computed\"]"
   ]
  },
  {
   "cell_type": "markdown",
   "id": "4df84800-103c-4e0c-8f8e-d9db8558043f",
   "metadata": {},
   "source": [
    "Before deleting hh_total and not_computed, verify that my computed column is the sum of sub-columns\n",
    "\n",
    "NOTE:\n",
    "- dataframe axis=0 or axis=1?\n",
    "- dataframe.all() returns true unless at least one element is false or equivalent"
   ]
  },
  {
   "cell_type": "code",
   "execution_count": 15,
   "id": "849c3838-ca74-4549-957c-60f70dbba878",
   "metadata": {},
   "outputs": [
    {
     "data": {
      "text/plain": [
       "np.True_"
      ]
     },
     "execution_count": 15,
     "metadata": {},
     "output_type": "execute_result"
    }
   ],
   "source": [
    "check = rent_to_income_df[\"hh_total_computed\"] == rent_to_income_df[[\"hh_below_10\", \"hh_10_to_15\", \"hh_15_to_20\", \n",
    "\"hh_20_to_25\", \"hh_25_to_30\", \"hh_30_to_35\", \"hh_35_to_40\", \"hh_40_to_50\", \"hh_above_50\"]].sum(axis=1)\n",
    "\n",
    "check.all()"
   ]
  },
  {
   "cell_type": "code",
   "execution_count": 16,
   "id": "c27c58a2-e7f2-4baa-9d8d-94c66630f9d5",
   "metadata": {},
   "outputs": [
    {
     "data": {
      "text/html": [
       "<div>\n",
       "<style scoped>\n",
       "    .dataframe tbody tr th:only-of-type {\n",
       "        vertical-align: middle;\n",
       "    }\n",
       "\n",
       "    .dataframe tbody tr th {\n",
       "        vertical-align: top;\n",
       "    }\n",
       "\n",
       "    .dataframe thead th {\n",
       "        text-align: right;\n",
       "    }\n",
       "</style>\n",
       "<table border=\"1\" class=\"dataframe\">\n",
       "  <thead>\n",
       "    <tr style=\"text-align: right;\">\n",
       "      <th></th>\n",
       "      <th>msa_name</th>\n",
       "      <th>hh_below_10</th>\n",
       "      <th>hh_10_to_15</th>\n",
       "      <th>hh_15_to_20</th>\n",
       "      <th>hh_20_to_25</th>\n",
       "      <th>hh_25_to_30</th>\n",
       "      <th>hh_30_to_35</th>\n",
       "      <th>hh_35_to_40</th>\n",
       "      <th>hh_40_to_50</th>\n",
       "      <th>hh_above_50</th>\n",
       "      <th>cbsa_code</th>\n",
       "      <th>year</th>\n",
       "      <th>hh_total_computed</th>\n",
       "    </tr>\n",
       "  </thead>\n",
       "  <tbody>\n",
       "    <tr>\n",
       "      <th>0</th>\n",
       "      <td>Aberdeen, WA Micro Area</td>\n",
       "      <td>205.0</td>\n",
       "      <td>1523.0</td>\n",
       "      <td>725.0</td>\n",
       "      <td>615.0</td>\n",
       "      <td>1116.0</td>\n",
       "      <td>431.0</td>\n",
       "      <td>610.0</td>\n",
       "      <td>543.0</td>\n",
       "      <td>1512.0</td>\n",
       "      <td>10140</td>\n",
       "      <td>2023</td>\n",
       "      <td>7280.0</td>\n",
       "    </tr>\n",
       "    <tr>\n",
       "      <th>1</th>\n",
       "      <td>Abilene, TX Metro Area</td>\n",
       "      <td>522.0</td>\n",
       "      <td>1670.0</td>\n",
       "      <td>4174.0</td>\n",
       "      <td>2302.0</td>\n",
       "      <td>1957.0</td>\n",
       "      <td>1673.0</td>\n",
       "      <td>2712.0</td>\n",
       "      <td>3262.0</td>\n",
       "      <td>4861.0</td>\n",
       "      <td>10180</td>\n",
       "      <td>2023</td>\n",
       "      <td>23133.0</td>\n",
       "    </tr>\n",
       "    <tr>\n",
       "      <th>2</th>\n",
       "      <td>Adrian, MI Micro Area</td>\n",
       "      <td>345.0</td>\n",
       "      <td>754.0</td>\n",
       "      <td>1255.0</td>\n",
       "      <td>432.0</td>\n",
       "      <td>451.0</td>\n",
       "      <td>1492.0</td>\n",
       "      <td>108.0</td>\n",
       "      <td>646.0</td>\n",
       "      <td>1443.0</td>\n",
       "      <td>10300</td>\n",
       "      <td>2023</td>\n",
       "      <td>6926.0</td>\n",
       "    </tr>\n",
       "    <tr>\n",
       "      <th>3</th>\n",
       "      <td>Aguadilla, PR Metro Area</td>\n",
       "      <td>657.0</td>\n",
       "      <td>1648.0</td>\n",
       "      <td>1811.0</td>\n",
       "      <td>2330.0</td>\n",
       "      <td>815.0</td>\n",
       "      <td>1343.0</td>\n",
       "      <td>1193.0</td>\n",
       "      <td>588.0</td>\n",
       "      <td>2924.0</td>\n",
       "      <td>10380</td>\n",
       "      <td>2023</td>\n",
       "      <td>13309.0</td>\n",
       "    </tr>\n",
       "    <tr>\n",
       "      <th>4</th>\n",
       "      <td>Akron, OH Metro Area</td>\n",
       "      <td>3336.0</td>\n",
       "      <td>9661.0</td>\n",
       "      <td>11159.0</td>\n",
       "      <td>10435.0</td>\n",
       "      <td>9377.0</td>\n",
       "      <td>8051.0</td>\n",
       "      <td>6217.0</td>\n",
       "      <td>7753.0</td>\n",
       "      <td>23846.0</td>\n",
       "      <td>10420</td>\n",
       "      <td>2023</td>\n",
       "      <td>89835.0</td>\n",
       "    </tr>\n",
       "  </tbody>\n",
       "</table>\n",
       "</div>"
      ],
      "text/plain": [
       "                   msa_name  hh_below_10  hh_10_to_15  hh_15_to_20  \\\n",
       "0   Aberdeen, WA Micro Area        205.0       1523.0        725.0   \n",
       "1    Abilene, TX Metro Area        522.0       1670.0       4174.0   \n",
       "2     Adrian, MI Micro Area        345.0        754.0       1255.0   \n",
       "3  Aguadilla, PR Metro Area        657.0       1648.0       1811.0   \n",
       "4      Akron, OH Metro Area       3336.0       9661.0      11159.0   \n",
       "\n",
       "   hh_20_to_25  hh_25_to_30  hh_30_to_35  hh_35_to_40  hh_40_to_50  \\\n",
       "0        615.0       1116.0        431.0        610.0        543.0   \n",
       "1       2302.0       1957.0       1673.0       2712.0       3262.0   \n",
       "2        432.0        451.0       1492.0        108.0        646.0   \n",
       "3       2330.0        815.0       1343.0       1193.0        588.0   \n",
       "4      10435.0       9377.0       8051.0       6217.0       7753.0   \n",
       "\n",
       "   hh_above_50 cbsa_code  year  hh_total_computed  \n",
       "0       1512.0     10140  2023             7280.0  \n",
       "1       4861.0     10180  2023            23133.0  \n",
       "2       1443.0     10300  2023             6926.0  \n",
       "3       2924.0     10380  2023            13309.0  \n",
       "4      23846.0     10420  2023            89835.0  "
      ]
     },
     "execution_count": 16,
     "metadata": {},
     "output_type": "execute_result"
    }
   ],
   "source": [
    "rent_to_income_df = rent_to_income_df.drop(columns=[\"hh_total\", \"not_computed\"], inplace=False)\n",
    "rent_to_income_df.head()"
   ]
  },
  {
   "cell_type": "markdown",
   "id": "eba13815-c9af-4770-8df3-4d96c78a1d11",
   "metadata": {},
   "source": [
    "### Step 4: Filter/delete rows"
   ]
  },
  {
   "cell_type": "markdown",
   "id": "074c4ce5-3c13-4b8b-9ae7-14ca13a07696",
   "metadata": {},
   "source": [
    "For this project, I am looking at data for 9 MSAs"
   ]
  },
  {
   "cell_type": "markdown",
   "id": "49e21c73-1c04-49aa-9f30-12f2482805c1",
   "metadata": {},
   "source": [
    "Since exact MSA names can change year over year, use CBSA codes, which are stable over time, for best reproducibility.\n",
    "- seattle: 42660\n",
    "- SF: 41860\n",
    "- NYC: 35620\n",
    "- atlanta: 12060\n",
    "- phoenix: 38060\n",
    "- austin: 12420\n",
    "- minneapolis: 33460\n",
    "- detroit: 19820\n",
    "- st louis: 41180"
   ]
  },
  {
   "cell_type": "code",
   "execution_count": 17,
   "id": "17cc04f6-6bf1-441f-a2a8-197f894ad896",
   "metadata": {},
   "outputs": [],
   "source": [
    "# rent_to_income_df[rent_to_income_df[\"msa_name\"].str.contains(\"st. louis\", case=False, na=False)]\n",
    "\n",
    "target_cbsa_codes = [\"42660\", \"41860\", \"35620\", \"12060\", \"38060\",\n",
    "                     \"12420\", \"33460\", \"19820\", \"41180\"]"
   ]
  },
  {
   "cell_type": "markdown",
   "id": "4cd3e142-e8f9-4807-9165-99544b77dd5f",
   "metadata": {},
   "source": [
    "Boolean indexing, reassign df of 9 relevant MSAs to itself"
   ]
  },
  {
   "cell_type": "code",
   "execution_count": 18,
   "id": "2a03ce9c-9875-47be-a2ee-2108511fe45f",
   "metadata": {},
   "outputs": [],
   "source": [
    "rent_to_income_df = rent_to_income_df[rent_to_income_df[\"cbsa_code\"].isin(target_cbsa_codes)]"
   ]
  },
  {
   "cell_type": "code",
   "execution_count": 22,
   "id": "aeefe60e-14c1-44c7-b575-60f12107ed16",
   "metadata": {},
   "outputs": [
    {
     "name": "stdout",
     "output_type": "stream",
     "text": [
      "<class 'pandas.core.frame.DataFrame'>\n",
      "Index: 9 entries, 28 to 437\n",
      "Data columns (total 13 columns):\n",
      " #   Column             Non-Null Count  Dtype  \n",
      "---  ------             --------------  -----  \n",
      " 0   msa_name           9 non-null      object \n",
      " 1   hh_below_10        9 non-null      float64\n",
      " 2   hh_10_to_15        9 non-null      float64\n",
      " 3   hh_15_to_20        9 non-null      float64\n",
      " 4   hh_20_to_25        9 non-null      float64\n",
      " 5   hh_25_to_30        9 non-null      float64\n",
      " 6   hh_30_to_35        9 non-null      float64\n",
      " 7   hh_35_to_40        9 non-null      float64\n",
      " 8   hh_40_to_50        9 non-null      float64\n",
      " 9   hh_above_50        9 non-null      float64\n",
      " 10  cbsa_code          9 non-null      object \n",
      " 11  year               9 non-null      int64  \n",
      " 12  hh_total_computed  9 non-null      float64\n",
      "dtypes: float64(10), int64(1), object(2)\n",
      "memory usage: 1008.0+ bytes\n"
     ]
    },
    {
     "data": {
      "text/html": [
       "<div>\n",
       "<style scoped>\n",
       "    .dataframe tbody tr th:only-of-type {\n",
       "        vertical-align: middle;\n",
       "    }\n",
       "\n",
       "    .dataframe tbody tr th {\n",
       "        vertical-align: top;\n",
       "    }\n",
       "\n",
       "    .dataframe thead th {\n",
       "        text-align: right;\n",
       "    }\n",
       "</style>\n",
       "<table border=\"1\" class=\"dataframe\">\n",
       "  <thead>\n",
       "    <tr style=\"text-align: right;\">\n",
       "      <th></th>\n",
       "      <th>msa_name</th>\n",
       "      <th>hh_below_10</th>\n",
       "      <th>hh_10_to_15</th>\n",
       "      <th>hh_15_to_20</th>\n",
       "      <th>hh_20_to_25</th>\n",
       "      <th>hh_25_to_30</th>\n",
       "      <th>hh_30_to_35</th>\n",
       "      <th>hh_35_to_40</th>\n",
       "      <th>hh_40_to_50</th>\n",
       "      <th>hh_above_50</th>\n",
       "      <th>cbsa_code</th>\n",
       "      <th>year</th>\n",
       "      <th>hh_total_computed</th>\n",
       "    </tr>\n",
       "  </thead>\n",
       "  <tbody>\n",
       "    <tr>\n",
       "      <th>28</th>\n",
       "      <td>Atlanta-Sandy Springs-Roswell, GA Metro Area</td>\n",
       "      <td>21003.0</td>\n",
       "      <td>49743.0</td>\n",
       "      <td>75242.0</td>\n",
       "      <td>89727.0</td>\n",
       "      <td>81012.0</td>\n",
       "      <td>71338.0</td>\n",
       "      <td>50769.0</td>\n",
       "      <td>71975.0</td>\n",
       "      <td>222452.0</td>\n",
       "      <td>12060</td>\n",
       "      <td>2023</td>\n",
       "      <td>733261.0</td>\n",
       "    </tr>\n",
       "    <tr>\n",
       "      <th>34</th>\n",
       "      <td>Austin-Round Rock-San Marcos, TX Metro Area</td>\n",
       "      <td>13440.0</td>\n",
       "      <td>29605.0</td>\n",
       "      <td>49366.0</td>\n",
       "      <td>56499.0</td>\n",
       "      <td>48003.0</td>\n",
       "      <td>42110.0</td>\n",
       "      <td>31612.0</td>\n",
       "      <td>44189.0</td>\n",
       "      <td>101072.0</td>\n",
       "      <td>12420</td>\n",
       "      <td>2023</td>\n",
       "      <td>415896.0</td>\n",
       "    </tr>\n",
       "    <tr>\n",
       "      <th>125</th>\n",
       "      <td>Detroit-Warren-Dearborn, MI Metro Area</td>\n",
       "      <td>18544.0</td>\n",
       "      <td>37501.0</td>\n",
       "      <td>51746.0</td>\n",
       "      <td>56461.0</td>\n",
       "      <td>52906.0</td>\n",
       "      <td>44389.0</td>\n",
       "      <td>29309.0</td>\n",
       "      <td>39457.0</td>\n",
       "      <td>124771.0</td>\n",
       "      <td>19820</td>\n",
       "      <td>2023</td>\n",
       "      <td>455084.0</td>\n",
       "    </tr>\n",
       "    <tr>\n",
       "      <th>307</th>\n",
       "      <td>Minneapolis-St. Paul-Bloomington, MN-WI Metro ...</td>\n",
       "      <td>11449.0</td>\n",
       "      <td>40567.0</td>\n",
       "      <td>55334.0</td>\n",
       "      <td>65728.0</td>\n",
       "      <td>51044.0</td>\n",
       "      <td>40382.0</td>\n",
       "      <td>26336.0</td>\n",
       "      <td>38603.0</td>\n",
       "      <td>99337.0</td>\n",
       "      <td>33460</td>\n",
       "      <td>2023</td>\n",
       "      <td>428780.0</td>\n",
       "    </tr>\n",
       "    <tr>\n",
       "      <th>336</th>\n",
       "      <td>New York-Newark-Jersey City, NY-NJ Metro Area</td>\n",
       "      <td>172750.0</td>\n",
       "      <td>308006.0</td>\n",
       "      <td>412797.0</td>\n",
       "      <td>404722.0</td>\n",
       "      <td>381086.0</td>\n",
       "      <td>301108.0</td>\n",
       "      <td>218866.0</td>\n",
       "      <td>299777.0</td>\n",
       "      <td>983573.0</td>\n",
       "      <td>35620</td>\n",
       "      <td>2023</td>\n",
       "      <td>3482685.0</td>\n",
       "    </tr>\n",
       "    <tr>\n",
       "      <th>366</th>\n",
       "      <td>Phoenix-Mesa-Chandler, AZ Metro Area</td>\n",
       "      <td>18898.0</td>\n",
       "      <td>36680.0</td>\n",
       "      <td>62286.0</td>\n",
       "      <td>78489.0</td>\n",
       "      <td>74775.0</td>\n",
       "      <td>54728.0</td>\n",
       "      <td>44810.0</td>\n",
       "      <td>70567.0</td>\n",
       "      <td>159005.0</td>\n",
       "      <td>38060</td>\n",
       "      <td>2023</td>\n",
       "      <td>600238.0</td>\n",
       "    </tr>\n",
       "    <tr>\n",
       "      <th>414</th>\n",
       "      <td>St. Louis, MO-IL Metro Area</td>\n",
       "      <td>14203.0</td>\n",
       "      <td>35854.0</td>\n",
       "      <td>43673.0</td>\n",
       "      <td>40908.0</td>\n",
       "      <td>34864.0</td>\n",
       "      <td>30308.0</td>\n",
       "      <td>21229.0</td>\n",
       "      <td>25421.0</td>\n",
       "      <td>72042.0</td>\n",
       "      <td>41180</td>\n",
       "      <td>2023</td>\n",
       "      <td>318502.0</td>\n",
       "    </tr>\n",
       "    <tr>\n",
       "      <th>425</th>\n",
       "      <td>San Francisco-Oakland-Fremont, CA Metro Area</td>\n",
       "      <td>35962.0</td>\n",
       "      <td>70795.0</td>\n",
       "      <td>94297.0</td>\n",
       "      <td>95128.0</td>\n",
       "      <td>85595.0</td>\n",
       "      <td>66378.0</td>\n",
       "      <td>46364.0</td>\n",
       "      <td>66044.0</td>\n",
       "      <td>190022.0</td>\n",
       "      <td>41860</td>\n",
       "      <td>2023</td>\n",
       "      <td>750585.0</td>\n",
       "    </tr>\n",
       "    <tr>\n",
       "      <th>437</th>\n",
       "      <td>Seattle-Tacoma-Bellevue, WA Metro Area</td>\n",
       "      <td>26376.0</td>\n",
       "      <td>58134.0</td>\n",
       "      <td>84136.0</td>\n",
       "      <td>81065.0</td>\n",
       "      <td>72359.0</td>\n",
       "      <td>59258.0</td>\n",
       "      <td>48272.0</td>\n",
       "      <td>55604.0</td>\n",
       "      <td>148843.0</td>\n",
       "      <td>42660</td>\n",
       "      <td>2023</td>\n",
       "      <td>634047.0</td>\n",
       "    </tr>\n",
       "  </tbody>\n",
       "</table>\n",
       "</div>"
      ],
      "text/plain": [
       "                                              msa_name  hh_below_10  \\\n",
       "28        Atlanta-Sandy Springs-Roswell, GA Metro Area      21003.0   \n",
       "34         Austin-Round Rock-San Marcos, TX Metro Area      13440.0   \n",
       "125             Detroit-Warren-Dearborn, MI Metro Area      18544.0   \n",
       "307  Minneapolis-St. Paul-Bloomington, MN-WI Metro ...      11449.0   \n",
       "336      New York-Newark-Jersey City, NY-NJ Metro Area     172750.0   \n",
       "366               Phoenix-Mesa-Chandler, AZ Metro Area      18898.0   \n",
       "414                        St. Louis, MO-IL Metro Area      14203.0   \n",
       "425       San Francisco-Oakland-Fremont, CA Metro Area      35962.0   \n",
       "437             Seattle-Tacoma-Bellevue, WA Metro Area      26376.0   \n",
       "\n",
       "     hh_10_to_15  hh_15_to_20  hh_20_to_25  hh_25_to_30  hh_30_to_35  \\\n",
       "28       49743.0      75242.0      89727.0      81012.0      71338.0   \n",
       "34       29605.0      49366.0      56499.0      48003.0      42110.0   \n",
       "125      37501.0      51746.0      56461.0      52906.0      44389.0   \n",
       "307      40567.0      55334.0      65728.0      51044.0      40382.0   \n",
       "336     308006.0     412797.0     404722.0     381086.0     301108.0   \n",
       "366      36680.0      62286.0      78489.0      74775.0      54728.0   \n",
       "414      35854.0      43673.0      40908.0      34864.0      30308.0   \n",
       "425      70795.0      94297.0      95128.0      85595.0      66378.0   \n",
       "437      58134.0      84136.0      81065.0      72359.0      59258.0   \n",
       "\n",
       "     hh_35_to_40  hh_40_to_50  hh_above_50 cbsa_code  year  hh_total_computed  \n",
       "28       50769.0      71975.0     222452.0     12060  2023           733261.0  \n",
       "34       31612.0      44189.0     101072.0     12420  2023           415896.0  \n",
       "125      29309.0      39457.0     124771.0     19820  2023           455084.0  \n",
       "307      26336.0      38603.0      99337.0     33460  2023           428780.0  \n",
       "336     218866.0     299777.0     983573.0     35620  2023          3482685.0  \n",
       "366      44810.0      70567.0     159005.0     38060  2023           600238.0  \n",
       "414      21229.0      25421.0      72042.0     41180  2023           318502.0  \n",
       "425      46364.0      66044.0     190022.0     41860  2023           750585.0  \n",
       "437      48272.0      55604.0     148843.0     42660  2023           634047.0  "
      ]
     },
     "execution_count": 22,
     "metadata": {},
     "output_type": "execute_result"
    }
   ],
   "source": [
    "rent_to_income_df.info()\n",
    "rent_to_income_df"
   ]
  },
  {
   "cell_type": "markdown",
   "id": "3fe26c06-7774-47ba-8e45-fda75a715625",
   "metadata": {},
   "source": [
    "### Step 5: Deal with missing data"
   ]
  },
  {
   "cell_type": "markdown",
   "id": "de96d9a2-f12c-4eab-ac47-fc8b0110bbb7",
   "metadata": {},
   "source": [
    "Not a problem for 2023"
   ]
  },
  {
   "cell_type": "markdown",
   "id": "ed55ced8-079d-42f6-ac3a-bfc49c88bb6e",
   "metadata": {},
   "source": []
  },
  {
   "cell_type": "markdown",
   "id": "a3a80d95-832f-4634-9fcf-785b8d5c4dee",
   "metadata": {},
   "source": [
    "### Step 6: Reorder columns"
   ]
  },
  {
   "cell_type": "code",
   "execution_count": 26,
   "id": "d6c2b1af-0070-40da-8f7d-6e215634c560",
   "metadata": {},
   "outputs": [],
   "source": [
    "desired_order = ['cbsa_code', 'msa_name', 'year', 'hh_total_computed', 'hh_below_10',\n",
    "                 'hh_10_to_15', 'hh_15_to_20', 'hh_20_to_25', 'hh_25_to_30', 'hh_30_to_35',\n",
    "                 'hh_35_to_40', 'hh_40_to_50', 'hh_above_50']\n",
    "\n",
    "rent_to_income_df = rent_to_income_df[desired_order]"
   ]
  },
  {
   "cell_type": "code",
   "execution_count": 27,
   "id": "94af93d5-3fb3-4d38-aa66-8e86b1106e51",
   "metadata": {},
   "outputs": [
    {
     "data": {
      "text/html": [
       "<div>\n",
       "<style scoped>\n",
       "    .dataframe tbody tr th:only-of-type {\n",
       "        vertical-align: middle;\n",
       "    }\n",
       "\n",
       "    .dataframe tbody tr th {\n",
       "        vertical-align: top;\n",
       "    }\n",
       "\n",
       "    .dataframe thead th {\n",
       "        text-align: right;\n",
       "    }\n",
       "</style>\n",
       "<table border=\"1\" class=\"dataframe\">\n",
       "  <thead>\n",
       "    <tr style=\"text-align: right;\">\n",
       "      <th></th>\n",
       "      <th>cbsa_code</th>\n",
       "      <th>msa_name</th>\n",
       "      <th>year</th>\n",
       "      <th>hh_total_computed</th>\n",
       "      <th>hh_below_10</th>\n",
       "      <th>hh_10_to_15</th>\n",
       "      <th>hh_15_to_20</th>\n",
       "      <th>hh_20_to_25</th>\n",
       "      <th>hh_25_to_30</th>\n",
       "      <th>hh_30_to_35</th>\n",
       "      <th>hh_35_to_40</th>\n",
       "      <th>hh_40_to_50</th>\n",
       "      <th>hh_above_50</th>\n",
       "    </tr>\n",
       "  </thead>\n",
       "  <tbody>\n",
       "    <tr>\n",
       "      <th>28</th>\n",
       "      <td>12060</td>\n",
       "      <td>Atlanta-Sandy Springs-Roswell, GA Metro Area</td>\n",
       "      <td>2023</td>\n",
       "      <td>733261.0</td>\n",
       "      <td>21003.0</td>\n",
       "      <td>49743.0</td>\n",
       "      <td>75242.0</td>\n",
       "      <td>89727.0</td>\n",
       "      <td>81012.0</td>\n",
       "      <td>71338.0</td>\n",
       "      <td>50769.0</td>\n",
       "      <td>71975.0</td>\n",
       "      <td>222452.0</td>\n",
       "    </tr>\n",
       "    <tr>\n",
       "      <th>34</th>\n",
       "      <td>12420</td>\n",
       "      <td>Austin-Round Rock-San Marcos, TX Metro Area</td>\n",
       "      <td>2023</td>\n",
       "      <td>415896.0</td>\n",
       "      <td>13440.0</td>\n",
       "      <td>29605.0</td>\n",
       "      <td>49366.0</td>\n",
       "      <td>56499.0</td>\n",
       "      <td>48003.0</td>\n",
       "      <td>42110.0</td>\n",
       "      <td>31612.0</td>\n",
       "      <td>44189.0</td>\n",
       "      <td>101072.0</td>\n",
       "    </tr>\n",
       "    <tr>\n",
       "      <th>125</th>\n",
       "      <td>19820</td>\n",
       "      <td>Detroit-Warren-Dearborn, MI Metro Area</td>\n",
       "      <td>2023</td>\n",
       "      <td>455084.0</td>\n",
       "      <td>18544.0</td>\n",
       "      <td>37501.0</td>\n",
       "      <td>51746.0</td>\n",
       "      <td>56461.0</td>\n",
       "      <td>52906.0</td>\n",
       "      <td>44389.0</td>\n",
       "      <td>29309.0</td>\n",
       "      <td>39457.0</td>\n",
       "      <td>124771.0</td>\n",
       "    </tr>\n",
       "    <tr>\n",
       "      <th>307</th>\n",
       "      <td>33460</td>\n",
       "      <td>Minneapolis-St. Paul-Bloomington, MN-WI Metro ...</td>\n",
       "      <td>2023</td>\n",
       "      <td>428780.0</td>\n",
       "      <td>11449.0</td>\n",
       "      <td>40567.0</td>\n",
       "      <td>55334.0</td>\n",
       "      <td>65728.0</td>\n",
       "      <td>51044.0</td>\n",
       "      <td>40382.0</td>\n",
       "      <td>26336.0</td>\n",
       "      <td>38603.0</td>\n",
       "      <td>99337.0</td>\n",
       "    </tr>\n",
       "    <tr>\n",
       "      <th>336</th>\n",
       "      <td>35620</td>\n",
       "      <td>New York-Newark-Jersey City, NY-NJ Metro Area</td>\n",
       "      <td>2023</td>\n",
       "      <td>3482685.0</td>\n",
       "      <td>172750.0</td>\n",
       "      <td>308006.0</td>\n",
       "      <td>412797.0</td>\n",
       "      <td>404722.0</td>\n",
       "      <td>381086.0</td>\n",
       "      <td>301108.0</td>\n",
       "      <td>218866.0</td>\n",
       "      <td>299777.0</td>\n",
       "      <td>983573.0</td>\n",
       "    </tr>\n",
       "    <tr>\n",
       "      <th>366</th>\n",
       "      <td>38060</td>\n",
       "      <td>Phoenix-Mesa-Chandler, AZ Metro Area</td>\n",
       "      <td>2023</td>\n",
       "      <td>600238.0</td>\n",
       "      <td>18898.0</td>\n",
       "      <td>36680.0</td>\n",
       "      <td>62286.0</td>\n",
       "      <td>78489.0</td>\n",
       "      <td>74775.0</td>\n",
       "      <td>54728.0</td>\n",
       "      <td>44810.0</td>\n",
       "      <td>70567.0</td>\n",
       "      <td>159005.0</td>\n",
       "    </tr>\n",
       "    <tr>\n",
       "      <th>414</th>\n",
       "      <td>41180</td>\n",
       "      <td>St. Louis, MO-IL Metro Area</td>\n",
       "      <td>2023</td>\n",
       "      <td>318502.0</td>\n",
       "      <td>14203.0</td>\n",
       "      <td>35854.0</td>\n",
       "      <td>43673.0</td>\n",
       "      <td>40908.0</td>\n",
       "      <td>34864.0</td>\n",
       "      <td>30308.0</td>\n",
       "      <td>21229.0</td>\n",
       "      <td>25421.0</td>\n",
       "      <td>72042.0</td>\n",
       "    </tr>\n",
       "    <tr>\n",
       "      <th>425</th>\n",
       "      <td>41860</td>\n",
       "      <td>San Francisco-Oakland-Fremont, CA Metro Area</td>\n",
       "      <td>2023</td>\n",
       "      <td>750585.0</td>\n",
       "      <td>35962.0</td>\n",
       "      <td>70795.0</td>\n",
       "      <td>94297.0</td>\n",
       "      <td>95128.0</td>\n",
       "      <td>85595.0</td>\n",
       "      <td>66378.0</td>\n",
       "      <td>46364.0</td>\n",
       "      <td>66044.0</td>\n",
       "      <td>190022.0</td>\n",
       "    </tr>\n",
       "    <tr>\n",
       "      <th>437</th>\n",
       "      <td>42660</td>\n",
       "      <td>Seattle-Tacoma-Bellevue, WA Metro Area</td>\n",
       "      <td>2023</td>\n",
       "      <td>634047.0</td>\n",
       "      <td>26376.0</td>\n",
       "      <td>58134.0</td>\n",
       "      <td>84136.0</td>\n",
       "      <td>81065.0</td>\n",
       "      <td>72359.0</td>\n",
       "      <td>59258.0</td>\n",
       "      <td>48272.0</td>\n",
       "      <td>55604.0</td>\n",
       "      <td>148843.0</td>\n",
       "    </tr>\n",
       "  </tbody>\n",
       "</table>\n",
       "</div>"
      ],
      "text/plain": [
       "    cbsa_code                                           msa_name  year  \\\n",
       "28      12060       Atlanta-Sandy Springs-Roswell, GA Metro Area  2023   \n",
       "34      12420        Austin-Round Rock-San Marcos, TX Metro Area  2023   \n",
       "125     19820             Detroit-Warren-Dearborn, MI Metro Area  2023   \n",
       "307     33460  Minneapolis-St. Paul-Bloomington, MN-WI Metro ...  2023   \n",
       "336     35620      New York-Newark-Jersey City, NY-NJ Metro Area  2023   \n",
       "366     38060               Phoenix-Mesa-Chandler, AZ Metro Area  2023   \n",
       "414     41180                        St. Louis, MO-IL Metro Area  2023   \n",
       "425     41860       San Francisco-Oakland-Fremont, CA Metro Area  2023   \n",
       "437     42660             Seattle-Tacoma-Bellevue, WA Metro Area  2023   \n",
       "\n",
       "     hh_total_computed  hh_below_10  hh_10_to_15  hh_15_to_20  hh_20_to_25  \\\n",
       "28            733261.0      21003.0      49743.0      75242.0      89727.0   \n",
       "34            415896.0      13440.0      29605.0      49366.0      56499.0   \n",
       "125           455084.0      18544.0      37501.0      51746.0      56461.0   \n",
       "307           428780.0      11449.0      40567.0      55334.0      65728.0   \n",
       "336          3482685.0     172750.0     308006.0     412797.0     404722.0   \n",
       "366           600238.0      18898.0      36680.0      62286.0      78489.0   \n",
       "414           318502.0      14203.0      35854.0      43673.0      40908.0   \n",
       "425           750585.0      35962.0      70795.0      94297.0      95128.0   \n",
       "437           634047.0      26376.0      58134.0      84136.0      81065.0   \n",
       "\n",
       "     hh_25_to_30  hh_30_to_35  hh_35_to_40  hh_40_to_50  hh_above_50  \n",
       "28       81012.0      71338.0      50769.0      71975.0     222452.0  \n",
       "34       48003.0      42110.0      31612.0      44189.0     101072.0  \n",
       "125      52906.0      44389.0      29309.0      39457.0     124771.0  \n",
       "307      51044.0      40382.0      26336.0      38603.0      99337.0  \n",
       "336     381086.0     301108.0     218866.0     299777.0     983573.0  \n",
       "366      74775.0      54728.0      44810.0      70567.0     159005.0  \n",
       "414      34864.0      30308.0      21229.0      25421.0      72042.0  \n",
       "425      85595.0      66378.0      46364.0      66044.0     190022.0  \n",
       "437      72359.0      59258.0      48272.0      55604.0     148843.0  "
      ]
     },
     "execution_count": 27,
     "metadata": {},
     "output_type": "execute_result"
    }
   ],
   "source": [
    "rent_to_income_df"
   ]
  },
  {
   "cell_type": "markdown",
   "id": "fcab84e4-4fa4-4d27-acb3-8b6c73635e38",
   "metadata": {},
   "source": [
    "### Step X: Repeat for other years"
   ]
  },
  {
   "cell_type": "code",
   "execution_count": 28,
   "id": "f207d825-7fc3-4778-996e-8446d85c3d2c",
   "metadata": {},
   "outputs": [],
   "source": [
    "df_merged = pd.DataFrame()\n",
    "\n",
    "df_merged = pd.concat([df_merged, rent_to_income_df], ignore_index=True)"
   ]
  },
  {
   "cell_type": "code",
   "execution_count": 30,
   "id": "016aff0d-903f-44ab-bfb2-0a669e70beaf",
   "metadata": {},
   "outputs": [
    {
     "name": "stdout",
     "output_type": "stream",
     "text": [
      "<class 'pandas.core.frame.DataFrame'>\n",
      "RangeIndex: 9 entries, 0 to 8\n",
      "Data columns (total 13 columns):\n",
      " #   Column             Non-Null Count  Dtype  \n",
      "---  ------             --------------  -----  \n",
      " 0   cbsa_code          9 non-null      object \n",
      " 1   msa_name           9 non-null      object \n",
      " 2   year               9 non-null      int64  \n",
      " 3   hh_total_computed  9 non-null      float64\n",
      " 4   hh_below_10        9 non-null      float64\n",
      " 5   hh_10_to_15        9 non-null      float64\n",
      " 6   hh_15_to_20        9 non-null      float64\n",
      " 7   hh_20_to_25        9 non-null      float64\n",
      " 8   hh_25_to_30        9 non-null      float64\n",
      " 9   hh_30_to_35        9 non-null      float64\n",
      " 10  hh_35_to_40        9 non-null      float64\n",
      " 11  hh_40_to_50        9 non-null      float64\n",
      " 12  hh_above_50        9 non-null      float64\n",
      "dtypes: float64(10), int64(1), object(2)\n",
      "memory usage: 1.0+ KB\n"
     ]
    }
   ],
   "source": [
    "df_merged.info()"
   ]
  },
  {
   "cell_type": "markdown",
   "id": "65ddf801-50d2-4c99-a602-26a683d24264",
   "metadata": {},
   "source": [
    "Set up a big loop, for each year (2016 to 2023):\n",
    "1. extract data from census API\n",
    "2. store data in dataframe\n",
    "3. rename columns\n",
    "4. add \"year\" and \"total_computed\" columns\n",
    "5. drop \"hh_total\" and \"not_computed\" columns\n",
    "6. filter to 9 msas\n",
    "7. reorder columns\n",
    "8. add dataframe to df_merged\n",
    "\n",
    "note:\n",
    "- check that \"total_computed\" is a correct sum\n",
    "- expect missing values in 2020 for relevant MSAs"
   ]
  },
  {
   "cell_type": "markdown",
   "id": "10d754c8-2f50-47c0-b4c4-f72da4307b02",
   "metadata": {},
   "source": [
    "### Define variables needed for loop"
   ]
  },
  {
   "cell_type": "code",
   "execution_count": 66,
   "id": "569d68ff-a926-4b4d-957c-6c03f6c36e0f",
   "metadata": {},
   "outputs": [],
   "source": [
    "c = Census(CENSUS_API_KEY)\n",
    "\n",
    "census_variables = (\n",
    "    \"NAME\",\n",
    "    \"B25070_001E\",  # Total\n",
    "    \"B25070_002E\",  # Less than 10.0\n",
    "    \"B25070_003E\",  # 10.0 to 14.9\n",
    "    \"B25070_004E\",  # 15.0 to 19.9\n",
    "    \"B25070_005E\",  # 20.0 to 24.9\n",
    "    \"B25070_006E\",  # 25.0 to 29.9\n",
    "    \"B25070_007E\",  # 30.0 to 34.9\n",
    "    \"B25070_008E\",  # 35.0 to 39.9\n",
    "    \"B25070_009E\",  # 40.0 to 49.9\n",
    "    \"B25070_010E\",  # 50.0 or more\n",
    "    \"B25070_011E\"   # Not computed\n",
    ")\n",
    "\n",
    "target_cbsa_codes = [\"42660\", \"41860\", \"35620\", \"12060\", \"38060\",\n",
    "                     \"12420\", \"33460\", \"19820\", \"41180\"]\n",
    "\n",
    "column_order = ['cbsa_code', 'msa_name', 'year', 'hh_total_computed', 'hh_below_10',\n",
    "                 'hh_10_to_15', 'hh_15_to_20', 'hh_20_to_25', 'hh_25_to_30', 'hh_30_to_35',\n",
    "                 'hh_35_to_40', 'hh_40_to_50', 'hh_above_50']"
   ]
  },
  {
   "cell_type": "code",
   "execution_count": 67,
   "id": "f804854b-ffa2-47a6-b8f4-899591a94d24",
   "metadata": {},
   "outputs": [],
   "source": [
    "df_merged = pd.DataFrame()"
   ]
  },
  {
   "cell_type": "markdown",
   "id": "4ba87cc3-762e-4de8-b2b1-814904e651a2",
   "metadata": {},
   "source": [
    "### Loop"
   ]
  },
  {
   "cell_type": "code",
   "execution_count": 68,
   "id": "a1ebb991-2a1b-4c90-bd18-e575f294e647",
   "metadata": {},
   "outputs": [
    {
     "name": "stdout",
     "output_type": "stream",
     "text": [
      "2016\n",
      "2017\n",
      "2018\n",
      "2019\n",
      "2021\n",
      "2022\n",
      "2023\n"
     ]
    }
   ],
   "source": [
    "for year_loop in [2016, 2017, 2018, 2019, 2021, 2022, 2023]:\n",
    "    print(year_loop)\n",
    "    \n",
    "    # extract data from census API\n",
    "    rent_burden = c.acs1.get(\n",
    "        census_variables,\n",
    "        {'for': 'metropolitan statistical area/micropolitan statistical area:*'},\n",
    "        year=year_loop\n",
    "    )    \n",
    "\n",
    "    \n",
    "    # store data in dataframe\n",
    "    rent_burden_df = pd.DataFrame(rent_burden)\n",
    "\n",
    "    \n",
    "    # rename columns\n",
    "    rent_burden_df = rent_burden_df.rename(columns={\n",
    "        \"NAME\": \"msa_name\",\n",
    "        \"B25070_001E\": \"hh_total\",\n",
    "        \"B25070_002E\": \"hh_below_10\",\n",
    "        \"B25070_003E\": \"hh_10_to_15\",\n",
    "        \"B25070_004E\": \"hh_15_to_20\",\n",
    "        \"B25070_005E\": \"hh_20_to_25\",\n",
    "        \"B25070_006E\": \"hh_25_to_30\",\n",
    "        \"B25070_007E\": \"hh_30_to_35\",\n",
    "        \"B25070_008E\": \"hh_35_to_40\",\n",
    "        \"B25070_009E\": \"hh_40_to_50\",\n",
    "        \"B25070_010E\": \"hh_above_50\",\n",
    "        \"B25070_011E\": \"not_computed\",\n",
    "        \"metropolitan statistical area/micropolitan statistical area\": \"cbsa_code\"\n",
    "    }, inplace=False)    \n",
    "\n",
    "    \n",
    "    # add \"year\" and \"total_computed\" columns\n",
    "    rent_burden_df[\"year\"] = year_loop\n",
    "    rent_burden_df[\"hh_total_computed\"] = rent_burden_df[\"hh_total\"] - rent_burden_df[\"not_computed\"]\n",
    "\n",
    "    \n",
    "    # drop \"hh_total\" and \"not_computed\" columns\n",
    "    rent_burden_df = rent_burden_df.drop(columns=[\"hh_total\", \"not_computed\"], inplace=False)\n",
    "\n",
    "    \n",
    "    # filter to 9 msas\n",
    "    rent_burden_df = rent_burden_df[rent_burden_df[\"cbsa_code\"].isin(target_cbsa_codes)]\n",
    "\n",
    "    \n",
    "    # reorder columns\n",
    "    rent_burden_df = rent_burden_df[desired_order]\n",
    "\n",
    "    \n",
    "    # add dataframe to df_merged\n",
    "    df_merged = pd.concat([df_merged, rent_burden_df], ignore_index=True)\n",
    "\n",
    "print(\"done\")"
   ]
  },
  {
   "cell_type": "code",
   "execution_count": 69,
   "id": "004f0493-7ddc-4651-a31b-4c9bbd7d8a9b",
   "metadata": {},
   "outputs": [
    {
     "data": {
      "text/html": [
       "<div>\n",
       "<style scoped>\n",
       "    .dataframe tbody tr th:only-of-type {\n",
       "        vertical-align: middle;\n",
       "    }\n",
       "\n",
       "    .dataframe tbody tr th {\n",
       "        vertical-align: top;\n",
       "    }\n",
       "\n",
       "    .dataframe thead th {\n",
       "        text-align: right;\n",
       "    }\n",
       "</style>\n",
       "<table border=\"1\" class=\"dataframe\">\n",
       "  <thead>\n",
       "    <tr style=\"text-align: right;\">\n",
       "      <th></th>\n",
       "      <th>cbsa_code</th>\n",
       "      <th>msa_name</th>\n",
       "      <th>year</th>\n",
       "      <th>hh_total_computed</th>\n",
       "      <th>hh_below_10</th>\n",
       "      <th>hh_10_to_15</th>\n",
       "      <th>hh_15_to_20</th>\n",
       "      <th>hh_20_to_25</th>\n",
       "      <th>hh_25_to_30</th>\n",
       "      <th>hh_30_to_35</th>\n",
       "      <th>hh_35_to_40</th>\n",
       "      <th>hh_40_to_50</th>\n",
       "      <th>hh_above_50</th>\n",
       "    </tr>\n",
       "  </thead>\n",
       "  <tbody>\n",
       "    <tr>\n",
       "      <th>0</th>\n",
       "      <td>19820</td>\n",
       "      <td>Detroit-Warren-Dearborn, MI Metro Area</td>\n",
       "      <td>2016</td>\n",
       "      <td>506895.0</td>\n",
       "      <td>20173.0</td>\n",
       "      <td>48142.0</td>\n",
       "      <td>66324.0</td>\n",
       "      <td>65809.0</td>\n",
       "      <td>51797.0</td>\n",
       "      <td>43616.0</td>\n",
       "      <td>31464.0</td>\n",
       "      <td>46630.0</td>\n",
       "      <td>132940.0</td>\n",
       "    </tr>\n",
       "    <tr>\n",
       "      <th>1</th>\n",
       "      <td>41180</td>\n",
       "      <td>St. Louis, MO-IL Metro Area</td>\n",
       "      <td>2016</td>\n",
       "      <td>330011.0</td>\n",
       "      <td>15962.0</td>\n",
       "      <td>32938.0</td>\n",
       "      <td>46123.0</td>\n",
       "      <td>44480.0</td>\n",
       "      <td>39146.0</td>\n",
       "      <td>25854.0</td>\n",
       "      <td>21895.0</td>\n",
       "      <td>28795.0</td>\n",
       "      <td>74818.0</td>\n",
       "    </tr>\n",
       "    <tr>\n",
       "      <th>2</th>\n",
       "      <td>41860</td>\n",
       "      <td>San Francisco-Oakland-Hayward, CA Metro Area</td>\n",
       "      <td>2016</td>\n",
       "      <td>752093.0</td>\n",
       "      <td>39884.0</td>\n",
       "      <td>72610.0</td>\n",
       "      <td>102225.0</td>\n",
       "      <td>100233.0</td>\n",
       "      <td>85421.0</td>\n",
       "      <td>64276.0</td>\n",
       "      <td>47431.0</td>\n",
       "      <td>65088.0</td>\n",
       "      <td>174925.0</td>\n",
       "    </tr>\n",
       "    <tr>\n",
       "      <th>3</th>\n",
       "      <td>42660</td>\n",
       "      <td>Seattle-Tacoma-Bellevue, WA Metro Area</td>\n",
       "      <td>2016</td>\n",
       "      <td>569235.0</td>\n",
       "      <td>19758.0</td>\n",
       "      <td>48147.0</td>\n",
       "      <td>77595.0</td>\n",
       "      <td>84380.0</td>\n",
       "      <td>73227.0</td>\n",
       "      <td>54981.0</td>\n",
       "      <td>36522.0</td>\n",
       "      <td>50927.0</td>\n",
       "      <td>123698.0</td>\n",
       "    </tr>\n",
       "    <tr>\n",
       "      <th>4</th>\n",
       "      <td>33460</td>\n",
       "      <td>Minneapolis-St. Paul-Bloomington, MN-WI Metro ...</td>\n",
       "      <td>2016</td>\n",
       "      <td>404021.0</td>\n",
       "      <td>14308.0</td>\n",
       "      <td>37762.0</td>\n",
       "      <td>55986.0</td>\n",
       "      <td>61677.0</td>\n",
       "      <td>49631.0</td>\n",
       "      <td>38184.0</td>\n",
       "      <td>25435.0</td>\n",
       "      <td>33641.0</td>\n",
       "      <td>87397.0</td>\n",
       "    </tr>\n",
       "  </tbody>\n",
       "</table>\n",
       "</div>"
      ],
      "text/plain": [
       "  cbsa_code                                           msa_name  year  \\\n",
       "0     19820             Detroit-Warren-Dearborn, MI Metro Area  2016   \n",
       "1     41180                        St. Louis, MO-IL Metro Area  2016   \n",
       "2     41860       San Francisco-Oakland-Hayward, CA Metro Area  2016   \n",
       "3     42660             Seattle-Tacoma-Bellevue, WA Metro Area  2016   \n",
       "4     33460  Minneapolis-St. Paul-Bloomington, MN-WI Metro ...  2016   \n",
       "\n",
       "   hh_total_computed  hh_below_10  hh_10_to_15  hh_15_to_20  hh_20_to_25  \\\n",
       "0           506895.0      20173.0      48142.0      66324.0      65809.0   \n",
       "1           330011.0      15962.0      32938.0      46123.0      44480.0   \n",
       "2           752093.0      39884.0      72610.0     102225.0     100233.0   \n",
       "3           569235.0      19758.0      48147.0      77595.0      84380.0   \n",
       "4           404021.0      14308.0      37762.0      55986.0      61677.0   \n",
       "\n",
       "   hh_25_to_30  hh_30_to_35  hh_35_to_40  hh_40_to_50  hh_above_50  \n",
       "0      51797.0      43616.0      31464.0      46630.0     132940.0  \n",
       "1      39146.0      25854.0      21895.0      28795.0      74818.0  \n",
       "2      85421.0      64276.0      47431.0      65088.0     174925.0  \n",
       "3      73227.0      54981.0      36522.0      50927.0     123698.0  \n",
       "4      49631.0      38184.0      25435.0      33641.0      87397.0  "
      ]
     },
     "execution_count": 69,
     "metadata": {},
     "output_type": "execute_result"
    }
   ],
   "source": [
    "df_merged.head()"
   ]
  },
  {
   "cell_type": "markdown",
   "id": "bcf72b41-7b4d-4785-b344-7aa768b59498",
   "metadata": {},
   "source": [
    "### Check for missing data and validity of computed column"
   ]
  },
  {
   "cell_type": "code",
   "execution_count": 71,
   "id": "e7787023-25f6-4b89-b904-db1e60aaa5c0",
   "metadata": {},
   "outputs": [
    {
     "name": "stdout",
     "output_type": "stream",
     "text": [
      "<class 'pandas.core.frame.DataFrame'>\n",
      "RangeIndex: 63 entries, 0 to 62\n",
      "Data columns (total 13 columns):\n",
      " #   Column             Non-Null Count  Dtype  \n",
      "---  ------             --------------  -----  \n",
      " 0   cbsa_code          63 non-null     object \n",
      " 1   msa_name           63 non-null     object \n",
      " 2   year               63 non-null     int64  \n",
      " 3   hh_total_computed  63 non-null     float64\n",
      " 4   hh_below_10        63 non-null     float64\n",
      " 5   hh_10_to_15        63 non-null     float64\n",
      " 6   hh_15_to_20        63 non-null     float64\n",
      " 7   hh_20_to_25        63 non-null     float64\n",
      " 8   hh_25_to_30        63 non-null     float64\n",
      " 9   hh_30_to_35        63 non-null     float64\n",
      " 10  hh_35_to_40        63 non-null     float64\n",
      " 11  hh_40_to_50        63 non-null     float64\n",
      " 12  hh_above_50        63 non-null     float64\n",
      "dtypes: float64(10), int64(1), object(2)\n",
      "memory usage: 6.5+ KB\n"
     ]
    }
   ],
   "source": [
    "df_merged.info()"
   ]
  },
  {
   "cell_type": "code",
   "execution_count": 72,
   "id": "dbbce17d-5381-424b-8e44-499f7e2f13d5",
   "metadata": {},
   "outputs": [
    {
     "data": {
      "text/plain": [
       "np.True_"
      ]
     },
     "execution_count": 72,
     "metadata": {},
     "output_type": "execute_result"
    }
   ],
   "source": [
    "check = df_merged[\"hh_total_computed\"] == df_merged[[\"hh_below_10\", \"hh_10_to_15\", \"hh_15_to_20\", \n",
    "\"hh_20_to_25\", \"hh_25_to_30\", \"hh_30_to_35\", \"hh_35_to_40\", \"hh_40_to_50\", \"hh_above_50\"]].sum(axis=1)\n",
    "\n",
    "check.all()"
   ]
  },
  {
   "cell_type": "code",
   "execution_count": null,
   "id": "c8f5560f-b13a-4cad-b121-ceee50c37d4b",
   "metadata": {},
   "outputs": [],
   "source": []
  },
  {
   "cell_type": "code",
   "execution_count": null,
   "id": "c7253c1f-396d-42c9-a673-68eb7fe88cd2",
   "metadata": {},
   "outputs": [],
   "source": []
  },
  {
   "cell_type": "code",
   "execution_count": null,
   "id": "ec0f2f35-9974-400e-8b4d-07f0705e653f",
   "metadata": {},
   "outputs": [],
   "source": []
  },
  {
   "cell_type": "code",
   "execution_count": null,
   "id": "d7efbb3f-5bac-4aa6-ba05-24625ed4fa94",
   "metadata": {},
   "outputs": [],
   "source": []
  },
  {
   "cell_type": "code",
   "execution_count": null,
   "id": "1c540ebc-d461-4cb4-9ac5-70e44c195bc1",
   "metadata": {},
   "outputs": [],
   "source": []
  },
  {
   "cell_type": "code",
   "execution_count": null,
   "id": "cbc93bdc-428f-4171-a14d-34124dc9138c",
   "metadata": {},
   "outputs": [],
   "source": []
  },
  {
   "cell_type": "code",
   "execution_count": null,
   "id": "d8c539ac-c98c-47c0-9fe7-7055855261eb",
   "metadata": {},
   "outputs": [],
   "source": []
  },
  {
   "cell_type": "code",
   "execution_count": null,
   "id": "17db2a3e-9d71-44c2-8739-a6becb8526b1",
   "metadata": {},
   "outputs": [],
   "source": []
  },
  {
   "cell_type": "code",
   "execution_count": null,
   "id": "a93a42ab-2585-45ac-92d9-0e1f4efecde8",
   "metadata": {},
   "outputs": [],
   "source": [
    "rent_to_income_df.to_sql('rent_to_income_2023', con=engine, index=False, if_exists='replace')"
   ]
  },
  {
   "cell_type": "code",
   "execution_count": null,
   "id": "9326bde9-93ec-410b-b1b6-7506bf4a2ac3",
   "metadata": {},
   "outputs": [],
   "source": [
    "%%sql\n",
    "SELECT msa_code, msa, total_households, less_10, at_least_50, 2023 AS year\n",
    "FROM rent_to_income_23\n",
    "WHERE msa LIKE \"%seattle%\"\n",
    "    OR msa LIKE \"%san francisco%\"\n",
    "    OR msa LIKE \"%new york%\"\n",
    "    OR msa LIKE \"%atlanta%\"\n",
    "    OR msa LIKE \"%phoenix%\"\n",
    "    OR msa LIKE \"%austin%\"\n",
    "    OR msa LIKE \"%minneapolis%\"\n",
    "    OR msa LIKE \"%detroit%\"\n",
    "    OR msa LIKE \"%st. louis%\""
   ]
  }
 ],
 "metadata": {
  "kernelspec": {
   "display_name": "Python 3 (ipykernel)",
   "language": "python",
   "name": "python3"
  },
  "language_info": {
   "codemirror_mode": {
    "name": "ipython",
    "version": 3
   },
   "file_extension": ".py",
   "mimetype": "text/x-python",
   "name": "python",
   "nbconvert_exporter": "python",
   "pygments_lexer": "ipython3",
   "version": "3.11.13"
  }
 },
 "nbformat": 4,
 "nbformat_minor": 5
}
