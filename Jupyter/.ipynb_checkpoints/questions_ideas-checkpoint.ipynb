{
 "cells": [
  {
   "cell_type": "markdown",
   "id": "dd152c58-d23c-44ef-a2cc-3008a4e53131",
   "metadata": {},
   "source": [
    "# Ideas and Questions to revisit over analysis"
   ]
  },
  {
   "cell_type": "markdown",
   "id": "19f76132-6507-47b3-960c-2d978783e581",
   "metadata": {},
   "source": [
    "Looking at the following 9 MSA's over the span of 6-8 years.\n",
    "- Seattle\n",
    "- San Francisco\n",
    "- NYC\n",
    "- Atlanta\n",
    "- Phoenix\n",
    "- Austin\n",
    "- Minneapolis\n",
    "- Detroit\n",
    "- St. Louis\n",
    "\n",
    "This is a diverse sample of city profiles, varying in geography, housing cost, and population growth.\n",
    "I chose a diverse sample, as opposed to a more homogenous one, for higher generalizability (leading to policy recommendations) and comparative insight."
   ]
  },
  {
   "cell_type": "markdown",
   "id": "789c7660-2225-4ffd-9a65-915d7e5b72d8",
   "metadata": {},
   "source": [
    "HUD defines a household as \"cost-burdened\" when they spend more than 30% of their income on housing costs (including rent and mortgage payments).\n",
    "A household is \"severely cost-burdened\" when they spend more than 50%.\n",
    "These percentages are calculated from a household's ratio of income-to-housing costs.\n",
    "\n",
    "The focus of this analysis is on renters, so I will use the terms \"rent burdened\" and \"severely rent burdened\"."
   ]
  },
  {
   "cell_type": "markdown",
   "id": "5a074482-af58-487e-b2d7-61007ae5e1d2",
   "metadata": {},
   "source": [
    "For each MSA, I want to classify renters based on their ratio of income-to-housing costs.\n",
    "\n",
    "What metros have the highest incidence of rent burden?\n",
    "Severe rent burden?\n",
    "\n",
    "How has the incidence of rent burden and severe rent burden changed over time?\n",
    "\n",
    "Do patterns emerge between a metro's incidence of rent burden and other factors?\n",
    "- Median rent / rent index (ZORI)\n",
    "- Population growth\n",
    "- Median household income\n",
    "- Poverty and unemployment\n",
    "- Income inequality\n",
    "- Homelessness"
   ]
  },
  {
   "cell_type": "markdown",
   "id": "458cc205-0faf-40c3-a9c9-824d5edfb266",
   "metadata": {},
   "source": []
  }
 ],
 "metadata": {
  "kernelspec": {
   "display_name": "Python 3 (ipykernel)",
   "language": "python",
   "name": "python3"
  },
  "language_info": {
   "codemirror_mode": {
    "name": "ipython",
    "version": 3
   },
   "file_extension": ".py",
   "mimetype": "text/x-python",
   "name": "python",
   "nbconvert_exporter": "python",
   "pygments_lexer": "ipython3",
   "version": "3.11.13"
  }
 },
 "nbformat": 4,
 "nbformat_minor": 5
}
