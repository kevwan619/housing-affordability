{
 "cells": [
  {
   "cell_type": "markdown",
   "id": "86d0e84f-ec38-40b3-89e0-62682bb138f5",
   "metadata": {},
   "source": [
    "# Housing Affordability Project\n",
    "\n",
    "### The goal of this project is to answer the following questions:\n",
    "\n",
    "1. What cities have the highest income equality, and what cities have the highest rent-to-income ratio?\n",
    "2. Are there relationships between these two metrics, and potentially others like population growth and homelessness?"
   ]
  },
  {
   "cell_type": "markdown",
   "id": "0f6efbeb-9ecc-42f0-be7c-cf563702bf4f",
   "metadata": {},
   "source": []
  }
 ],
 "metadata": {
  "kernelspec": {
   "display_name": "Python 3 (ipykernel)",
   "language": "python",
   "name": "python3"
  },
  "language_info": {
   "codemirror_mode": {
    "name": "ipython",
    "version": 3
   },
   "file_extension": ".py",
   "mimetype": "text/x-python",
   "name": "python",
   "nbconvert_exporter": "python",
   "pygments_lexer": "ipython3",
   "version": "3.11.13"
  }
 },
 "nbformat": 4,
 "nbformat_minor": 5
}
