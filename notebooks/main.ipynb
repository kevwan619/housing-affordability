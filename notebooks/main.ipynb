{
 "cells": [
  {
   "cell_type": "markdown",
   "id": "86d0e84f-ec38-40b3-89e0-62682bb138f5",
   "metadata": {},
   "source": [
    "# Housing Affordability Project"
   ]
  },
  {
   "cell_type": "markdown",
   "id": "18c0341f-3687-44aa-ac14-784afab14769",
   "metadata": {},
   "source": [
    "### Leading questions\n",
    "\n",
    "- What metros have the highest incidence of rent burden? Severe rent burden?\n",
    "- How has the incidence of rent burden and severe rent burden changed over time?\n",
    "- Do patterns emerge between a metro's incidence of rent burden and other metro-wide factors?"
   ]
  },
  {
   "cell_type": "markdown",
   "id": "cfdf016f-86d6-4613-9cc5-ec4914622498",
   "metadata": {},
   "source": [
    "Install required packages for SQL functionality and Census Bureau API calls"
   ]
  },
  {
   "cell_type": "code",
   "execution_count": null,
   "id": "5d285fd7-5ed4-454c-9594-4f9f314fcd44",
   "metadata": {},
   "outputs": [],
   "source": [
    "%pip install pandas sqlalchemy jupysql census censusdata requests"
   ]
  },
  {
   "cell_type": "markdown",
   "id": "e748998e-60b2-4339-91c2-3c90c5f09d41",
   "metadata": {},
   "source": [
    "Import packages <br>\n",
    "*NOTE*: need to hide API key before committing to GitHub"
   ]
  },
  {
   "cell_type": "code",
   "execution_count": 2,
   "id": "6074b519-9acc-4148-9122-6cc08d5d3c03",
   "metadata": {},
   "outputs": [],
   "source": [
    "import pandas as pd\n",
    "from sqlalchemy import create_engine\n",
    "from census import Census\n",
    "from config import CENSUS_API_KEY"
   ]
  },
  {
   "cell_type": "markdown",
   "id": "75d2863d-13a3-447e-9572-7a75cd2264b6",
   "metadata": {},
   "source": [
    "Use JupySQL and SQLAlchemy to create and establish connection to a SQLite database"
   ]
  },
  {
   "cell_type": "code",
   "execution_count": 2,
   "id": "b6cc68ff-3386-4fb8-9ea2-0bb40791d0ce",
   "metadata": {},
   "outputs": [
    {
     "data": {
      "text/html": [
       "<span style=\"None\">Connecting to &#x27;sqlite:///housing.db&#x27;</span>"
      ],
      "text/plain": [
       "Connecting to 'sqlite:///housing.db'"
      ]
     },
     "metadata": {},
     "output_type": "display_data"
    }
   ],
   "source": [
    "%load_ext sql\n",
    "engine = create_engine('sqlite:///housing.db')\n",
    "%sql sqlite:///housing.db"
   ]
  },
  {
   "cell_type": "markdown",
   "id": "afe8994d-0c91-466d-8a56-e02e59c7313e",
   "metadata": {},
   "source": [
    "# ZORI import"
   ]
  },
  {
   "cell_type": "markdown",
   "id": "a4b9067f-0868-4222-ab46-213f325ad6f2",
   "metadata": {},
   "source": [
    "Import Zillow/ZORI data from CSV, save as a pandas dataframe <br>\n",
    "*NOTE:* ZORI data: smoothed, seasonally adjusted, all homes"
   ]
  },
  {
   "cell_type": "code",
   "execution_count": null,
   "id": "c2ee4d5a-48b9-40bf-a3f0-f0f3bf7ad7f3",
   "metadata": {},
   "outputs": [],
   "source": [
    "zori_df = pd.read_csv('../zori_msa.csv')\n",
    "zori_df.head()"
   ]
  },
  {
   "cell_type": "code",
   "execution_count": null,
   "id": "9788df8b-7ef8-4d33-84ed-08f1cfca6ce3",
   "metadata": {},
   "outputs": [],
   "source": [
    "zori_df.to_sql('zori', con=engine, index=False, if_exists='replace')"
   ]
  },
  {
   "cell_type": "code",
   "execution_count": null,
   "id": "6cb4d870-a76b-47dd-9811-0ab7d04453c5",
   "metadata": {},
   "outputs": [],
   "source": [
    "%%sql\n",
    "SELECT RegionName\n",
    "FROM zori\n",
    "WHERE RegionName LIKE '%Seattle, WA%'\n",
    "OR RegionName LIKE '%San Francisco, CA%'\n",
    "OR RegionName LIKE '%New York, NY%'\n",
    "OR RegionName LIKE '%Atlanta, GA%'\n",
    "OR RegionName LIKE '%Phoenix, AZ%'\n",
    "OR RegionName LIKE '%Austin, TX%'\n",
    "OR RegionName LIKE '%Minneapolis, MN%'\n",
    "OR RegionName LIKE '%Detroit, MI%'\n",
    "OR RegionName LIKE '%St. Louis, MO%'"
   ]
  },
  {
   "cell_type": "code",
   "execution_count": null,
   "id": "6f216638-172d-4783-9fa3-90f8c4b4e3a2",
   "metadata": {},
   "outputs": [],
   "source": [
    "%sqlcmd tables"
   ]
  },
  {
   "cell_type": "code",
   "execution_count": null,
   "id": "3b24b7c6-da76-4c14-ad84-fd9732d03b34",
   "metadata": {},
   "outputs": [],
   "source": [
    "%%sql\n",
    "DROP TABLE IF EXISTS rent_to_income_23"
   ]
  },
  {
   "cell_type": "markdown",
   "id": "e0cb65fb-c2bf-43d8-9f38-3ebffbdff219",
   "metadata": {},
   "source": [
    "# Census Import"
   ]
  },
  {
   "cell_type": "markdown",
   "id": "003af5e7-2263-45ba-b488-df0daab39121",
   "metadata": {},
   "source": [
    "Set up parameters for Census API pull"
   ]
  },
  {
   "cell_type": "code",
   "execution_count": 3,
   "id": "24cd15c7-afcd-4739-961d-9694cbdd89bd",
   "metadata": {},
   "outputs": [],
   "source": [
    "c = Census(CENSUS_API_KEY)\n",
    "variables = (\n",
    "    \"NAME\",\n",
    "    \"B25070_001E\",  # Total\n",
    "    \"B25070_002E\",  # Less than 10.0\n",
    "    \"B25070_003E\",  # 10.0 to 14.9\n",
    "    \"B25070_004E\",  # 15.0 to 19.9\n",
    "    \"B25070_005E\",  # 20.0 to 24.9\n",
    "    \"B25070_006E\",  # 25.0 to 29.9\n",
    "    \"B25070_007E\",  # 30.0 to 34.9\n",
    "    \"B25070_008E\",  # 35.0 to 39.9\n",
    "    \"B25070_009E\",  # 40.0 to 49.9\n",
    "    \"B25070_010E\",  # 50.0 or more\n",
    "    \"B25070_011E\"   # Not computed\n",
    ")"
   ]
  },
  {
   "cell_type": "markdown",
   "id": "a924841b-9bad-4efe-b7d5-22ad0ff343ab",
   "metadata": {},
   "source": [
    "Pull data <br>\n",
    "*rent_to_income_raw* = list type"
   ]
  },
  {
   "cell_type": "code",
   "execution_count": 4,
   "id": "89b55c61-3215-4e1d-ab40-5a48bb184d25",
   "metadata": {},
   "outputs": [],
   "source": [
    "rent_to_income_raw = c.acs1.get(\n",
    "    variables,\n",
    "    {'for': 'metropolitan statistical area/micropolitan statistical area:*'},\n",
    "    year=2023\n",
    ")"
   ]
  },
  {
   "cell_type": "markdown",
   "id": "01a286d3-f17d-4e1a-8a8c-8be5841a78b3",
   "metadata": {},
   "source": [
    "# Data Cleaning Process / Workflow"
   ]
  },
  {
   "cell_type": "markdown",
   "id": "06d05b1c-cf4d-40c1-8edb-5986cbb68f3c",
   "metadata": {},
   "source": [
    "### Step 0: Save pulled data as a pandas dataframe"
   ]
  },
  {
   "cell_type": "code",
   "execution_count": 22,
   "id": "eac1335e-e57f-4a3f-b1d7-c4112956f33f",
   "metadata": {},
   "outputs": [],
   "source": [
    "rent_to_income_df = pd.DataFrame(rent_to_income_raw)"
   ]
  },
  {
   "cell_type": "markdown",
   "id": "8ca702af-2b14-4d4a-aeac-a6372b46c085",
   "metadata": {},
   "source": [
    "### Step 1: Conduct initial inspection of data"
   ]
  },
  {
   "cell_type": "code",
   "execution_count": 23,
   "id": "1afcc90d-2dff-4244-a0b9-c42b05368ab3",
   "metadata": {},
   "outputs": [
    {
     "name": "stdout",
     "output_type": "stream",
     "text": [
      "<class 'pandas.core.frame.DataFrame'>\n",
      "RangeIndex: 530 entries, 0 to 529\n",
      "Data columns (total 13 columns):\n",
      " #   Column                                                       Non-Null Count  Dtype  \n",
      "---  ------                                                       --------------  -----  \n",
      " 0   NAME                                                         530 non-null    object \n",
      " 1   B25070_001E                                                  529 non-null    float64\n",
      " 2   B25070_002E                                                  529 non-null    float64\n",
      " 3   B25070_003E                                                  529 non-null    float64\n",
      " 4   B25070_004E                                                  529 non-null    float64\n",
      " 5   B25070_005E                                                  529 non-null    float64\n",
      " 6   B25070_006E                                                  529 non-null    float64\n",
      " 7   B25070_007E                                                  529 non-null    float64\n",
      " 8   B25070_008E                                                  529 non-null    float64\n",
      " 9   B25070_009E                                                  529 non-null    float64\n",
      " 10  B25070_010E                                                  529 non-null    float64\n",
      " 11  B25070_011E                                                  529 non-null    float64\n",
      " 12  metropolitan statistical area/micropolitan statistical area  530 non-null    object \n",
      "dtypes: float64(11), object(2)\n",
      "memory usage: 54.0+ KB\n"
     ]
    }
   ],
   "source": [
    "rent_to_income_df.info()"
   ]
  },
  {
   "cell_type": "markdown",
   "id": "18272e2f-61c1-4be1-a6db-6b3f699cc127",
   "metadata": {},
   "source": [
    "Why do columns 0 and 12 have a different non-null count?"
   ]
  },
  {
   "cell_type": "code",
   "execution_count": 26,
   "id": "7122449c-9e02-4909-8130-fb29bc158bf0",
   "metadata": {},
   "outputs": [
    {
     "data": {
      "text/plain": [
       "NAME                                                           0\n",
       "B25070_001E                                                    1\n",
       "B25070_002E                                                    1\n",
       "B25070_003E                                                    1\n",
       "B25070_004E                                                    1\n",
       "B25070_005E                                                    1\n",
       "B25070_006E                                                    1\n",
       "B25070_007E                                                    1\n",
       "B25070_008E                                                    1\n",
       "B25070_009E                                                    1\n",
       "B25070_010E                                                    1\n",
       "B25070_011E                                                    1\n",
       "metropolitan statistical area/micropolitan statistical area    0\n",
       "dtype: int64"
      ]
     },
     "execution_count": 26,
     "metadata": {},
     "output_type": "execute_result"
    }
   ],
   "source": [
    "rent_to_income_df.isnull().sum()"
   ]
  },
  {
   "cell_type": "code",
   "execution_count": 27,
   "id": "26235d9f-e86d-4bb4-b31c-3cfa11e582a1",
   "metadata": {},
   "outputs": [
    {
     "data": {
      "text/html": [
       "<div>\n",
       "<style scoped>\n",
       "    .dataframe tbody tr th:only-of-type {\n",
       "        vertical-align: middle;\n",
       "    }\n",
       "\n",
       "    .dataframe tbody tr th {\n",
       "        vertical-align: top;\n",
       "    }\n",
       "\n",
       "    .dataframe thead th {\n",
       "        text-align: right;\n",
       "    }\n",
       "</style>\n",
       "<table border=\"1\" class=\"dataframe\">\n",
       "  <thead>\n",
       "    <tr style=\"text-align: right;\">\n",
       "      <th></th>\n",
       "      <th>NAME</th>\n",
       "      <th>B25070_001E</th>\n",
       "      <th>B25070_002E</th>\n",
       "      <th>B25070_003E</th>\n",
       "      <th>B25070_004E</th>\n",
       "      <th>B25070_005E</th>\n",
       "      <th>B25070_006E</th>\n",
       "      <th>B25070_007E</th>\n",
       "      <th>B25070_008E</th>\n",
       "      <th>B25070_009E</th>\n",
       "      <th>B25070_010E</th>\n",
       "      <th>B25070_011E</th>\n",
       "      <th>metropolitan statistical area/micropolitan statistical area</th>\n",
       "    </tr>\n",
       "  </thead>\n",
       "  <tbody>\n",
       "    <tr>\n",
       "      <th>323</th>\n",
       "      <td>Murrells Inlet, SC Micro Area</td>\n",
       "      <td>NaN</td>\n",
       "      <td>NaN</td>\n",
       "      <td>NaN</td>\n",
       "      <td>NaN</td>\n",
       "      <td>NaN</td>\n",
       "      <td>NaN</td>\n",
       "      <td>NaN</td>\n",
       "      <td>NaN</td>\n",
       "      <td>NaN</td>\n",
       "      <td>NaN</td>\n",
       "      <td>NaN</td>\n",
       "      <td>34680</td>\n",
       "    </tr>\n",
       "  </tbody>\n",
       "</table>\n",
       "</div>"
      ],
      "text/plain": [
       "                              NAME  B25070_001E  B25070_002E  B25070_003E  \\\n",
       "323  Murrells Inlet, SC Micro Area          NaN          NaN          NaN   \n",
       "\n",
       "     B25070_004E  B25070_005E  B25070_006E  B25070_007E  B25070_008E  \\\n",
       "323          NaN          NaN          NaN          NaN          NaN   \n",
       "\n",
       "     B25070_009E  B25070_010E  B25070_011E  \\\n",
       "323          NaN          NaN          NaN   \n",
       "\n",
       "    metropolitan statistical area/micropolitan statistical area  \n",
       "323                                              34680           "
      ]
     },
     "execution_count": 27,
     "metadata": {},
     "output_type": "execute_result"
    }
   ],
   "source": [
    "rent_to_income_df[rent_to_income_df[\"B25070_001E\"].isnull()]"
   ]
  },
  {
   "cell_type": "markdown",
   "id": "5d951545-983f-4d9f-bde2-0d834930faae",
   "metadata": {},
   "source": [
    "This Micro Area is missing data for this year. Not too relevant since it's not a part of our analysis. No harm in removing it"
   ]
  },
  {
   "cell_type": "code",
   "execution_count": null,
   "id": "31744537-43f4-4fba-9c01-95a01c2f7b45",
   "metadata": {},
   "outputs": [],
   "source": [
    "rent_to_income_df = rent_to_income_df.dropna()\n",
    "rent_to_income_df.info()"
   ]
  },
  {
   "cell_type": "markdown",
   "id": "5e212db0-5a39-43af-b68a-5489b685f120",
   "metadata": {},
   "source": [
    "### Step 2: Rename columns"
   ]
  },
  {
   "cell_type": "code",
   "execution_count": null,
   "id": "a7827564-5f99-42b9-aba3-a58d9fe4cced",
   "metadata": {},
   "outputs": [],
   "source": [
    "rent_to_income_df.rename(columns={\n",
    "    \"NAME\": \"msa_name\",\n",
    "    \"B25070_001E\": \"hh_total\",\n",
    "    \"B25070_002E\": \"hh_below_10\",\n",
    "    \"B25070_003E\": \"hh_10_to_15\",\n",
    "    \"B25070_004E\": \"hh_15_to_20\",\n",
    "    \"B25070_005E\": \"hh_20_to_25\",\n",
    "    \"B25070_006E\": \"hh_25_to_30\",\n",
    "    \"B25070_007E\": \"hh_30_to_35\",\n",
    "    \"B25070_008E\": \"hh_35_to_40\",\n",
    "    \"B25070_009E\": \"hh_40_to_50\",\n",
    "    \"B25070_010E\": \"hh_above_50\",\n",
    "    \"B25070_011E\": \"not_computed\",\n",
    "    \"metropolitan statistical area/micropolitan statistical area\": \"cbsa_code\"\n",
    "}, inplace=True)"
   ]
  },
  {
   "cell_type": "code",
   "execution_count": null,
   "id": "1fbe2b6a-36c9-4797-8086-0545571f56bc",
   "metadata": {},
   "outputs": [],
   "source": [
    "rent_to_income_df.head()"
   ]
  },
  {
   "cell_type": "markdown",
   "id": "86d22252-08b5-4278-94c7-13fc69b07fb2",
   "metadata": {},
   "source": [
    "### Step 3: Add and drop columns"
   ]
  },
  {
   "cell_type": "markdown",
   "id": "00965549-149c-4376-b1c0-42ba6190b501",
   "metadata": {},
   "source": [
    "Adding a year column, which will be useful later after importing other years' data."
   ]
  },
  {
   "cell_type": "code",
   "execution_count": null,
   "id": "b5b4cc99-0e40-4485-bf67-77c4d6d1bf12",
   "metadata": {},
   "outputs": [],
   "source": [
    "rent_to_income_df[\"year\"] = 2023"
   ]
  },
  {
   "cell_type": "markdown",
   "id": "a60b408f-e821-410c-af79-1b36f0a9b0b2",
   "metadata": {},
   "source": [
    "Create a derived total column that contains the total amount of computed households (hh_total less not_computed) <br>\n",
    "This will be the only \"total\" worth using for analysis"
   ]
  },
  {
   "cell_type": "code",
   "execution_count": null,
   "id": "bdd6dbe7-4f56-4705-8e38-b71958349065",
   "metadata": {},
   "outputs": [],
   "source": [
    "rent_to_income_df[\"hh_total_computed\"] = rent_to_income_df[\"hh_total\"] - rent_to_income_df[\"not_computed\"]"
   ]
  },
  {
   "cell_type": "markdown",
   "id": "4df84800-103c-4e0c-8f8e-d9db8558043f",
   "metadata": {},
   "source": [
    "Before deleting hh_total and not_computed, verify that my computed column is the sum of sub-columns\n",
    "\n",
    "NOTE:\n",
    "- dataframe axis=0 or axis=1?\n",
    "- dataframe.all() returns true unless at least one element is false or equivalent"
   ]
  },
  {
   "cell_type": "code",
   "execution_count": null,
   "id": "849c3838-ca74-4549-957c-60f70dbba878",
   "metadata": {},
   "outputs": [],
   "source": [
    "check = rent_to_income_df[\"hh_total_computed\"] == rent_to_income_df[[\"hh_below_10\", \"hh_10_to_15\", \"hh_15_to_20\", \n",
    "\"hh_20_to_25\", \"hh_25_to_30\", \"hh_30_to_35\", \"hh_35_to_40\", \"hh_40_to_50\", \"hh_above_50\"]].sum(axis=1)\n",
    "\n",
    "check.all()"
   ]
  },
  {
   "cell_type": "code",
   "execution_count": null,
   "id": "c27c58a2-e7f2-4baa-9d8d-94c66630f9d5",
   "metadata": {},
   "outputs": [],
   "source": [
    "rent_to_income_df = rent_to_income_df.drop(columns=[\"hh_total\", \"not_computed\"], inplace=False)\n",
    "rent_to_income_df.head()"
   ]
  },
  {
   "cell_type": "markdown",
   "id": "eba13815-c9af-4770-8df3-4d96c78a1d11",
   "metadata": {},
   "source": [
    "### Step 4: Filter/delete rows"
   ]
  },
  {
   "cell_type": "markdown",
   "id": "074c4ce5-3c13-4b8b-9ae7-14ca13a07696",
   "metadata": {},
   "source": [
    "For this project, I am looking at data for 9 MSAs"
   ]
  },
  {
   "cell_type": "markdown",
   "id": "49e21c73-1c04-49aa-9f30-12f2482805c1",
   "metadata": {},
   "source": [
    "Since exact MSA names can change year over year, use CBSA codes, which are stable over time, for best reproducibility.\n",
    "- seattle: 42660\n",
    "- SF: 41860\n",
    "- NYC: 35620\n",
    "- atlanta: 12060\n",
    "- phoenix: 38060\n",
    "- austin: 12420\n",
    "- minneapolis: 33460\n",
    "- detroit: 19820\n",
    "- st louis: 41180"
   ]
  },
  {
   "cell_type": "code",
   "execution_count": null,
   "id": "17cc04f6-6bf1-441f-a2a8-197f894ad896",
   "metadata": {},
   "outputs": [],
   "source": [
    "# rent_to_income_df[rent_to_income_df[\"msa_name\"].str.contains(\"st. louis\", case=False, na=False)]\n",
    "\n",
    "target_cbsa_codes = [\"42660\", \"41860\", \"35620\", \"12060\", \"38060\",\n",
    "                     \"12420\", \"33460\", \"19820\", \"41180\"]"
   ]
  },
  {
   "cell_type": "markdown",
   "id": "4cd3e142-e8f9-4807-9165-99544b77dd5f",
   "metadata": {},
   "source": [
    "Boolean indexing, reassign df of 9 relevant MSAs to itself"
   ]
  },
  {
   "cell_type": "code",
   "execution_count": null,
   "id": "2a03ce9c-9875-47be-a2ee-2108511fe45f",
   "metadata": {},
   "outputs": [],
   "source": [
    "rent_to_income_df = rent_to_income_df[rent_to_income_df[\"cbsa_code\"].isin(target_cbsa_codes)]"
   ]
  },
  {
   "cell_type": "code",
   "execution_count": null,
   "id": "aeefe60e-14c1-44c7-b575-60f12107ed16",
   "metadata": {},
   "outputs": [],
   "source": [
    "rent_to_income_df.info()\n",
    "rent_to_income_df"
   ]
  },
  {
   "cell_type": "markdown",
   "id": "3fe26c06-7774-47ba-8e45-fda75a715625",
   "metadata": {},
   "source": [
    "### Step 5: Deal with missing data"
   ]
  },
  {
   "cell_type": "markdown",
   "id": "de96d9a2-f12c-4eab-ac47-fc8b0110bbb7",
   "metadata": {},
   "source": [
    "Not a problem for 2023"
   ]
  },
  {
   "cell_type": "markdown",
   "id": "ed55ced8-079d-42f6-ac3a-bfc49c88bb6e",
   "metadata": {},
   "source": []
  },
  {
   "cell_type": "markdown",
   "id": "a3a80d95-832f-4634-9fcf-785b8d5c4dee",
   "metadata": {},
   "source": [
    "### Step 6: Reorder columns"
   ]
  },
  {
   "cell_type": "code",
   "execution_count": null,
   "id": "d6c2b1af-0070-40da-8f7d-6e215634c560",
   "metadata": {},
   "outputs": [],
   "source": [
    "desired_order = ['cbsa_code', 'msa_name', 'year', 'hh_total_computed', 'hh_below_10',\n",
    "                 'hh_10_to_15', 'hh_15_to_20', 'hh_20_to_25', 'hh_25_to_30', 'hh_30_to_35',\n",
    "                 'hh_35_to_40', 'hh_40_to_50', 'hh_above_50']\n",
    "\n",
    "rent_to_income_df = rent_to_income_df[desired_order]"
   ]
  },
  {
   "cell_type": "code",
   "execution_count": null,
   "id": "94af93d5-3fb3-4d38-aa66-8e86b1106e51",
   "metadata": {},
   "outputs": [],
   "source": [
    "rent_to_income_df"
   ]
  },
  {
   "cell_type": "markdown",
   "id": "fcab84e4-4fa4-4d27-acb3-8b6c73635e38",
   "metadata": {},
   "source": [
    "### Step X: Repeat for other years"
   ]
  },
  {
   "cell_type": "code",
   "execution_count": null,
   "id": "f207d825-7fc3-4778-996e-8446d85c3d2c",
   "metadata": {},
   "outputs": [],
   "source": [
    "df_merged = pd.DataFrame()\n",
    "\n",
    "df_merged = pd.concat([df_merged, rent_to_income_df], ignore_index=True)"
   ]
  },
  {
   "cell_type": "code",
   "execution_count": null,
   "id": "016aff0d-903f-44ab-bfb2-0a669e70beaf",
   "metadata": {},
   "outputs": [],
   "source": [
    "df_merged.info()"
   ]
  },
  {
   "cell_type": "markdown",
   "id": "65ddf801-50d2-4c99-a602-26a683d24264",
   "metadata": {},
   "source": [
    "Set up a big loop, for each year (2016 to 2023):\n",
    "1. extract data from census API\n",
    "2. store data in dataframe\n",
    "3. rename columns\n",
    "4. add \"year\" and \"total_computed\" columns\n",
    "5. drop \"hh_total\" and \"not_computed\" columns\n",
    "6. filter to 9 msas\n",
    "7. reorder columns\n",
    "8. add dataframe to df_merged\n",
    "\n",
    "note:\n",
    "- check that \"total_computed\" is a correct sum\n",
    "- expect missing values in 2020 for relevant MSAs"
   ]
  },
  {
   "cell_type": "markdown",
   "id": "10d754c8-2f50-47c0-b4c4-f72da4307b02",
   "metadata": {},
   "source": [
    "### Define variables needed for loop"
   ]
  },
  {
   "cell_type": "code",
   "execution_count": 20,
   "id": "569d68ff-a926-4b4d-957c-6c03f6c36e0f",
   "metadata": {},
   "outputs": [],
   "source": [
    "c = Census(CENSUS_API_KEY)\n",
    "\n",
    "census_variables = (\n",
    "    \"NAME\",\n",
    "    \"B25070_001E\",  # Total\n",
    "    \"B25070_002E\",  # Less than 10.0\n",
    "    \"B25070_003E\",  # 10.0 to 14.9\n",
    "    \"B25070_004E\",  # 15.0 to 19.9\n",
    "    \"B25070_005E\",  # 20.0 to 24.9\n",
    "    \"B25070_006E\",  # 25.0 to 29.9\n",
    "    \"B25070_007E\",  # 30.0 to 34.9\n",
    "    \"B25070_008E\",  # 35.0 to 39.9\n",
    "    \"B25070_009E\",  # 40.0 to 49.9\n",
    "    \"B25070_010E\",  # 50.0 or more\n",
    "    \"B25070_011E\"   # Not computed\n",
    ")\n",
    "\n",
    "target_msa_codes = [\"42660\", \"41860\", \"35620\", \"12060\", \"38060\",\n",
    "                     \"12420\", \"33460\", \"19820\", \"41180\"]\n",
    "\n",
    "# column_order = ['msa_code', 'msa_name', 'year', 'hh_total_computed', 'hh_below_10',\n",
    "#                 'hh_10_to_15', 'hh_15_to_20', 'hh_20_to_25', 'hh_25_to_30', 'hh_30_to_35',\n",
    "#                 'hh_35_to_40', 'hh_40_to_50', 'hh_above_50']"
   ]
  },
  {
   "cell_type": "code",
   "execution_count": 21,
   "id": "f804854b-ffa2-47a6-b8f4-899591a94d24",
   "metadata": {},
   "outputs": [],
   "source": [
    "merged_df = pd.DataFrame()"
   ]
  },
  {
   "cell_type": "markdown",
   "id": "4ba87cc3-762e-4de8-b2b1-814904e651a2",
   "metadata": {},
   "source": [
    "### Loop"
   ]
  },
  {
   "cell_type": "code",
   "execution_count": 22,
   "id": "a1ebb991-2a1b-4c90-bd18-e575f294e647",
   "metadata": {},
   "outputs": [
    {
     "name": "stdout",
     "output_type": "stream",
     "text": [
      "2016\n",
      "2017\n",
      "2018\n",
      "2019\n",
      "2021\n",
      "2022\n",
      "2023\n",
      "done\n"
     ]
    }
   ],
   "source": [
    "for year_loop in [2016, 2017, 2018, 2019, 2021, 2022, 2023]:\n",
    "    print(year_loop)\n",
    "    \n",
    "    # extract data from census API\n",
    "    b25070_raw = c.acs1.get(\n",
    "        census_variables,\n",
    "        {'for': 'metropolitan statistical area/micropolitan statistical area:*'},\n",
    "        year=year_loop\n",
    "    )    \n",
    "\n",
    "    \n",
    "    # store data in dataframe\n",
    "    single_year_df = pd.DataFrame(b25070_raw)\n",
    "\n",
    "    \n",
    "    # rename columns\n",
    "    single_year_df = single_year_df.rename(columns={\n",
    "        \"NAME\": \"msa_name\",\n",
    "        \"B25070_001E\": \"total_households_raw\",\n",
    "        \"B25070_002E\": \"less_than_100\",\n",
    "        \"B25070_003E\": \"100_to_149\",\n",
    "        \"B25070_004E\": \"150_to_199\",\n",
    "        \"B25070_005E\": \"200_to_249\",\n",
    "        \"B25070_006E\": \"250_to_299\",\n",
    "        \"B25070_007E\": \"300_to_349\",\n",
    "        \"B25070_008E\": \"350_to_399\",\n",
    "        \"B25070_009E\": \"400_to_499\",\n",
    "        \"B25070_010E\": \"500_or_more\",\n",
    "        \"B25070_011E\": \"households_not_computed\",\n",
    "        \"metropolitan statistical area/micropolitan statistical area\": \"msa_code\"\n",
    "    }, inplace=False)   \n",
    "\n",
    "\n",
    "    \n",
    "    # add \"year\" and \"total_computed\" columns\n",
    "    single_year_df[\"year\"] = year_loop\n",
    "    \n",
    "    single_year_df[\"total_households\"] = single_year_df[\"total_households_raw\"] - single_year_df[\"households_not_computed\"]\n",
    "\n",
    "    \n",
    "    # drop \"hh_total\" and \"not_computed\" columns\n",
    "    single_year_df = single_year_df.drop(columns=[\"total_households_raw\", \"households_not_computed\"], inplace=False)\n",
    "\n",
    "    \n",
    "    # filter to 9 msas\n",
    "    single_year_df = single_year_df[single_year_df[\"msa_code\"].isin(target_cbsa_codes)]\n",
    "\n",
    "    \n",
    "    # reorder columns\n",
    "    # single_year_df = single_year_df[column_order]\n",
    "\n",
    "    \n",
    "    # add dataframe to df_merged\n",
    "    merged_df = pd.concat([merged_df, single_year_df], ignore_index=True)\n",
    "\n",
    "print(\"done\")"
   ]
  },
  {
   "cell_type": "code",
   "execution_count": 23,
   "id": "004f0493-7ddc-4651-a31b-4c9bbd7d8a9b",
   "metadata": {},
   "outputs": [
    {
     "data": {
      "text/html": [
       "<div>\n",
       "<style scoped>\n",
       "    .dataframe tbody tr th:only-of-type {\n",
       "        vertical-align: middle;\n",
       "    }\n",
       "\n",
       "    .dataframe tbody tr th {\n",
       "        vertical-align: top;\n",
       "    }\n",
       "\n",
       "    .dataframe thead th {\n",
       "        text-align: right;\n",
       "    }\n",
       "</style>\n",
       "<table border=\"1\" class=\"dataframe\">\n",
       "  <thead>\n",
       "    <tr style=\"text-align: right;\">\n",
       "      <th></th>\n",
       "      <th>msa_name</th>\n",
       "      <th>less_than_100</th>\n",
       "      <th>100_to_149</th>\n",
       "      <th>150_to_199</th>\n",
       "      <th>200_to_249</th>\n",
       "      <th>250_to_299</th>\n",
       "      <th>300_to_349</th>\n",
       "      <th>350_to_399</th>\n",
       "      <th>400_to_499</th>\n",
       "      <th>500_or_more</th>\n",
       "      <th>msa_code</th>\n",
       "      <th>year</th>\n",
       "      <th>total_households</th>\n",
       "    </tr>\n",
       "  </thead>\n",
       "  <tbody>\n",
       "    <tr>\n",
       "      <th>0</th>\n",
       "      <td>Detroit-Warren-Dearborn, MI Metro Area</td>\n",
       "      <td>20173.0</td>\n",
       "      <td>48142.0</td>\n",
       "      <td>66324.0</td>\n",
       "      <td>65809.0</td>\n",
       "      <td>51797.0</td>\n",
       "      <td>43616.0</td>\n",
       "      <td>31464.0</td>\n",
       "      <td>46630.0</td>\n",
       "      <td>132940.0</td>\n",
       "      <td>19820</td>\n",
       "      <td>2016</td>\n",
       "      <td>506895.0</td>\n",
       "    </tr>\n",
       "    <tr>\n",
       "      <th>1</th>\n",
       "      <td>St. Louis, MO-IL Metro Area</td>\n",
       "      <td>15962.0</td>\n",
       "      <td>32938.0</td>\n",
       "      <td>46123.0</td>\n",
       "      <td>44480.0</td>\n",
       "      <td>39146.0</td>\n",
       "      <td>25854.0</td>\n",
       "      <td>21895.0</td>\n",
       "      <td>28795.0</td>\n",
       "      <td>74818.0</td>\n",
       "      <td>41180</td>\n",
       "      <td>2016</td>\n",
       "      <td>330011.0</td>\n",
       "    </tr>\n",
       "    <tr>\n",
       "      <th>2</th>\n",
       "      <td>San Francisco-Oakland-Hayward, CA Metro Area</td>\n",
       "      <td>39884.0</td>\n",
       "      <td>72610.0</td>\n",
       "      <td>102225.0</td>\n",
       "      <td>100233.0</td>\n",
       "      <td>85421.0</td>\n",
       "      <td>64276.0</td>\n",
       "      <td>47431.0</td>\n",
       "      <td>65088.0</td>\n",
       "      <td>174925.0</td>\n",
       "      <td>41860</td>\n",
       "      <td>2016</td>\n",
       "      <td>752093.0</td>\n",
       "    </tr>\n",
       "    <tr>\n",
       "      <th>3</th>\n",
       "      <td>Seattle-Tacoma-Bellevue, WA Metro Area</td>\n",
       "      <td>19758.0</td>\n",
       "      <td>48147.0</td>\n",
       "      <td>77595.0</td>\n",
       "      <td>84380.0</td>\n",
       "      <td>73227.0</td>\n",
       "      <td>54981.0</td>\n",
       "      <td>36522.0</td>\n",
       "      <td>50927.0</td>\n",
       "      <td>123698.0</td>\n",
       "      <td>42660</td>\n",
       "      <td>2016</td>\n",
       "      <td>569235.0</td>\n",
       "    </tr>\n",
       "    <tr>\n",
       "      <th>4</th>\n",
       "      <td>Minneapolis-St. Paul-Bloomington, MN-WI Metro ...</td>\n",
       "      <td>14308.0</td>\n",
       "      <td>37762.0</td>\n",
       "      <td>55986.0</td>\n",
       "      <td>61677.0</td>\n",
       "      <td>49631.0</td>\n",
       "      <td>38184.0</td>\n",
       "      <td>25435.0</td>\n",
       "      <td>33641.0</td>\n",
       "      <td>87397.0</td>\n",
       "      <td>33460</td>\n",
       "      <td>2016</td>\n",
       "      <td>404021.0</td>\n",
       "    </tr>\n",
       "  </tbody>\n",
       "</table>\n",
       "</div>"
      ],
      "text/plain": [
       "                                            msa_name  less_than_100  \\\n",
       "0             Detroit-Warren-Dearborn, MI Metro Area        20173.0   \n",
       "1                        St. Louis, MO-IL Metro Area        15962.0   \n",
       "2       San Francisco-Oakland-Hayward, CA Metro Area        39884.0   \n",
       "3             Seattle-Tacoma-Bellevue, WA Metro Area        19758.0   \n",
       "4  Minneapolis-St. Paul-Bloomington, MN-WI Metro ...        14308.0   \n",
       "\n",
       "   100_to_149  150_to_199  200_to_249  250_to_299  300_to_349  350_to_399  \\\n",
       "0     48142.0     66324.0     65809.0     51797.0     43616.0     31464.0   \n",
       "1     32938.0     46123.0     44480.0     39146.0     25854.0     21895.0   \n",
       "2     72610.0    102225.0    100233.0     85421.0     64276.0     47431.0   \n",
       "3     48147.0     77595.0     84380.0     73227.0     54981.0     36522.0   \n",
       "4     37762.0     55986.0     61677.0     49631.0     38184.0     25435.0   \n",
       "\n",
       "   400_to_499  500_or_more msa_code  year  total_households  \n",
       "0     46630.0     132940.0    19820  2016          506895.0  \n",
       "1     28795.0      74818.0    41180  2016          330011.0  \n",
       "2     65088.0     174925.0    41860  2016          752093.0  \n",
       "3     50927.0     123698.0    42660  2016          569235.0  \n",
       "4     33641.0      87397.0    33460  2016          404021.0  "
      ]
     },
     "execution_count": 23,
     "metadata": {},
     "output_type": "execute_result"
    }
   ],
   "source": [
    "merged_df.head()"
   ]
  },
  {
   "cell_type": "markdown",
   "id": "bcf72b41-7b4d-4785-b344-7aa768b59498",
   "metadata": {},
   "source": [
    "### Check for missing data and validity of computed column"
   ]
  },
  {
   "cell_type": "code",
   "execution_count": 24,
   "id": "e7787023-25f6-4b89-b904-db1e60aaa5c0",
   "metadata": {},
   "outputs": [
    {
     "name": "stdout",
     "output_type": "stream",
     "text": [
      "<class 'pandas.core.frame.DataFrame'>\n",
      "RangeIndex: 63 entries, 0 to 62\n",
      "Data columns (total 13 columns):\n",
      " #   Column            Non-Null Count  Dtype  \n",
      "---  ------            --------------  -----  \n",
      " 0   msa_name          63 non-null     object \n",
      " 1   less_than_100     63 non-null     float64\n",
      " 2   100_to_149        63 non-null     float64\n",
      " 3   150_to_199        63 non-null     float64\n",
      " 4   200_to_249        63 non-null     float64\n",
      " 5   250_to_299        63 non-null     float64\n",
      " 6   300_to_349        63 non-null     float64\n",
      " 7   350_to_399        63 non-null     float64\n",
      " 8   400_to_499        63 non-null     float64\n",
      " 9   500_or_more       63 non-null     float64\n",
      " 10  msa_code          63 non-null     object \n",
      " 11  year              63 non-null     int64  \n",
      " 12  total_households  63 non-null     float64\n",
      "dtypes: float64(10), int64(1), object(2)\n",
      "memory usage: 6.5+ KB\n"
     ]
    }
   ],
   "source": [
    "merged_df.info()"
   ]
  },
  {
   "cell_type": "code",
   "execution_count": 25,
   "id": "dbbce17d-5381-424b-8e44-499f7e2f13d5",
   "metadata": {},
   "outputs": [
    {
     "data": {
      "text/plain": [
       "np.True_"
      ]
     },
     "execution_count": 25,
     "metadata": {},
     "output_type": "execute_result"
    }
   ],
   "source": [
    "check = merged_df[\"total_households\"] == merged_df[[\"less_than_100\", \"100_to_149\", \"150_to_199\", \n",
    "\"200_to_249\", \"250_to_299\", \"300_to_349\", \"350_to_399\", \"400_to_499\", \"500_or_more\"]].sum(axis=1)\n",
    "\n",
    "check.all()"
   ]
  },
  {
   "cell_type": "code",
   "execution_count": null,
   "id": "c8f5560f-b13a-4cad-b121-ceee50c37d4b",
   "metadata": {},
   "outputs": [],
   "source": []
  },
  {
   "cell_type": "markdown",
   "id": "8195f077-1130-45db-bfda-c9beb2b78d71",
   "metadata": {},
   "source": [
    "### Wide -> Long conversion using pandas.melt"
   ]
  },
  {
   "cell_type": "markdown",
   "id": "8d9e399b-aa67-4e43-9430-6f33e5c3f34c",
   "metadata": {},
   "source": [
    "id_vars = columns to stay fixed and used as identifier variables <br>\n",
    "value_vars = columns to unpivot into rows <br>\n",
    "var_name = name of new column that will store \"previous column names\" <br>\n",
    "value_name = name of new column that will store \"previous values\" <br>"
   ]
  },
  {
   "cell_type": "code",
   "execution_count": 29,
   "id": "8e1e20e8-bf54-4140-8243-df859d96cd50",
   "metadata": {},
   "outputs": [
    {
     "data": {
      "text/plain": [
       "Index(['msa_name', 'less_than_100', '100_to_149', '150_to_199', '200_to_249',\n",
       "       '250_to_299', '300_to_349', '350_to_399', '400_to_499', '500_or_more',\n",
       "       'msa_code', 'year', 'total_households'],\n",
       "      dtype='object')"
      ]
     },
     "execution_count": 29,
     "metadata": {},
     "output_type": "execute_result"
    }
   ],
   "source": [
    "merged_df.columns"
   ]
  },
  {
   "cell_type": "code",
   "execution_count": 30,
   "id": "ec0f2f35-9974-400e-8b4d-07f0705e653f",
   "metadata": {},
   "outputs": [],
   "source": [
    "id_columns = merged_df.columns[[0, 10, 11, 12]]"
   ]
  },
  {
   "cell_type": "code",
   "execution_count": 31,
   "id": "d7efbb3f-5bac-4aa6-ba05-24625ed4fa94",
   "metadata": {},
   "outputs": [],
   "source": [
    "value_columns = merged_df.columns[1:10]"
   ]
  },
  {
   "cell_type": "code",
   "execution_count": 32,
   "id": "1c540ebc-d461-4cb4-9ac5-70e44c195bc1",
   "metadata": {},
   "outputs": [
    {
     "data": {
      "text/plain": [
       "(Index(['msa_name', 'msa_code', 'year', 'total_households'], dtype='object'),\n",
       " Index(['less_than_100', '100_to_149', '150_to_199', '200_to_249', '250_to_299',\n",
       "        '300_to_349', '350_to_399', '400_to_499', '500_or_more'],\n",
       "       dtype='object'))"
      ]
     },
     "execution_count": 32,
     "metadata": {},
     "output_type": "execute_result"
    }
   ],
   "source": [
    "id_columns, value_columns"
   ]
  },
  {
   "cell_type": "code",
   "execution_count": 33,
   "id": "cbc93bdc-428f-4171-a14d-34124dc9138c",
   "metadata": {},
   "outputs": [],
   "source": [
    "merged_df = pd.melt(\n",
    "    merged_df,\n",
    "    id_vars = id_columns,\n",
    "    value_vars = value_columns,\n",
    "    var_name = \"rent_burden_category\",\n",
    "    value_name = \"households\"\n",
    ")"
   ]
  },
  {
   "cell_type": "code",
   "execution_count": 36,
   "id": "d3cd1399-02bc-4b18-8eb4-e1c535e09a42",
   "metadata": {},
   "outputs": [
    {
     "data": {
      "text/html": [
       "<div>\n",
       "<style scoped>\n",
       "    .dataframe tbody tr th:only-of-type {\n",
       "        vertical-align: middle;\n",
       "    }\n",
       "\n",
       "    .dataframe tbody tr th {\n",
       "        vertical-align: top;\n",
       "    }\n",
       "\n",
       "    .dataframe thead th {\n",
       "        text-align: right;\n",
       "    }\n",
       "</style>\n",
       "<table border=\"1\" class=\"dataframe\">\n",
       "  <thead>\n",
       "    <tr style=\"text-align: right;\">\n",
       "      <th></th>\n",
       "      <th>msa_code</th>\n",
       "      <th>msa_name</th>\n",
       "      <th>year</th>\n",
       "      <th>rent_burden_category</th>\n",
       "      <th>households</th>\n",
       "      <th>total_households</th>\n",
       "    </tr>\n",
       "  </thead>\n",
       "  <tbody>\n",
       "    <tr>\n",
       "      <th>0</th>\n",
       "      <td>19820</td>\n",
       "      <td>Detroit-Warren-Dearborn, MI Metro Area</td>\n",
       "      <td>2016</td>\n",
       "      <td>less_than_100</td>\n",
       "      <td>20173.0</td>\n",
       "      <td>506895.0</td>\n",
       "    </tr>\n",
       "    <tr>\n",
       "      <th>1</th>\n",
       "      <td>41180</td>\n",
       "      <td>St. Louis, MO-IL Metro Area</td>\n",
       "      <td>2016</td>\n",
       "      <td>less_than_100</td>\n",
       "      <td>15962.0</td>\n",
       "      <td>330011.0</td>\n",
       "    </tr>\n",
       "    <tr>\n",
       "      <th>2</th>\n",
       "      <td>41860</td>\n",
       "      <td>San Francisco-Oakland-Hayward, CA Metro Area</td>\n",
       "      <td>2016</td>\n",
       "      <td>less_than_100</td>\n",
       "      <td>39884.0</td>\n",
       "      <td>752093.0</td>\n",
       "    </tr>\n",
       "    <tr>\n",
       "      <th>3</th>\n",
       "      <td>42660</td>\n",
       "      <td>Seattle-Tacoma-Bellevue, WA Metro Area</td>\n",
       "      <td>2016</td>\n",
       "      <td>less_than_100</td>\n",
       "      <td>19758.0</td>\n",
       "      <td>569235.0</td>\n",
       "    </tr>\n",
       "    <tr>\n",
       "      <th>4</th>\n",
       "      <td>33460</td>\n",
       "      <td>Minneapolis-St. Paul-Bloomington, MN-WI Metro ...</td>\n",
       "      <td>2016</td>\n",
       "      <td>less_than_100</td>\n",
       "      <td>14308.0</td>\n",
       "      <td>404021.0</td>\n",
       "    </tr>\n",
       "  </tbody>\n",
       "</table>\n",
       "</div>"
      ],
      "text/plain": [
       "  msa_code                                           msa_name  year  \\\n",
       "0    19820             Detroit-Warren-Dearborn, MI Metro Area  2016   \n",
       "1    41180                        St. Louis, MO-IL Metro Area  2016   \n",
       "2    41860       San Francisco-Oakland-Hayward, CA Metro Area  2016   \n",
       "3    42660             Seattle-Tacoma-Bellevue, WA Metro Area  2016   \n",
       "4    33460  Minneapolis-St. Paul-Bloomington, MN-WI Metro ...  2016   \n",
       "\n",
       "  rent_burden_category  households  total_households  \n",
       "0        less_than_100     20173.0          506895.0  \n",
       "1        less_than_100     15962.0          330011.0  \n",
       "2        less_than_100     39884.0          752093.0  \n",
       "3        less_than_100     19758.0          569235.0  \n",
       "4        less_than_100     14308.0          404021.0  "
      ]
     },
     "execution_count": 36,
     "metadata": {},
     "output_type": "execute_result"
    }
   ],
   "source": [
    "column_order = [\n",
    "    \"msa_code\", \"msa_name\", \"year\", \"rent_burden_category\", \"households\", \"total_households\"\n",
    "]\n",
    "merged_df = merged_df[column_order]\n",
    "merged_df.head()"
   ]
  },
  {
   "cell_type": "markdown",
   "id": "0c108599-0d57-4cb6-9e61-754825ec0085",
   "metadata": {},
   "source": [
    "## next to do:\n",
    "\n",
    "- standardize names for var_name, value_name, and values of var_name (the original column names)\n",
    "- move this df to SQL (?)\n",
    "- what to do with 2020 data?\n",
    "- make buckets of rent burden (<30%, 30-40%, 40-50%, >50%)"
   ]
  },
  {
   "cell_type": "code",
   "execution_count": 38,
   "id": "05bd1acf-c42c-4d88-8d64-8d81c8da1216",
   "metadata": {},
   "outputs": [
    {
     "data": {
      "text/html": [
       "<div>\n",
       "<style scoped>\n",
       "    .dataframe tbody tr th:only-of-type {\n",
       "        vertical-align: middle;\n",
       "    }\n",
       "\n",
       "    .dataframe tbody tr th {\n",
       "        vertical-align: top;\n",
       "    }\n",
       "\n",
       "    .dataframe thead th {\n",
       "        text-align: right;\n",
       "    }\n",
       "</style>\n",
       "<table border=\"1\" class=\"dataframe\">\n",
       "  <thead>\n",
       "    <tr style=\"text-align: right;\">\n",
       "      <th></th>\n",
       "      <th>msa_code</th>\n",
       "      <th>msa_name</th>\n",
       "      <th>year</th>\n",
       "      <th>rent_burden_category</th>\n",
       "      <th>households</th>\n",
       "      <th>total_households</th>\n",
       "    </tr>\n",
       "  </thead>\n",
       "  <tbody>\n",
       "    <tr>\n",
       "      <th>62</th>\n",
       "      <td>42660</td>\n",
       "      <td>Seattle-Tacoma-Bellevue, WA Metro Area</td>\n",
       "      <td>2023</td>\n",
       "      <td>less_than_100</td>\n",
       "      <td>26376.0</td>\n",
       "      <td>634047.0</td>\n",
       "    </tr>\n",
       "    <tr>\n",
       "      <th>125</th>\n",
       "      <td>42660</td>\n",
       "      <td>Seattle-Tacoma-Bellevue, WA Metro Area</td>\n",
       "      <td>2023</td>\n",
       "      <td>100_to_149</td>\n",
       "      <td>58134.0</td>\n",
       "      <td>634047.0</td>\n",
       "    </tr>\n",
       "    <tr>\n",
       "      <th>188</th>\n",
       "      <td>42660</td>\n",
       "      <td>Seattle-Tacoma-Bellevue, WA Metro Area</td>\n",
       "      <td>2023</td>\n",
       "      <td>150_to_199</td>\n",
       "      <td>84136.0</td>\n",
       "      <td>634047.0</td>\n",
       "    </tr>\n",
       "    <tr>\n",
       "      <th>251</th>\n",
       "      <td>42660</td>\n",
       "      <td>Seattle-Tacoma-Bellevue, WA Metro Area</td>\n",
       "      <td>2023</td>\n",
       "      <td>200_to_249</td>\n",
       "      <td>81065.0</td>\n",
       "      <td>634047.0</td>\n",
       "    </tr>\n",
       "    <tr>\n",
       "      <th>314</th>\n",
       "      <td>42660</td>\n",
       "      <td>Seattle-Tacoma-Bellevue, WA Metro Area</td>\n",
       "      <td>2023</td>\n",
       "      <td>250_to_299</td>\n",
       "      <td>72359.0</td>\n",
       "      <td>634047.0</td>\n",
       "    </tr>\n",
       "    <tr>\n",
       "      <th>377</th>\n",
       "      <td>42660</td>\n",
       "      <td>Seattle-Tacoma-Bellevue, WA Metro Area</td>\n",
       "      <td>2023</td>\n",
       "      <td>300_to_349</td>\n",
       "      <td>59258.0</td>\n",
       "      <td>634047.0</td>\n",
       "    </tr>\n",
       "    <tr>\n",
       "      <th>440</th>\n",
       "      <td>42660</td>\n",
       "      <td>Seattle-Tacoma-Bellevue, WA Metro Area</td>\n",
       "      <td>2023</td>\n",
       "      <td>350_to_399</td>\n",
       "      <td>48272.0</td>\n",
       "      <td>634047.0</td>\n",
       "    </tr>\n",
       "    <tr>\n",
       "      <th>503</th>\n",
       "      <td>42660</td>\n",
       "      <td>Seattle-Tacoma-Bellevue, WA Metro Area</td>\n",
       "      <td>2023</td>\n",
       "      <td>400_to_499</td>\n",
       "      <td>55604.0</td>\n",
       "      <td>634047.0</td>\n",
       "    </tr>\n",
       "    <tr>\n",
       "      <th>566</th>\n",
       "      <td>42660</td>\n",
       "      <td>Seattle-Tacoma-Bellevue, WA Metro Area</td>\n",
       "      <td>2023</td>\n",
       "      <td>500_or_more</td>\n",
       "      <td>148843.0</td>\n",
       "      <td>634047.0</td>\n",
       "    </tr>\n",
       "  </tbody>\n",
       "</table>\n",
       "</div>"
      ],
      "text/plain": [
       "    msa_code                                msa_name  year  \\\n",
       "62     42660  Seattle-Tacoma-Bellevue, WA Metro Area  2023   \n",
       "125    42660  Seattle-Tacoma-Bellevue, WA Metro Area  2023   \n",
       "188    42660  Seattle-Tacoma-Bellevue, WA Metro Area  2023   \n",
       "251    42660  Seattle-Tacoma-Bellevue, WA Metro Area  2023   \n",
       "314    42660  Seattle-Tacoma-Bellevue, WA Metro Area  2023   \n",
       "377    42660  Seattle-Tacoma-Bellevue, WA Metro Area  2023   \n",
       "440    42660  Seattle-Tacoma-Bellevue, WA Metro Area  2023   \n",
       "503    42660  Seattle-Tacoma-Bellevue, WA Metro Area  2023   \n",
       "566    42660  Seattle-Tacoma-Bellevue, WA Metro Area  2023   \n",
       "\n",
       "    rent_burden_category  households  total_households  \n",
       "62         less_than_100     26376.0          634047.0  \n",
       "125           100_to_149     58134.0          634047.0  \n",
       "188           150_to_199     84136.0          634047.0  \n",
       "251           200_to_249     81065.0          634047.0  \n",
       "314           250_to_299     72359.0          634047.0  \n",
       "377           300_to_349     59258.0          634047.0  \n",
       "440           350_to_399     48272.0          634047.0  \n",
       "503           400_to_499     55604.0          634047.0  \n",
       "566          500_or_more    148843.0          634047.0  "
      ]
     },
     "execution_count": 38,
     "metadata": {},
     "output_type": "execute_result"
    }
   ],
   "source": [
    "merged_df.loc[\n",
    "    (merged_df[\"year\"] == 2023) & (merged_df[\"msa_name\"].str.contains(\"seattle\", case=False)),\n",
    "    :\n",
    "]"
   ]
  },
  {
   "cell_type": "code",
   "execution_count": 41,
   "id": "d6c05d14-a992-4632-ae29-8b935f89a636",
   "metadata": {},
   "outputs": [],
   "source": [
    "# create buckets\n",
    "\n",
    "bucket_map = {\n",
    "    \"less_than_100\": \"Not rent burdened\",\n",
    "    \"100_to_149\": \"Not rent burdened\",\n",
    "    \"150_to_199\": \"Not rent burdened\",\n",
    "    \"200_to_249\": \"Not rent burdened\",\n",
    "    \"250_to_299\": \"Not rent burdened\",\n",
    "    \"300_to_349\": \"Moderately rent burdened\",\n",
    "    \"350_to_399\": \"Moderately rent burdened\",\n",
    "    \"400_to_499\": \"Moderately rent burdened\",\n",
    "    \"500_or_more\": \"Severely rent burdened\"\n",
    "}\n",
    "\n",
    "merged_df[\"rent_burden_group\"] = merged_df[\"rent_burden_category\"].map(bucket_map)"
   ]
  },
  {
   "cell_type": "code",
   "execution_count": 42,
   "id": "24c3ccb0-29f4-49b9-8984-0cafa00f860c",
   "metadata": {},
   "outputs": [
    {
     "data": {
      "text/html": [
       "<div>\n",
       "<style scoped>\n",
       "    .dataframe tbody tr th:only-of-type {\n",
       "        vertical-align: middle;\n",
       "    }\n",
       "\n",
       "    .dataframe tbody tr th {\n",
       "        vertical-align: top;\n",
       "    }\n",
       "\n",
       "    .dataframe thead th {\n",
       "        text-align: right;\n",
       "    }\n",
       "</style>\n",
       "<table border=\"1\" class=\"dataframe\">\n",
       "  <thead>\n",
       "    <tr style=\"text-align: right;\">\n",
       "      <th></th>\n",
       "      <th>msa_code</th>\n",
       "      <th>msa_name</th>\n",
       "      <th>year</th>\n",
       "      <th>rent_burden_category</th>\n",
       "      <th>households</th>\n",
       "      <th>total_households</th>\n",
       "      <th>rent_burden_group</th>\n",
       "    </tr>\n",
       "  </thead>\n",
       "  <tbody>\n",
       "    <tr>\n",
       "      <th>0</th>\n",
       "      <td>19820</td>\n",
       "      <td>Detroit-Warren-Dearborn, MI Metro Area</td>\n",
       "      <td>2016</td>\n",
       "      <td>less_than_100</td>\n",
       "      <td>20173.0</td>\n",
       "      <td>506895.0</td>\n",
       "      <td>Not rent burdened</td>\n",
       "    </tr>\n",
       "    <tr>\n",
       "      <th>1</th>\n",
       "      <td>41180</td>\n",
       "      <td>St. Louis, MO-IL Metro Area</td>\n",
       "      <td>2016</td>\n",
       "      <td>less_than_100</td>\n",
       "      <td>15962.0</td>\n",
       "      <td>330011.0</td>\n",
       "      <td>Not rent burdened</td>\n",
       "    </tr>\n",
       "    <tr>\n",
       "      <th>2</th>\n",
       "      <td>41860</td>\n",
       "      <td>San Francisco-Oakland-Hayward, CA Metro Area</td>\n",
       "      <td>2016</td>\n",
       "      <td>less_than_100</td>\n",
       "      <td>39884.0</td>\n",
       "      <td>752093.0</td>\n",
       "      <td>Not rent burdened</td>\n",
       "    </tr>\n",
       "    <tr>\n",
       "      <th>3</th>\n",
       "      <td>42660</td>\n",
       "      <td>Seattle-Tacoma-Bellevue, WA Metro Area</td>\n",
       "      <td>2016</td>\n",
       "      <td>less_than_100</td>\n",
       "      <td>19758.0</td>\n",
       "      <td>569235.0</td>\n",
       "      <td>Not rent burdened</td>\n",
       "    </tr>\n",
       "    <tr>\n",
       "      <th>4</th>\n",
       "      <td>33460</td>\n",
       "      <td>Minneapolis-St. Paul-Bloomington, MN-WI Metro ...</td>\n",
       "      <td>2016</td>\n",
       "      <td>less_than_100</td>\n",
       "      <td>14308.0</td>\n",
       "      <td>404021.0</td>\n",
       "      <td>Not rent burdened</td>\n",
       "    </tr>\n",
       "  </tbody>\n",
       "</table>\n",
       "</div>"
      ],
      "text/plain": [
       "  msa_code                                           msa_name  year  \\\n",
       "0    19820             Detroit-Warren-Dearborn, MI Metro Area  2016   \n",
       "1    41180                        St. Louis, MO-IL Metro Area  2016   \n",
       "2    41860       San Francisco-Oakland-Hayward, CA Metro Area  2016   \n",
       "3    42660             Seattle-Tacoma-Bellevue, WA Metro Area  2016   \n",
       "4    33460  Minneapolis-St. Paul-Bloomington, MN-WI Metro ...  2016   \n",
       "\n",
       "  rent_burden_category  households  total_households  rent_burden_group  \n",
       "0        less_than_100     20173.0          506895.0  Not rent burdened  \n",
       "1        less_than_100     15962.0          330011.0  Not rent burdened  \n",
       "2        less_than_100     39884.0          752093.0  Not rent burdened  \n",
       "3        less_than_100     19758.0          569235.0  Not rent burdened  \n",
       "4        less_than_100     14308.0          404021.0  Not rent burdened  "
      ]
     },
     "execution_count": 42,
     "metadata": {},
     "output_type": "execute_result"
    }
   ],
   "source": [
    "merged_df.head()"
   ]
  },
  {
   "cell_type": "code",
   "execution_count": 17,
   "id": "500c68ba-1685-4402-b36f-55648c58c873",
   "metadata": {},
   "outputs": [
    {
     "data": {
      "text/html": [
       "<div>\n",
       "<style scoped>\n",
       "    .dataframe tbody tr th:only-of-type {\n",
       "        vertical-align: middle;\n",
       "    }\n",
       "\n",
       "    .dataframe tbody tr th {\n",
       "        vertical-align: top;\n",
       "    }\n",
       "\n",
       "    .dataframe thead th {\n",
       "        text-align: right;\n",
       "    }\n",
       "</style>\n",
       "<table border=\"1\" class=\"dataframe\">\n",
       "  <thead>\n",
       "    <tr style=\"text-align: right;\">\n",
       "      <th></th>\n",
       "      <th>cbsa_code</th>\n",
       "      <th>msa_name</th>\n",
       "      <th>year</th>\n",
       "      <th>hh_total_computed</th>\n",
       "      <th>rent_burden_category</th>\n",
       "      <th>hh_count</th>\n",
       "      <th>rent_burden_group</th>\n",
       "    </tr>\n",
       "  </thead>\n",
       "  <tbody>\n",
       "    <tr>\n",
       "      <th>3</th>\n",
       "      <td>42660</td>\n",
       "      <td>Seattle-Tacoma-Bellevue, WA Metro Area</td>\n",
       "      <td>2016</td>\n",
       "      <td>569235.0</td>\n",
       "      <td>hh_below_10</td>\n",
       "      <td>19758.0</td>\n",
       "      <td>not rent burdened</td>\n",
       "    </tr>\n",
       "    <tr>\n",
       "      <th>66</th>\n",
       "      <td>42660</td>\n",
       "      <td>Seattle-Tacoma-Bellevue, WA Metro Area</td>\n",
       "      <td>2016</td>\n",
       "      <td>569235.0</td>\n",
       "      <td>hh_10_to_15</td>\n",
       "      <td>48147.0</td>\n",
       "      <td>not rent burdened</td>\n",
       "    </tr>\n",
       "    <tr>\n",
       "      <th>129</th>\n",
       "      <td>42660</td>\n",
       "      <td>Seattle-Tacoma-Bellevue, WA Metro Area</td>\n",
       "      <td>2016</td>\n",
       "      <td>569235.0</td>\n",
       "      <td>hh_15_to_20</td>\n",
       "      <td>77595.0</td>\n",
       "      <td>not rent burdened</td>\n",
       "    </tr>\n",
       "    <tr>\n",
       "      <th>192</th>\n",
       "      <td>42660</td>\n",
       "      <td>Seattle-Tacoma-Bellevue, WA Metro Area</td>\n",
       "      <td>2016</td>\n",
       "      <td>569235.0</td>\n",
       "      <td>hh_20_to_25</td>\n",
       "      <td>84380.0</td>\n",
       "      <td>not rent burdened</td>\n",
       "    </tr>\n",
       "    <tr>\n",
       "      <th>255</th>\n",
       "      <td>42660</td>\n",
       "      <td>Seattle-Tacoma-Bellevue, WA Metro Area</td>\n",
       "      <td>2016</td>\n",
       "      <td>569235.0</td>\n",
       "      <td>hh_25_to_30</td>\n",
       "      <td>73227.0</td>\n",
       "      <td>not rent burdened</td>\n",
       "    </tr>\n",
       "    <tr>\n",
       "      <th>318</th>\n",
       "      <td>42660</td>\n",
       "      <td>Seattle-Tacoma-Bellevue, WA Metro Area</td>\n",
       "      <td>2016</td>\n",
       "      <td>569235.0</td>\n",
       "      <td>hh_30_to_35</td>\n",
       "      <td>54981.0</td>\n",
       "      <td>rent burdened</td>\n",
       "    </tr>\n",
       "    <tr>\n",
       "      <th>381</th>\n",
       "      <td>42660</td>\n",
       "      <td>Seattle-Tacoma-Bellevue, WA Metro Area</td>\n",
       "      <td>2016</td>\n",
       "      <td>569235.0</td>\n",
       "      <td>hh_35_to_40</td>\n",
       "      <td>36522.0</td>\n",
       "      <td>rent burdened</td>\n",
       "    </tr>\n",
       "    <tr>\n",
       "      <th>444</th>\n",
       "      <td>42660</td>\n",
       "      <td>Seattle-Tacoma-Bellevue, WA Metro Area</td>\n",
       "      <td>2016</td>\n",
       "      <td>569235.0</td>\n",
       "      <td>hh_40_to_50</td>\n",
       "      <td>50927.0</td>\n",
       "      <td>rent burdened</td>\n",
       "    </tr>\n",
       "    <tr>\n",
       "      <th>507</th>\n",
       "      <td>42660</td>\n",
       "      <td>Seattle-Tacoma-Bellevue, WA Metro Area</td>\n",
       "      <td>2016</td>\n",
       "      <td>569235.0</td>\n",
       "      <td>hh_above_50</td>\n",
       "      <td>123698.0</td>\n",
       "      <td>severely rent burdened</td>\n",
       "    </tr>\n",
       "  </tbody>\n",
       "</table>\n",
       "</div>"
      ],
      "text/plain": [
       "    cbsa_code                                msa_name  year  \\\n",
       "3       42660  Seattle-Tacoma-Bellevue, WA Metro Area  2016   \n",
       "66      42660  Seattle-Tacoma-Bellevue, WA Metro Area  2016   \n",
       "129     42660  Seattle-Tacoma-Bellevue, WA Metro Area  2016   \n",
       "192     42660  Seattle-Tacoma-Bellevue, WA Metro Area  2016   \n",
       "255     42660  Seattle-Tacoma-Bellevue, WA Metro Area  2016   \n",
       "318     42660  Seattle-Tacoma-Bellevue, WA Metro Area  2016   \n",
       "381     42660  Seattle-Tacoma-Bellevue, WA Metro Area  2016   \n",
       "444     42660  Seattle-Tacoma-Bellevue, WA Metro Area  2016   \n",
       "507     42660  Seattle-Tacoma-Bellevue, WA Metro Area  2016   \n",
       "\n",
       "     hh_total_computed rent_burden_category  hh_count       rent_burden_group  \n",
       "3             569235.0          hh_below_10   19758.0       not rent burdened  \n",
       "66            569235.0          hh_10_to_15   48147.0       not rent burdened  \n",
       "129           569235.0          hh_15_to_20   77595.0       not rent burdened  \n",
       "192           569235.0          hh_20_to_25   84380.0       not rent burdened  \n",
       "255           569235.0          hh_25_to_30   73227.0       not rent burdened  \n",
       "318           569235.0          hh_30_to_35   54981.0           rent burdened  \n",
       "381           569235.0          hh_35_to_40   36522.0           rent burdened  \n",
       "444           569235.0          hh_40_to_50   50927.0           rent burdened  \n",
       "507           569235.0          hh_above_50  123698.0  severely rent burdened  "
      ]
     },
     "execution_count": 17,
     "metadata": {},
     "output_type": "execute_result"
    }
   ],
   "source": [
    "df.loc[\n",
    "    (df[\"msa_name\"].str.contains(\"seattle\", case=False)) & (df[\"year\"] == 2016),\n",
    "    :\n",
    "]"
   ]
  },
  {
   "cell_type": "markdown",
   "id": "a91ef0fc-58e9-4e70-91fc-be85928db75f",
   "metadata": {},
   "source": [
    "#### Using a SQL-like group-by aggregation, create a new DataFrame that only has the rent_burden_group information\n",
    "#### This is more EDA-ready, as it is less granular (more coarse)"
   ]
  },
  {
   "cell_type": "code",
   "execution_count": 13,
   "id": "15c5ba83-f2ac-4e73-a18a-8d42826e9cb4",
   "metadata": {},
   "outputs": [],
   "source": [
    "df_groups = df.groupby(['cbsa_code', 'msa_name', 'year', \"hh_total_computed\", 'rent_burden_group'], as_index=False)['hh_count'].sum()"
   ]
  },
  {
   "cell_type": "code",
   "execution_count": 14,
   "id": "5e321c9a-5013-4089-9ec3-87a3845ea310",
   "metadata": {},
   "outputs": [],
   "source": [
    "df_groups[\"hh_pct\"] = df_groups[\"hh_count\"] / df_groups[\"hh_total_computed\"]"
   ]
  },
  {
   "cell_type": "code",
   "execution_count": 15,
   "id": "d1bd8d2b-801a-4b7f-8cee-2636fd982280",
   "metadata": {},
   "outputs": [
    {
     "data": {
      "text/html": [
       "<div>\n",
       "<style scoped>\n",
       "    .dataframe tbody tr th:only-of-type {\n",
       "        vertical-align: middle;\n",
       "    }\n",
       "\n",
       "    .dataframe tbody tr th {\n",
       "        vertical-align: top;\n",
       "    }\n",
       "\n",
       "    .dataframe thead th {\n",
       "        text-align: right;\n",
       "    }\n",
       "</style>\n",
       "<table border=\"1\" class=\"dataframe\">\n",
       "  <thead>\n",
       "    <tr style=\"text-align: right;\">\n",
       "      <th></th>\n",
       "      <th>cbsa_code</th>\n",
       "      <th>msa_name</th>\n",
       "      <th>year</th>\n",
       "      <th>hh_total_computed</th>\n",
       "      <th>rent_burden_group</th>\n",
       "      <th>hh_count</th>\n",
       "      <th>hh_pct</th>\n",
       "    </tr>\n",
       "  </thead>\n",
       "  <tbody>\n",
       "    <tr>\n",
       "      <th>168</th>\n",
       "      <td>42660</td>\n",
       "      <td>Seattle-Tacoma-Bellevue, WA Metro Area</td>\n",
       "      <td>2016</td>\n",
       "      <td>569235.0</td>\n",
       "      <td>not rent burdened</td>\n",
       "      <td>303107.0</td>\n",
       "      <td>0.532481</td>\n",
       "    </tr>\n",
       "    <tr>\n",
       "      <th>169</th>\n",
       "      <td>42660</td>\n",
       "      <td>Seattle-Tacoma-Bellevue, WA Metro Area</td>\n",
       "      <td>2016</td>\n",
       "      <td>569235.0</td>\n",
       "      <td>rent burdened</td>\n",
       "      <td>142430.0</td>\n",
       "      <td>0.250213</td>\n",
       "    </tr>\n",
       "    <tr>\n",
       "      <th>170</th>\n",
       "      <td>42660</td>\n",
       "      <td>Seattle-Tacoma-Bellevue, WA Metro Area</td>\n",
       "      <td>2016</td>\n",
       "      <td>569235.0</td>\n",
       "      <td>severely rent burdened</td>\n",
       "      <td>123698.0</td>\n",
       "      <td>0.217306</td>\n",
       "    </tr>\n",
       "    <tr>\n",
       "      <th>171</th>\n",
       "      <td>42660</td>\n",
       "      <td>Seattle-Tacoma-Bellevue, WA Metro Area</td>\n",
       "      <td>2017</td>\n",
       "      <td>569710.0</td>\n",
       "      <td>not rent burdened</td>\n",
       "      <td>297943.0</td>\n",
       "      <td>0.522973</td>\n",
       "    </tr>\n",
       "    <tr>\n",
       "      <th>172</th>\n",
       "      <td>42660</td>\n",
       "      <td>Seattle-Tacoma-Bellevue, WA Metro Area</td>\n",
       "      <td>2017</td>\n",
       "      <td>569710.0</td>\n",
       "      <td>rent burdened</td>\n",
       "      <td>144835.0</td>\n",
       "      <td>0.254226</td>\n",
       "    </tr>\n",
       "    <tr>\n",
       "      <th>173</th>\n",
       "      <td>42660</td>\n",
       "      <td>Seattle-Tacoma-Bellevue, WA Metro Area</td>\n",
       "      <td>2017</td>\n",
       "      <td>569710.0</td>\n",
       "      <td>severely rent burdened</td>\n",
       "      <td>126932.0</td>\n",
       "      <td>0.222801</td>\n",
       "    </tr>\n",
       "    <tr>\n",
       "      <th>174</th>\n",
       "      <td>42660</td>\n",
       "      <td>Seattle-Tacoma-Bellevue, WA Metro Area</td>\n",
       "      <td>2018</td>\n",
       "      <td>591088.0</td>\n",
       "      <td>not rent burdened</td>\n",
       "      <td>311341.0</td>\n",
       "      <td>0.526725</td>\n",
       "    </tr>\n",
       "    <tr>\n",
       "      <th>175</th>\n",
       "      <td>42660</td>\n",
       "      <td>Seattle-Tacoma-Bellevue, WA Metro Area</td>\n",
       "      <td>2018</td>\n",
       "      <td>591088.0</td>\n",
       "      <td>rent burdened</td>\n",
       "      <td>148271.0</td>\n",
       "      <td>0.250844</td>\n",
       "    </tr>\n",
       "    <tr>\n",
       "      <th>176</th>\n",
       "      <td>42660</td>\n",
       "      <td>Seattle-Tacoma-Bellevue, WA Metro Area</td>\n",
       "      <td>2018</td>\n",
       "      <td>591088.0</td>\n",
       "      <td>severely rent burdened</td>\n",
       "      <td>131476.0</td>\n",
       "      <td>0.222431</td>\n",
       "    </tr>\n",
       "    <tr>\n",
       "      <th>177</th>\n",
       "      <td>42660</td>\n",
       "      <td>Seattle-Tacoma-Bellevue, WA Metro Area</td>\n",
       "      <td>2019</td>\n",
       "      <td>596076.0</td>\n",
       "      <td>not rent burdened</td>\n",
       "      <td>314136.0</td>\n",
       "      <td>0.527007</td>\n",
       "    </tr>\n",
       "    <tr>\n",
       "      <th>178</th>\n",
       "      <td>42660</td>\n",
       "      <td>Seattle-Tacoma-Bellevue, WA Metro Area</td>\n",
       "      <td>2019</td>\n",
       "      <td>596076.0</td>\n",
       "      <td>rent burdened</td>\n",
       "      <td>157339.0</td>\n",
       "      <td>0.263958</td>\n",
       "    </tr>\n",
       "    <tr>\n",
       "      <th>179</th>\n",
       "      <td>42660</td>\n",
       "      <td>Seattle-Tacoma-Bellevue, WA Metro Area</td>\n",
       "      <td>2019</td>\n",
       "      <td>596076.0</td>\n",
       "      <td>severely rent burdened</td>\n",
       "      <td>124601.0</td>\n",
       "      <td>0.209035</td>\n",
       "    </tr>\n",
       "    <tr>\n",
       "      <th>180</th>\n",
       "      <td>42660</td>\n",
       "      <td>Seattle-Tacoma-Bellevue, WA Metro Area</td>\n",
       "      <td>2021</td>\n",
       "      <td>591785.0</td>\n",
       "      <td>not rent burdened</td>\n",
       "      <td>302345.0</td>\n",
       "      <td>0.510903</td>\n",
       "    </tr>\n",
       "    <tr>\n",
       "      <th>181</th>\n",
       "      <td>42660</td>\n",
       "      <td>Seattle-Tacoma-Bellevue, WA Metro Area</td>\n",
       "      <td>2021</td>\n",
       "      <td>591785.0</td>\n",
       "      <td>rent burdened</td>\n",
       "      <td>144572.0</td>\n",
       "      <td>0.244298</td>\n",
       "    </tr>\n",
       "    <tr>\n",
       "      <th>182</th>\n",
       "      <td>42660</td>\n",
       "      <td>Seattle-Tacoma-Bellevue, WA Metro Area</td>\n",
       "      <td>2021</td>\n",
       "      <td>591785.0</td>\n",
       "      <td>severely rent burdened</td>\n",
       "      <td>144868.0</td>\n",
       "      <td>0.244798</td>\n",
       "    </tr>\n",
       "    <tr>\n",
       "      <th>183</th>\n",
       "      <td>42660</td>\n",
       "      <td>Seattle-Tacoma-Bellevue, WA Metro Area</td>\n",
       "      <td>2022</td>\n",
       "      <td>621177.0</td>\n",
       "      <td>not rent burdened</td>\n",
       "      <td>310607.0</td>\n",
       "      <td>0.500030</td>\n",
       "    </tr>\n",
       "    <tr>\n",
       "      <th>184</th>\n",
       "      <td>42660</td>\n",
       "      <td>Seattle-Tacoma-Bellevue, WA Metro Area</td>\n",
       "      <td>2022</td>\n",
       "      <td>621177.0</td>\n",
       "      <td>rent burdened</td>\n",
       "      <td>161663.0</td>\n",
       "      <td>0.260253</td>\n",
       "    </tr>\n",
       "    <tr>\n",
       "      <th>185</th>\n",
       "      <td>42660</td>\n",
       "      <td>Seattle-Tacoma-Bellevue, WA Metro Area</td>\n",
       "      <td>2022</td>\n",
       "      <td>621177.0</td>\n",
       "      <td>severely rent burdened</td>\n",
       "      <td>148907.0</td>\n",
       "      <td>0.239718</td>\n",
       "    </tr>\n",
       "    <tr>\n",
       "      <th>186</th>\n",
       "      <td>42660</td>\n",
       "      <td>Seattle-Tacoma-Bellevue, WA Metro Area</td>\n",
       "      <td>2023</td>\n",
       "      <td>634047.0</td>\n",
       "      <td>not rent burdened</td>\n",
       "      <td>322070.0</td>\n",
       "      <td>0.507959</td>\n",
       "    </tr>\n",
       "    <tr>\n",
       "      <th>187</th>\n",
       "      <td>42660</td>\n",
       "      <td>Seattle-Tacoma-Bellevue, WA Metro Area</td>\n",
       "      <td>2023</td>\n",
       "      <td>634047.0</td>\n",
       "      <td>rent burdened</td>\n",
       "      <td>163134.0</td>\n",
       "      <td>0.257290</td>\n",
       "    </tr>\n",
       "    <tr>\n",
       "      <th>188</th>\n",
       "      <td>42660</td>\n",
       "      <td>Seattle-Tacoma-Bellevue, WA Metro Area</td>\n",
       "      <td>2023</td>\n",
       "      <td>634047.0</td>\n",
       "      <td>severely rent burdened</td>\n",
       "      <td>148843.0</td>\n",
       "      <td>0.234751</td>\n",
       "    </tr>\n",
       "  </tbody>\n",
       "</table>\n",
       "</div>"
      ],
      "text/plain": [
       "    cbsa_code                                msa_name  year  \\\n",
       "168     42660  Seattle-Tacoma-Bellevue, WA Metro Area  2016   \n",
       "169     42660  Seattle-Tacoma-Bellevue, WA Metro Area  2016   \n",
       "170     42660  Seattle-Tacoma-Bellevue, WA Metro Area  2016   \n",
       "171     42660  Seattle-Tacoma-Bellevue, WA Metro Area  2017   \n",
       "172     42660  Seattle-Tacoma-Bellevue, WA Metro Area  2017   \n",
       "173     42660  Seattle-Tacoma-Bellevue, WA Metro Area  2017   \n",
       "174     42660  Seattle-Tacoma-Bellevue, WA Metro Area  2018   \n",
       "175     42660  Seattle-Tacoma-Bellevue, WA Metro Area  2018   \n",
       "176     42660  Seattle-Tacoma-Bellevue, WA Metro Area  2018   \n",
       "177     42660  Seattle-Tacoma-Bellevue, WA Metro Area  2019   \n",
       "178     42660  Seattle-Tacoma-Bellevue, WA Metro Area  2019   \n",
       "179     42660  Seattle-Tacoma-Bellevue, WA Metro Area  2019   \n",
       "180     42660  Seattle-Tacoma-Bellevue, WA Metro Area  2021   \n",
       "181     42660  Seattle-Tacoma-Bellevue, WA Metro Area  2021   \n",
       "182     42660  Seattle-Tacoma-Bellevue, WA Metro Area  2021   \n",
       "183     42660  Seattle-Tacoma-Bellevue, WA Metro Area  2022   \n",
       "184     42660  Seattle-Tacoma-Bellevue, WA Metro Area  2022   \n",
       "185     42660  Seattle-Tacoma-Bellevue, WA Metro Area  2022   \n",
       "186     42660  Seattle-Tacoma-Bellevue, WA Metro Area  2023   \n",
       "187     42660  Seattle-Tacoma-Bellevue, WA Metro Area  2023   \n",
       "188     42660  Seattle-Tacoma-Bellevue, WA Metro Area  2023   \n",
       "\n",
       "     hh_total_computed       rent_burden_group  hh_count    hh_pct  \n",
       "168           569235.0       not rent burdened  303107.0  0.532481  \n",
       "169           569235.0           rent burdened  142430.0  0.250213  \n",
       "170           569235.0  severely rent burdened  123698.0  0.217306  \n",
       "171           569710.0       not rent burdened  297943.0  0.522973  \n",
       "172           569710.0           rent burdened  144835.0  0.254226  \n",
       "173           569710.0  severely rent burdened  126932.0  0.222801  \n",
       "174           591088.0       not rent burdened  311341.0  0.526725  \n",
       "175           591088.0           rent burdened  148271.0  0.250844  \n",
       "176           591088.0  severely rent burdened  131476.0  0.222431  \n",
       "177           596076.0       not rent burdened  314136.0  0.527007  \n",
       "178           596076.0           rent burdened  157339.0  0.263958  \n",
       "179           596076.0  severely rent burdened  124601.0  0.209035  \n",
       "180           591785.0       not rent burdened  302345.0  0.510903  \n",
       "181           591785.0           rent burdened  144572.0  0.244298  \n",
       "182           591785.0  severely rent burdened  144868.0  0.244798  \n",
       "183           621177.0       not rent burdened  310607.0  0.500030  \n",
       "184           621177.0           rent burdened  161663.0  0.260253  \n",
       "185           621177.0  severely rent burdened  148907.0  0.239718  \n",
       "186           634047.0       not rent burdened  322070.0  0.507959  \n",
       "187           634047.0           rent burdened  163134.0  0.257290  \n",
       "188           634047.0  severely rent burdened  148843.0  0.234751  "
      ]
     },
     "execution_count": 15,
     "metadata": {},
     "output_type": "execute_result"
    }
   ],
   "source": [
    "df_groups.loc[\n",
    "    df_groups[\"msa_name\"].str.contains(\"seattle\", case=False),\n",
    "    :\n",
    "]"
   ]
  },
  {
   "cell_type": "code",
   "execution_count": 16,
   "id": "976f599d-904b-45a4-9d55-fefd83d827f8",
   "metadata": {},
   "outputs": [
    {
     "data": {
      "text/html": [
       "<div>\n",
       "<style scoped>\n",
       "    .dataframe tbody tr th:only-of-type {\n",
       "        vertical-align: middle;\n",
       "    }\n",
       "\n",
       "    .dataframe tbody tr th {\n",
       "        vertical-align: top;\n",
       "    }\n",
       "\n",
       "    .dataframe thead th {\n",
       "        text-align: right;\n",
       "    }\n",
       "</style>\n",
       "<table border=\"1\" class=\"dataframe\">\n",
       "  <thead>\n",
       "    <tr style=\"text-align: right;\">\n",
       "      <th></th>\n",
       "      <th>cbsa_code</th>\n",
       "      <th>msa_name</th>\n",
       "      <th>year</th>\n",
       "      <th>hh_total_computed</th>\n",
       "      <th>rent_burden_group</th>\n",
       "      <th>hh_count</th>\n",
       "      <th>hh_pct</th>\n",
       "    </tr>\n",
       "  </thead>\n",
       "  <tbody>\n",
       "    <tr>\n",
       "      <th>18</th>\n",
       "      <td>12060</td>\n",
       "      <td>Atlanta-Sandy Springs-Roswell, GA Metro Area</td>\n",
       "      <td>2023</td>\n",
       "      <td>733261.0</td>\n",
       "      <td>not rent burdened</td>\n",
       "      <td>316727.0</td>\n",
       "      <td>0.431943</td>\n",
       "    </tr>\n",
       "    <tr>\n",
       "      <th>39</th>\n",
       "      <td>12420</td>\n",
       "      <td>Austin-Round Rock-San Marcos, TX Metro Area</td>\n",
       "      <td>2023</td>\n",
       "      <td>415896.0</td>\n",
       "      <td>not rent burdened</td>\n",
       "      <td>196913.0</td>\n",
       "      <td>0.473467</td>\n",
       "    </tr>\n",
       "    <tr>\n",
       "      <th>60</th>\n",
       "      <td>19820</td>\n",
       "      <td>Detroit-Warren-Dearborn, MI Metro Area</td>\n",
       "      <td>2023</td>\n",
       "      <td>455084.0</td>\n",
       "      <td>not rent burdened</td>\n",
       "      <td>217158.0</td>\n",
       "      <td>0.477182</td>\n",
       "    </tr>\n",
       "    <tr>\n",
       "      <th>81</th>\n",
       "      <td>33460</td>\n",
       "      <td>Minneapolis-St. Paul-Bloomington, MN-WI Metro ...</td>\n",
       "      <td>2023</td>\n",
       "      <td>428780.0</td>\n",
       "      <td>not rent burdened</td>\n",
       "      <td>224122.0</td>\n",
       "      <td>0.522697</td>\n",
       "    </tr>\n",
       "    <tr>\n",
       "      <th>84</th>\n",
       "      <td>35620</td>\n",
       "      <td>New York-Newark-Jersey City, NY-NJ Metro Area</td>\n",
       "      <td>2023</td>\n",
       "      <td>3482685.0</td>\n",
       "      <td>not rent burdened</td>\n",
       "      <td>1679361.0</td>\n",
       "      <td>0.482203</td>\n",
       "    </tr>\n",
       "    <tr>\n",
       "      <th>114</th>\n",
       "      <td>38060</td>\n",
       "      <td>Phoenix-Mesa-Chandler, AZ Metro Area</td>\n",
       "      <td>2023</td>\n",
       "      <td>600238.0</td>\n",
       "      <td>not rent burdened</td>\n",
       "      <td>271128.0</td>\n",
       "      <td>0.451701</td>\n",
       "    </tr>\n",
       "    <tr>\n",
       "      <th>144</th>\n",
       "      <td>41180</td>\n",
       "      <td>St. Louis, MO-IL Metro Area</td>\n",
       "      <td>2023</td>\n",
       "      <td>318502.0</td>\n",
       "      <td>not rent burdened</td>\n",
       "      <td>169502.0</td>\n",
       "      <td>0.532185</td>\n",
       "    </tr>\n",
       "    <tr>\n",
       "      <th>156</th>\n",
       "      <td>41860</td>\n",
       "      <td>San Francisco-Oakland-Fremont, CA Metro Area</td>\n",
       "      <td>2023</td>\n",
       "      <td>750585.0</td>\n",
       "      <td>not rent burdened</td>\n",
       "      <td>381777.0</td>\n",
       "      <td>0.508639</td>\n",
       "    </tr>\n",
       "    <tr>\n",
       "      <th>186</th>\n",
       "      <td>42660</td>\n",
       "      <td>Seattle-Tacoma-Bellevue, WA Metro Area</td>\n",
       "      <td>2023</td>\n",
       "      <td>634047.0</td>\n",
       "      <td>not rent burdened</td>\n",
       "      <td>322070.0</td>\n",
       "      <td>0.507959</td>\n",
       "    </tr>\n",
       "  </tbody>\n",
       "</table>\n",
       "</div>"
      ],
      "text/plain": [
       "    cbsa_code                                           msa_name  year  \\\n",
       "18      12060       Atlanta-Sandy Springs-Roswell, GA Metro Area  2023   \n",
       "39      12420        Austin-Round Rock-San Marcos, TX Metro Area  2023   \n",
       "60      19820             Detroit-Warren-Dearborn, MI Metro Area  2023   \n",
       "81      33460  Minneapolis-St. Paul-Bloomington, MN-WI Metro ...  2023   \n",
       "84      35620      New York-Newark-Jersey City, NY-NJ Metro Area  2023   \n",
       "114     38060               Phoenix-Mesa-Chandler, AZ Metro Area  2023   \n",
       "144     41180                        St. Louis, MO-IL Metro Area  2023   \n",
       "156     41860       San Francisco-Oakland-Fremont, CA Metro Area  2023   \n",
       "186     42660             Seattle-Tacoma-Bellevue, WA Metro Area  2023   \n",
       "\n",
       "     hh_total_computed  rent_burden_group   hh_count    hh_pct  \n",
       "18            733261.0  not rent burdened   316727.0  0.431943  \n",
       "39            415896.0  not rent burdened   196913.0  0.473467  \n",
       "60            455084.0  not rent burdened   217158.0  0.477182  \n",
       "81            428780.0  not rent burdened   224122.0  0.522697  \n",
       "84           3482685.0  not rent burdened  1679361.0  0.482203  \n",
       "114           600238.0  not rent burdened   271128.0  0.451701  \n",
       "144           318502.0  not rent burdened   169502.0  0.532185  \n",
       "156           750585.0  not rent burdened   381777.0  0.508639  \n",
       "186           634047.0  not rent burdened   322070.0  0.507959  "
      ]
     },
     "execution_count": 16,
     "metadata": {},
     "output_type": "execute_result"
    }
   ],
   "source": [
    "df_groups.loc[\n",
    "    (df_groups[\"year\"] == 2023) &\n",
    "    (df_groups[\"rent_burden_group\"] == \"not rent burdened\")\n",
    "]"
   ]
  },
  {
   "cell_type": "markdown",
   "id": "8b44493f-fa82-4ef4-afb9-acf7a0698356",
   "metadata": {},
   "source": [
    "### NEXT STEPS: the above table is the format I want, but clean it up (and clean up the code). clean up column names and order. then maybe I can start doing some basic visualizations with rent burden data. can ignore zillow for now."
   ]
  },
  {
   "cell_type": "code",
   "execution_count": null,
   "id": "bf37c500-7393-43df-9221-2dc8b8d7ae86",
   "metadata": {},
   "outputs": [],
   "source": []
  },
  {
   "cell_type": "code",
   "execution_count": null,
   "id": "54339605-bb84-4f02-a8f7-76b9f8cfd429",
   "metadata": {},
   "outputs": [],
   "source": []
  },
  {
   "cell_type": "code",
   "execution_count": null,
   "id": "f289e5ad-1a65-4432-9a9e-14887c5ba3f3",
   "metadata": {},
   "outputs": [],
   "source": []
  },
  {
   "cell_type": "code",
   "execution_count": null,
   "id": "14feeabf-e687-49a1-b8a7-85a2bbe55b8a",
   "metadata": {},
   "outputs": [],
   "source": []
  },
  {
   "cell_type": "code",
   "execution_count": null,
   "id": "f5e4f43a-dfbd-42ee-b7b0-36ab4b29582a",
   "metadata": {},
   "outputs": [],
   "source": []
  },
  {
   "cell_type": "code",
   "execution_count": null,
   "id": "5b1d194e-52bb-4802-8190-3f4737a4c464",
   "metadata": {},
   "outputs": [],
   "source": []
  },
  {
   "cell_type": "code",
   "execution_count": null,
   "id": "f6acab22-5953-41a1-a495-d7665f64e31d",
   "metadata": {},
   "outputs": [],
   "source": []
  },
  {
   "cell_type": "code",
   "execution_count": null,
   "id": "d8c539ac-c98c-47c0-9fe7-7055855261eb",
   "metadata": {},
   "outputs": [],
   "source": []
  },
  {
   "cell_type": "code",
   "execution_count": null,
   "id": "17db2a3e-9d71-44c2-8739-a6becb8526b1",
   "metadata": {},
   "outputs": [],
   "source": []
  },
  {
   "cell_type": "code",
   "execution_count": null,
   "id": "a93a42ab-2585-45ac-92d9-0e1f4efecde8",
   "metadata": {},
   "outputs": [],
   "source": [
    "rent_to_income_df.to_sql('rent_to_income_2023', con=engine, index=False, if_exists='replace')"
   ]
  },
  {
   "cell_type": "code",
   "execution_count": null,
   "id": "9326bde9-93ec-410b-b1b6-7506bf4a2ac3",
   "metadata": {},
   "outputs": [],
   "source": [
    "%%sql\n",
    "SELECT msa_code, msa, total_households, less_10, at_least_50, 2023 AS year\n",
    "FROM rent_to_income_23\n",
    "WHERE msa LIKE \"%seattle%\"\n",
    "    OR msa LIKE \"%san francisco%\"\n",
    "    OR msa LIKE \"%new york%\"\n",
    "    OR msa LIKE \"%atlanta%\"\n",
    "    OR msa LIKE \"%phoenix%\"\n",
    "    OR msa LIKE \"%austin%\"\n",
    "    OR msa LIKE \"%minneapolis%\"\n",
    "    OR msa LIKE \"%detroit%\"\n",
    "    OR msa LIKE \"%st. louis%\""
   ]
  }
 ],
 "metadata": {
  "kernelspec": {
   "display_name": "Python 3 (ipykernel)",
   "language": "python",
   "name": "python3"
  },
  "language_info": {
   "codemirror_mode": {
    "name": "ipython",
    "version": 3
   },
   "file_extension": ".py",
   "mimetype": "text/x-python",
   "name": "python",
   "nbconvert_exporter": "python",
   "pygments_lexer": "ipython3",
   "version": "3.11.13"
  }
 },
 "nbformat": 4,
 "nbformat_minor": 5
}
