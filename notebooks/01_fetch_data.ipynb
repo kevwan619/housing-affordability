{
 "cells": [
  {
   "cell_type": "code",
   "execution_count": null,
   "id": "3b59e4fe-da55-4a91-8fd6-2b6988344635",
   "metadata": {},
   "outputs": [],
   "source": [
    "import os\n",
    "from dotenv import load_dotenv\n",
    "from pathlib import Path"
   ]
  },
  {
   "cell_type": "code",
   "execution_count": null,
   "id": "797b1e8a-6b5f-4060-bf58-5ed9b682afb7",
   "metadata": {},
   "outputs": [],
   "source": [
    "load_dotenv()"
   ]
  },
  {
   "cell_type": "code",
   "execution_count": null,
   "id": "2cb52f3e-b18a-47aa-9a38-ae5513c546a9",
   "metadata": {},
   "outputs": [],
   "source": [
    "Path(os.getenv(\"PROJECT_ROOT\"))"
   ]
  },
  {
   "cell_type": "code",
   "execution_count": 1,
   "id": "2b53859c-7c0e-4240-af35-cfe39a942dd9",
   "metadata": {},
   "outputs": [
    {
     "name": "stdout",
     "output_type": "stream",
     "text": [
      "C:\\Projects\\housing-affordability\\data_raw\\B25070_2016.csv\n",
      "file exists\n"
     ]
    }
   ],
   "source": [
    "from haf.io_utils import fetch_census_table, test_function"
   ]
  },
  {
   "cell_type": "code",
   "execution_count": 2,
   "id": "da5a9b90-946d-46d3-ad8a-094de18ab042",
   "metadata": {},
   "outputs": [
    {
     "name": "stdout",
     "output_type": "stream",
     "text": [
      "test function!\n"
     ]
    }
   ],
   "source": [
    "test_function()"
   ]
  },
  {
   "cell_type": "code",
   "execution_count": null,
   "id": "fa4e9b89-91cf-4ead-bc95-f72b91024b9e",
   "metadata": {},
   "outputs": [],
   "source": []
  },
  {
   "cell_type": "code",
   "execution_count": null,
   "id": "a777fc4d-bfdf-4556-8f1e-fb60eb5a4fb9",
   "metadata": {},
   "outputs": [],
   "source": []
  },
  {
   "cell_type": "code",
   "execution_count": null,
   "id": "7e99d379-f741-4517-b88d-571d649ee1bd",
   "metadata": {},
   "outputs": [],
   "source": []
  },
  {
   "cell_type": "code",
   "execution_count": null,
   "id": "f2f75049-73d4-459c-a107-7eff1ba6648e",
   "metadata": {},
   "outputs": [],
   "source": [
    "os.environ[\"PYTHONPATH\"]"
   ]
  },
  {
   "cell_type": "code",
   "execution_count": null,
   "id": "6affff46-d3cc-4df1-a54d-59b7653579d9",
   "metadata": {},
   "outputs": [],
   "source": []
  },
  {
   "cell_type": "code",
   "execution_count": null,
   "id": "554d188a-bc39-421c-8ae9-8675edb694dd",
   "metadata": {},
   "outputs": [],
   "source": [
    "from pathlib import Path\n",
    "import os, sys\n",
    "\n",
    "print(\"CWD:\", Path.cwd())\n",
    "print(\"PYTHONPATH env:\", os.environ.get(\"PYTHONPATH\"))\n",
    "print(\"First 5 sys.path entries:\\n\", \"\\n \".join(sys.path[:5]))\n",
    "print(\"scriptsabc exists at repo root? \",\n",
    "      (Path(os.environ.get(\"PYTHONPATH\",\".\")) / \"scriptsabc\").exists())\n",
    "print(\"__init__ in scriptsabc? \",\n",
    "      (Path(os.environ.get(\"PYTHONPATH\",\".\")) / \"scriptsabc\" / \"__init__.py\").exists())"
   ]
  },
  {
   "cell_type": "code",
   "execution_count": null,
   "id": "4319789f-1a6a-4e0f-8a01-96ed01c8a053",
   "metadata": {},
   "outputs": [],
   "source": []
  },
  {
   "cell_type": "code",
   "execution_count": null,
   "id": "9073597a-6bb6-4a97-b1ca-cfa0585c2d9b",
   "metadata": {},
   "outputs": [],
   "source": [
    "import os, sys\n",
    "root = r\"C:\\Projects\\housing-affordability\"  # your repo root\n",
    "if root not in sys.path:\n",
    "    sys.path.insert(0, root)"
   ]
  },
  {
   "cell_type": "code",
   "execution_count": null,
   "id": "aee23bc3-9132-4566-bd5b-e439abd2daab",
   "metadata": {},
   "outputs": [],
   "source": []
  },
  {
   "cell_type": "code",
   "execution_count": null,
   "id": "5eff881c-7878-4ea1-9efa-d95824aae758",
   "metadata": {},
   "outputs": [],
   "source": []
  },
  {
   "cell_type": "code",
   "execution_count": null,
   "id": "392fc990-a7a8-4633-9d01-11f691d8668f",
   "metadata": {},
   "outputs": [],
   "source": []
  }
 ],
 "metadata": {
  "kernelspec": {
   "display_name": "Python 3 (ipykernel)",
   "language": "python",
   "name": "python3"
  },
  "language_info": {
   "codemirror_mode": {
    "name": "ipython",
    "version": 3
   },
   "file_extension": ".py",
   "mimetype": "text/x-python",
   "name": "python",
   "nbconvert_exporter": "python",
   "pygments_lexer": "ipython3",
   "version": "3.11.13"
  }
 },
 "nbformat": 4,
 "nbformat_minor": 5
}
