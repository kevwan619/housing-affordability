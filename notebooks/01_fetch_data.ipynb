{
 "cells": [
  {
   "cell_type": "markdown",
   "id": "0340d096-ff77-4ba2-ac1a-acf8de8586d6",
   "metadata": {},
   "source": [
    "# 01_fetch_data\n",
    "- Import raw Census data and save to data_raw folder\n",
    "- Check briefly that raw data looks okay"
   ]
  },
  {
   "cell_type": "code",
   "execution_count": 7,
   "id": "3b59e4fe-da55-4a91-8fd6-2b6988344635",
   "metadata": {},
   "outputs": [],
   "source": [
    "import os\n",
    "from dotenv import load_dotenv\n",
    "from pathlib import Path\n",
    "from haf.io_utils import fetch_census_table, check_table"
   ]
  },
  {
   "cell_type": "markdown",
   "id": "d1b0732d-4b64-48a2-ace9-cdd2d5282a6c",
   "metadata": {},
   "source": [
    "Load environment variables"
   ]
  },
  {
   "cell_type": "code",
   "execution_count": 8,
   "id": "6651578a-7bf7-47a0-8be0-9c5fcd19a349",
   "metadata": {},
   "outputs": [],
   "source": [
    "load_dotenv()\n",
    "PROJECT_ROOT = Path(os.getenv(\"PROJECT_ROOT\"))\n",
    "CENSUS_API_KEY = os.getenv(\"CENSUS_API_KEY\")"
   ]
  },
  {
   "cell_type": "markdown",
   "id": "d9b69a13-e618-4f13-884a-539da4886e00",
   "metadata": {},
   "source": [
    "### Import data from Census API"
   ]
  },
  {
   "cell_type": "markdown",
   "id": "845d1d5c-2caa-4c9f-a495-7e6d7fcc393c",
   "metadata": {},
   "source": [
    "#### Parameters for census import"
   ]
  },
  {
   "cell_type": "code",
   "execution_count": 9,
   "id": "a5787fc0-a2f1-4c66-9895-7a90d9bd0d52",
   "metadata": {},
   "outputs": [],
   "source": [
    "table_variables = [\n",
    "    \"NAME\",\n",
    "    \"B25070_001E\",  # Total\n",
    "    \"B25070_002E\",  # Less than 10.0\n",
    "    \"B25070_003E\",  # 10.0 to 14.9\n",
    "    \"B25070_004E\",  # 15.0 to 19.9\n",
    "    \"B25070_005E\",  # 20.0 to 24.9\n",
    "    \"B25070_006E\",  # 25.0 to 29.9\n",
    "    \"B25070_007E\",  # 30.0 to 34.9\n",
    "    \"B25070_008E\",  # 35.0 to 39.9\n",
    "    \"B25070_009E\",  # 40.0 to 49.9\n",
    "    \"B25070_010E\",  # 50.0 or more\n",
    "    \"B25070_011E\"   # Not computed\n",
    "]\n",
    "geography = \"metropolitan statistical area/micropolitan statistical area:*\"\n",
    "years = [2016, 2017, 2018, 2019, 2021, 2022, 2023]"
   ]
  },
  {
   "cell_type": "code",
   "execution_count": 10,
   "id": "90fcab74-3bad-4c39-9e2e-f917e78753a7",
   "metadata": {},
   "outputs": [
    {
     "name": "stdout",
     "output_type": "stream",
     "text": [
      "Data already exists at C:\\Projects\\housing-affordability\\data_raw\\B25070_2016.csv -- nothing changed\n",
      "Data already exists at C:\\Projects\\housing-affordability\\data_raw\\B25070_2017.csv -- nothing changed\n",
      "Data already exists at C:\\Projects\\housing-affordability\\data_raw\\B25070_2018.csv -- nothing changed\n",
      "Data already exists at C:\\Projects\\housing-affordability\\data_raw\\B25070_2019.csv -- nothing changed\n",
      "Data already exists at C:\\Projects\\housing-affordability\\data_raw\\B25070_2021.csv -- nothing changed\n",
      "Data already exists at C:\\Projects\\housing-affordability\\data_raw\\B25070_2022.csv -- nothing changed\n",
      "Data already exists at C:\\Projects\\housing-affordability\\data_raw\\B25070_2023.csv -- nothing changed\n"
     ]
    }
   ],
   "source": [
    "for year in years:\n",
    "    file_path = PROJECT_ROOT / \"data_raw\" / f\"B25070_{year}.csv\"\n",
    "    fetch_census_table(CENSUS_API_KEY, table_variables, geography, year, file_path)"
   ]
  },
  {
   "cell_type": "markdown",
   "id": "94e7af8d-9c57-4fd6-baed-c3157615cb20",
   "metadata": {},
   "source": [
    "### Sanity Check"
   ]
  },
  {
   "cell_type": "code",
   "execution_count": 11,
   "id": "7e99d379-f741-4517-b88d-571d649ee1bd",
   "metadata": {},
   "outputs": [],
   "source": [
    "check_path = PROJECT_ROOT / \"data_raw\" / \"B25070_2023.csv\"\n",
    "df = check_table(check_path)"
   ]
  },
  {
   "cell_type": "code",
   "execution_count": 12,
   "id": "4319789f-1a6a-4e0f-8a01-96ed01c8a053",
   "metadata": {},
   "outputs": [
    {
     "data": {
      "text/html": [
       "<div>\n",
       "<style scoped>\n",
       "    .dataframe tbody tr th:only-of-type {\n",
       "        vertical-align: middle;\n",
       "    }\n",
       "\n",
       "    .dataframe tbody tr th {\n",
       "        vertical-align: top;\n",
       "    }\n",
       "\n",
       "    .dataframe thead th {\n",
       "        text-align: right;\n",
       "    }\n",
       "</style>\n",
       "<table border=\"1\" class=\"dataframe\">\n",
       "  <thead>\n",
       "    <tr style=\"text-align: right;\">\n",
       "      <th></th>\n",
       "      <th>NAME</th>\n",
       "      <th>B25070_001E</th>\n",
       "      <th>B25070_002E</th>\n",
       "      <th>B25070_003E</th>\n",
       "      <th>B25070_004E</th>\n",
       "      <th>B25070_005E</th>\n",
       "      <th>B25070_006E</th>\n",
       "      <th>B25070_007E</th>\n",
       "      <th>B25070_008E</th>\n",
       "      <th>B25070_009E</th>\n",
       "      <th>B25070_010E</th>\n",
       "      <th>B25070_011E</th>\n",
       "      <th>metropolitan statistical area/micropolitan statistical area</th>\n",
       "    </tr>\n",
       "  </thead>\n",
       "  <tbody>\n",
       "    <tr>\n",
       "      <th>0</th>\n",
       "      <td>Aberdeen, WA Micro Area</td>\n",
       "      <td>7681.0</td>\n",
       "      <td>205.0</td>\n",
       "      <td>1523.0</td>\n",
       "      <td>725.0</td>\n",
       "      <td>615.0</td>\n",
       "      <td>1116.0</td>\n",
       "      <td>431.0</td>\n",
       "      <td>610.0</td>\n",
       "      <td>543.0</td>\n",
       "      <td>1512.0</td>\n",
       "      <td>401.0</td>\n",
       "      <td>10140</td>\n",
       "    </tr>\n",
       "    <tr>\n",
       "      <th>1</th>\n",
       "      <td>Abilene, TX Metro Area</td>\n",
       "      <td>25067.0</td>\n",
       "      <td>522.0</td>\n",
       "      <td>1670.0</td>\n",
       "      <td>4174.0</td>\n",
       "      <td>2302.0</td>\n",
       "      <td>1957.0</td>\n",
       "      <td>1673.0</td>\n",
       "      <td>2712.0</td>\n",
       "      <td>3262.0</td>\n",
       "      <td>4861.0</td>\n",
       "      <td>1934.0</td>\n",
       "      <td>10180</td>\n",
       "    </tr>\n",
       "    <tr>\n",
       "      <th>2</th>\n",
       "      <td>Adrian, MI Micro Area</td>\n",
       "      <td>7902.0</td>\n",
       "      <td>345.0</td>\n",
       "      <td>754.0</td>\n",
       "      <td>1255.0</td>\n",
       "      <td>432.0</td>\n",
       "      <td>451.0</td>\n",
       "      <td>1492.0</td>\n",
       "      <td>108.0</td>\n",
       "      <td>646.0</td>\n",
       "      <td>1443.0</td>\n",
       "      <td>976.0</td>\n",
       "      <td>10300</td>\n",
       "    </tr>\n",
       "    <tr>\n",
       "      <th>3</th>\n",
       "      <td>Aguadilla, PR Metro Area</td>\n",
       "      <td>30177.0</td>\n",
       "      <td>657.0</td>\n",
       "      <td>1648.0</td>\n",
       "      <td>1811.0</td>\n",
       "      <td>2330.0</td>\n",
       "      <td>815.0</td>\n",
       "      <td>1343.0</td>\n",
       "      <td>1193.0</td>\n",
       "      <td>588.0</td>\n",
       "      <td>2924.0</td>\n",
       "      <td>16868.0</td>\n",
       "      <td>10380</td>\n",
       "    </tr>\n",
       "    <tr>\n",
       "      <th>4</th>\n",
       "      <td>Akron, OH Metro Area</td>\n",
       "      <td>94990.0</td>\n",
       "      <td>3336.0</td>\n",
       "      <td>9661.0</td>\n",
       "      <td>11159.0</td>\n",
       "      <td>10435.0</td>\n",
       "      <td>9377.0</td>\n",
       "      <td>8051.0</td>\n",
       "      <td>6217.0</td>\n",
       "      <td>7753.0</td>\n",
       "      <td>23846.0</td>\n",
       "      <td>5155.0</td>\n",
       "      <td>10420</td>\n",
       "    </tr>\n",
       "  </tbody>\n",
       "</table>\n",
       "</div>"
      ],
      "text/plain": [
       "                       NAME  B25070_001E  B25070_002E  B25070_003E  \\\n",
       "0   Aberdeen, WA Micro Area       7681.0        205.0       1523.0   \n",
       "1    Abilene, TX Metro Area      25067.0        522.0       1670.0   \n",
       "2     Adrian, MI Micro Area       7902.0        345.0        754.0   \n",
       "3  Aguadilla, PR Metro Area      30177.0        657.0       1648.0   \n",
       "4      Akron, OH Metro Area      94990.0       3336.0       9661.0   \n",
       "\n",
       "   B25070_004E  B25070_005E  B25070_006E  B25070_007E  B25070_008E  \\\n",
       "0        725.0        615.0       1116.0        431.0        610.0   \n",
       "1       4174.0       2302.0       1957.0       1673.0       2712.0   \n",
       "2       1255.0        432.0        451.0       1492.0        108.0   \n",
       "3       1811.0       2330.0        815.0       1343.0       1193.0   \n",
       "4      11159.0      10435.0       9377.0       8051.0       6217.0   \n",
       "\n",
       "   B25070_009E  B25070_010E  B25070_011E  \\\n",
       "0        543.0       1512.0        401.0   \n",
       "1       3262.0       4861.0       1934.0   \n",
       "2        646.0       1443.0        976.0   \n",
       "3        588.0       2924.0      16868.0   \n",
       "4       7753.0      23846.0       5155.0   \n",
       "\n",
       "   metropolitan statistical area/micropolitan statistical area  \n",
       "0                                              10140            \n",
       "1                                              10180            \n",
       "2                                              10300            \n",
       "3                                              10380            \n",
       "4                                              10420            "
      ]
     },
     "execution_count": 12,
     "metadata": {},
     "output_type": "execute_result"
    }
   ],
   "source": [
    "df.head()"
   ]
  },
  {
   "cell_type": "code",
   "execution_count": null,
   "id": "5eff881c-7878-4ea1-9efa-d95824aae758",
   "metadata": {},
   "outputs": [],
   "source": []
  },
  {
   "cell_type": "code",
   "execution_count": null,
   "id": "392fc990-a7a8-4633-9d01-11f691d8668f",
   "metadata": {},
   "outputs": [],
   "source": []
  }
 ],
 "metadata": {
  "kernelspec": {
   "display_name": "Python 3 (ipykernel)",
   "language": "python",
   "name": "python3"
  },
  "language_info": {
   "codemirror_mode": {
    "name": "ipython",
    "version": 3
   },
   "file_extension": ".py",
   "mimetype": "text/x-python",
   "name": "python",
   "nbconvert_exporter": "python",
   "pygments_lexer": "ipython3",
   "version": "3.11.13"
  }
 },
 "nbformat": 4,
 "nbformat_minor": 5
}
