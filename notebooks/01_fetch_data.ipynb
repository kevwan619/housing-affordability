{
 "cells": [
  {
   "cell_type": "markdown",
   "id": "0340d096-ff77-4ba2-ac1a-acf8de8586d6",
   "metadata": {},
   "source": [
    "# 01_fetch_data\n",
    "- Import raw Census data and save to data_raw folder\n",
    "- Check briefly that raw data looks okay"
   ]
  },
  {
   "cell_type": "code",
   "execution_count": 2,
   "id": "3b59e4fe-da55-4a91-8fd6-2b6988344635",
   "metadata": {},
   "outputs": [],
   "source": [
    "import os\n",
    "from dotenv import load_dotenv\n",
    "from pathlib import Path\n",
    "from haf.io_utils import fetch_census_table, load_local_csv"
   ]
  },
  {
   "cell_type": "markdown",
   "id": "d1b0732d-4b64-48a2-ace9-cdd2d5282a6c",
   "metadata": {},
   "source": [
    "Load environment variables"
   ]
  },
  {
   "cell_type": "code",
   "execution_count": 3,
   "id": "6651578a-7bf7-47a0-8be0-9c5fcd19a349",
   "metadata": {},
   "outputs": [],
   "source": [
    "load_dotenv()\n",
    "PROJECT_ROOT = Path(os.getenv(\"PROJECT_ROOT\"))\n",
    "CENSUS_API_KEY = os.getenv(\"CENSUS_API_KEY\")"
   ]
  },
  {
   "cell_type": "markdown",
   "id": "d9b69a13-e618-4f13-884a-539da4886e00",
   "metadata": {},
   "source": [
    "### Import data from Census API"
   ]
  },
  {
   "cell_type": "markdown",
   "id": "845d1d5c-2caa-4c9f-a495-7e6d7fcc393c",
   "metadata": {},
   "source": [
    "#### Parameters for census import"
   ]
  },
  {
   "cell_type": "code",
   "execution_count": 4,
   "id": "a5787fc0-a2f1-4c66-9895-7a90d9bd0d52",
   "metadata": {},
   "outputs": [],
   "source": [
    "table_variables = [\n",
    "    \"NAME\",\n",
    "    \"B25070_001E\",  # Total\n",
    "    \"B25070_002E\",  # Less than 10.0\n",
    "    \"B25070_003E\",  # 10.0 to 14.9\n",
    "    \"B25070_004E\",  # 15.0 to 19.9\n",
    "    \"B25070_005E\",  # 20.0 to 24.9\n",
    "    \"B25070_006E\",  # 25.0 to 29.9\n",
    "    \"B25070_007E\",  # 30.0 to 34.9\n",
    "    \"B25070_008E\",  # 35.0 to 39.9\n",
    "    \"B25070_009E\",  # 40.0 to 49.9\n",
    "    \"B25070_010E\",  # 50.0 or more\n",
    "    \"B25070_011E\"   # Not computed\n",
    "]\n",
    "geography = \"metropolitan statistical area/micropolitan statistical area:*\"\n",
    "years = [2016, 2017, 2018, 2019, 2021, 2022, 2023]"
   ]
  },
  {
   "cell_type": "code",
   "execution_count": 5,
   "id": "90fcab74-3bad-4c39-9e2e-f917e78753a7",
   "metadata": {},
   "outputs": [
    {
     "name": "stdout",
     "output_type": "stream",
     "text": [
      "Data already exists at C:\\Projects\\housing-affordability\\data_raw\\B25070_2016.csv -- nothing changed\n",
      "Data already exists at C:\\Projects\\housing-affordability\\data_raw\\B25070_2017.csv -- nothing changed\n",
      "Data already exists at C:\\Projects\\housing-affordability\\data_raw\\B25070_2018.csv -- nothing changed\n",
      "Data already exists at C:\\Projects\\housing-affordability\\data_raw\\B25070_2019.csv -- nothing changed\n",
      "Data already exists at C:\\Projects\\housing-affordability\\data_raw\\B25070_2021.csv -- nothing changed\n",
      "Data already exists at C:\\Projects\\housing-affordability\\data_raw\\B25070_2022.csv -- nothing changed\n",
      "Data already exists at C:\\Projects\\housing-affordability\\data_raw\\B25070_2023.csv -- nothing changed\n"
     ]
    }
   ],
   "source": [
    "for year in years:\n",
    "    file_path = PROJECT_ROOT / \"data_raw\" / f\"B25070_{year}.csv\"\n",
    "    fetch_census_table(CENSUS_API_KEY, table_variables, geography, year, file_path)"
   ]
  },
  {
   "cell_type": "markdown",
   "id": "94e7af8d-9c57-4fd6-baed-c3157615cb20",
   "metadata": {},
   "source": [
    "### Sanity Check"
   ]
  },
  {
   "cell_type": "code",
   "execution_count": 7,
   "id": "7e99d379-f741-4517-b88d-571d649ee1bd",
   "metadata": {},
   "outputs": [],
   "source": [
    "check_path = PROJECT_ROOT / \"data_raw\" / \"B25070_2021.csv\"\n",
    "df = load_local_csv(check_path)"
   ]
  },
  {
   "cell_type": "code",
   "execution_count": 8,
   "id": "4319789f-1a6a-4e0f-8a01-96ed01c8a053",
   "metadata": {},
   "outputs": [
    {
     "data": {
      "text/html": [
       "<div>\n",
       "<style scoped>\n",
       "    .dataframe tbody tr th:only-of-type {\n",
       "        vertical-align: middle;\n",
       "    }\n",
       "\n",
       "    .dataframe tbody tr th {\n",
       "        vertical-align: top;\n",
       "    }\n",
       "\n",
       "    .dataframe thead th {\n",
       "        text-align: right;\n",
       "    }\n",
       "</style>\n",
       "<table border=\"1\" class=\"dataframe\">\n",
       "  <thead>\n",
       "    <tr style=\"text-align: right;\">\n",
       "      <th></th>\n",
       "      <th>NAME</th>\n",
       "      <th>B25070_001E</th>\n",
       "      <th>B25070_002E</th>\n",
       "      <th>B25070_003E</th>\n",
       "      <th>B25070_004E</th>\n",
       "      <th>B25070_005E</th>\n",
       "      <th>B25070_006E</th>\n",
       "      <th>B25070_007E</th>\n",
       "      <th>B25070_008E</th>\n",
       "      <th>B25070_009E</th>\n",
       "      <th>B25070_010E</th>\n",
       "      <th>B25070_011E</th>\n",
       "      <th>metropolitan statistical area/micropolitan statistical area</th>\n",
       "    </tr>\n",
       "  </thead>\n",
       "  <tbody>\n",
       "    <tr>\n",
       "      <th>0</th>\n",
       "      <td>Killeen-Temple, TX Metro Area</td>\n",
       "      <td>76338.0</td>\n",
       "      <td>3033.0</td>\n",
       "      <td>6016.0</td>\n",
       "      <td>7810.0</td>\n",
       "      <td>10188.0</td>\n",
       "      <td>9596.0</td>\n",
       "      <td>6194.0</td>\n",
       "      <td>5654.0</td>\n",
       "      <td>6410.0</td>\n",
       "      <td>16755.0</td>\n",
       "      <td>4682.0</td>\n",
       "      <td>28660</td>\n",
       "    </tr>\n",
       "    <tr>\n",
       "      <th>1</th>\n",
       "      <td>Kingsport-Bristol, TN-VA Metro Area</td>\n",
       "      <td>34503.0</td>\n",
       "      <td>2373.0</td>\n",
       "      <td>2592.0</td>\n",
       "      <td>3698.0</td>\n",
       "      <td>3892.0</td>\n",
       "      <td>3334.0</td>\n",
       "      <td>2060.0</td>\n",
       "      <td>1827.0</td>\n",
       "      <td>2706.0</td>\n",
       "      <td>6226.0</td>\n",
       "      <td>5795.0</td>\n",
       "      <td>28700</td>\n",
       "    </tr>\n",
       "    <tr>\n",
       "      <th>2</th>\n",
       "      <td>Kingston, NY Metro Area</td>\n",
       "      <td>19206.0</td>\n",
       "      <td>487.0</td>\n",
       "      <td>1788.0</td>\n",
       "      <td>2107.0</td>\n",
       "      <td>1298.0</td>\n",
       "      <td>3003.0</td>\n",
       "      <td>1439.0</td>\n",
       "      <td>571.0</td>\n",
       "      <td>1639.0</td>\n",
       "      <td>5386.0</td>\n",
       "      <td>1488.0</td>\n",
       "      <td>28740</td>\n",
       "    </tr>\n",
       "    <tr>\n",
       "      <th>3</th>\n",
       "      <td>Klamath Falls, OR Micro Area</td>\n",
       "      <td>9333.0</td>\n",
       "      <td>481.0</td>\n",
       "      <td>798.0</td>\n",
       "      <td>668.0</td>\n",
       "      <td>367.0</td>\n",
       "      <td>1044.0</td>\n",
       "      <td>704.0</td>\n",
       "      <td>772.0</td>\n",
       "      <td>462.0</td>\n",
       "      <td>3381.0</td>\n",
       "      <td>656.0</td>\n",
       "      <td>28900</td>\n",
       "    </tr>\n",
       "    <tr>\n",
       "      <th>4</th>\n",
       "      <td>Knoxville, TN Metro Area</td>\n",
       "      <td>109268.0</td>\n",
       "      <td>4826.0</td>\n",
       "      <td>11144.0</td>\n",
       "      <td>11926.0</td>\n",
       "      <td>14357.0</td>\n",
       "      <td>12755.0</td>\n",
       "      <td>9356.0</td>\n",
       "      <td>5260.0</td>\n",
       "      <td>10711.0</td>\n",
       "      <td>19976.0</td>\n",
       "      <td>8957.0</td>\n",
       "      <td>28940</td>\n",
       "    </tr>\n",
       "  </tbody>\n",
       "</table>\n",
       "</div>"
      ],
      "text/plain": [
       "                                  NAME  B25070_001E  B25070_002E  B25070_003E  \\\n",
       "0        Killeen-Temple, TX Metro Area      76338.0       3033.0       6016.0   \n",
       "1  Kingsport-Bristol, TN-VA Metro Area      34503.0       2373.0       2592.0   \n",
       "2              Kingston, NY Metro Area      19206.0        487.0       1788.0   \n",
       "3         Klamath Falls, OR Micro Area       9333.0        481.0        798.0   \n",
       "4             Knoxville, TN Metro Area     109268.0       4826.0      11144.0   \n",
       "\n",
       "   B25070_004E  B25070_005E  B25070_006E  B25070_007E  B25070_008E  \\\n",
       "0       7810.0      10188.0       9596.0       6194.0       5654.0   \n",
       "1       3698.0       3892.0       3334.0       2060.0       1827.0   \n",
       "2       2107.0       1298.0       3003.0       1439.0        571.0   \n",
       "3        668.0        367.0       1044.0        704.0        772.0   \n",
       "4      11926.0      14357.0      12755.0       9356.0       5260.0   \n",
       "\n",
       "   B25070_009E  B25070_010E  B25070_011E  \\\n",
       "0       6410.0      16755.0       4682.0   \n",
       "1       2706.0       6226.0       5795.0   \n",
       "2       1639.0       5386.0       1488.0   \n",
       "3        462.0       3381.0        656.0   \n",
       "4      10711.0      19976.0       8957.0   \n",
       "\n",
       "   metropolitan statistical area/micropolitan statistical area  \n",
       "0                                              28660            \n",
       "1                                              28700            \n",
       "2                                              28740            \n",
       "3                                              28900            \n",
       "4                                              28940            "
      ]
     },
     "execution_count": 8,
     "metadata": {},
     "output_type": "execute_result"
    }
   ],
   "source": [
    "df.head()"
   ]
  },
  {
   "cell_type": "code",
   "execution_count": null,
   "id": "5eff881c-7878-4ea1-9efa-d95824aae758",
   "metadata": {},
   "outputs": [],
   "source": []
  },
  {
   "cell_type": "code",
   "execution_count": null,
   "id": "392fc990-a7a8-4633-9d01-11f691d8668f",
   "metadata": {},
   "outputs": [],
   "source": []
  }
 ],
 "metadata": {
  "kernelspec": {
   "display_name": "Python 3 (ipykernel)",
   "language": "python",
   "name": "python3"
  },
  "language_info": {
   "codemirror_mode": {
    "name": "ipython",
    "version": 3
   },
   "file_extension": ".py",
   "mimetype": "text/x-python",
   "name": "python",
   "nbconvert_exporter": "python",
   "pygments_lexer": "ipython3",
   "version": "3.11.13"
  }
 },
 "nbformat": 4,
 "nbformat_minor": 5
}
